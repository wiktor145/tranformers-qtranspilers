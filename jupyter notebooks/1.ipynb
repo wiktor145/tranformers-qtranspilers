{
  "nbformat": 4,
  "nbformat_minor": 0,
  "metadata": {
    "colab": {
      "name": "1.ipynb",
      "provenance": [],
      "collapsed_sections": []
    },
    "kernelspec": {
      "name": "python3",
      "display_name": "Python 3"
    },
    "language_info": {
      "name": "python"
    },
    "accelerator": "GPU",
    "gpuClass": "standard",
    "widgets": {
      "application/vnd.jupyter.widget-state+json": {
        "8f7422dd61fe436a8ba7aafafd306636": {
          "model_module": "@jupyter-widgets/controls",
          "model_name": "HBoxModel",
          "model_module_version": "1.5.0",
          "state": {
            "_dom_classes": [],
            "_model_module": "@jupyter-widgets/controls",
            "_model_module_version": "1.5.0",
            "_model_name": "HBoxModel",
            "_view_count": null,
            "_view_module": "@jupyter-widgets/controls",
            "_view_module_version": "1.5.0",
            "_view_name": "HBoxView",
            "box_style": "",
            "children": [
              "IPY_MODEL_afaf5c2e522946c488eeab9e401c598b",
              "IPY_MODEL_61773d1573ae484a8b447f6ae9dd7625",
              "IPY_MODEL_d40fe85f04d54d219204fd9fba9dac7d"
            ],
            "layout": "IPY_MODEL_620e10ae1a4348cdbf73669ec22b52d1"
          }
        },
        "afaf5c2e522946c488eeab9e401c598b": {
          "model_module": "@jupyter-widgets/controls",
          "model_name": "HTMLModel",
          "model_module_version": "1.5.0",
          "state": {
            "_dom_classes": [],
            "_model_module": "@jupyter-widgets/controls",
            "_model_module_version": "1.5.0",
            "_model_name": "HTMLModel",
            "_view_count": null,
            "_view_module": "@jupyter-widgets/controls",
            "_view_module_version": "1.5.0",
            "_view_name": "HTMLView",
            "description": "",
            "description_tooltip": null,
            "layout": "IPY_MODEL_ee95873803a545dcabb577271b67ce2a",
            "placeholder": "​",
            "style": "IPY_MODEL_82ee4bfdee0e41e7a3b9e6c7fbc29943",
            "value": "Downloading: 100%"
          }
        },
        "61773d1573ae484a8b447f6ae9dd7625": {
          "model_module": "@jupyter-widgets/controls",
          "model_name": "FloatProgressModel",
          "model_module_version": "1.5.0",
          "state": {
            "_dom_classes": [],
            "_model_module": "@jupyter-widgets/controls",
            "_model_module_version": "1.5.0",
            "_model_name": "FloatProgressModel",
            "_view_count": null,
            "_view_module": "@jupyter-widgets/controls",
            "_view_module_version": "1.5.0",
            "_view_name": "ProgressView",
            "bar_style": "success",
            "description": "",
            "description_tooltip": null,
            "layout": "IPY_MODEL_c9102f69393f4331bd24b4da64c5626b",
            "max": 19,
            "min": 0,
            "orientation": "horizontal",
            "style": "IPY_MODEL_1b776db510e94b6f8b6922873fb3fde1",
            "value": 19
          }
        },
        "d40fe85f04d54d219204fd9fba9dac7d": {
          "model_module": "@jupyter-widgets/controls",
          "model_name": "HTMLModel",
          "model_module_version": "1.5.0",
          "state": {
            "_dom_classes": [],
            "_model_module": "@jupyter-widgets/controls",
            "_model_module_version": "1.5.0",
            "_model_name": "HTMLModel",
            "_view_count": null,
            "_view_module": "@jupyter-widgets/controls",
            "_view_module_version": "1.5.0",
            "_view_name": "HTMLView",
            "description": "",
            "description_tooltip": null,
            "layout": "IPY_MODEL_2a30be9428d84b9e9df8598d5eb30cf5",
            "placeholder": "​",
            "style": "IPY_MODEL_0667b6c478254aaaa0138fded66eb7b1",
            "value": " 19.0/19.0 [00:00&lt;00:00, 408B/s]"
          }
        },
        "620e10ae1a4348cdbf73669ec22b52d1": {
          "model_module": "@jupyter-widgets/base",
          "model_name": "LayoutModel",
          "model_module_version": "1.2.0",
          "state": {
            "_model_module": "@jupyter-widgets/base",
            "_model_module_version": "1.2.0",
            "_model_name": "LayoutModel",
            "_view_count": null,
            "_view_module": "@jupyter-widgets/base",
            "_view_module_version": "1.2.0",
            "_view_name": "LayoutView",
            "align_content": null,
            "align_items": null,
            "align_self": null,
            "border": null,
            "bottom": null,
            "display": null,
            "flex": null,
            "flex_flow": null,
            "grid_area": null,
            "grid_auto_columns": null,
            "grid_auto_flow": null,
            "grid_auto_rows": null,
            "grid_column": null,
            "grid_gap": null,
            "grid_row": null,
            "grid_template_areas": null,
            "grid_template_columns": null,
            "grid_template_rows": null,
            "height": null,
            "justify_content": null,
            "justify_items": null,
            "left": null,
            "margin": null,
            "max_height": null,
            "max_width": null,
            "min_height": null,
            "min_width": null,
            "object_fit": null,
            "object_position": null,
            "order": null,
            "overflow": null,
            "overflow_x": null,
            "overflow_y": null,
            "padding": null,
            "right": null,
            "top": null,
            "visibility": null,
            "width": null
          }
        },
        "ee95873803a545dcabb577271b67ce2a": {
          "model_module": "@jupyter-widgets/base",
          "model_name": "LayoutModel",
          "model_module_version": "1.2.0",
          "state": {
            "_model_module": "@jupyter-widgets/base",
            "_model_module_version": "1.2.0",
            "_model_name": "LayoutModel",
            "_view_count": null,
            "_view_module": "@jupyter-widgets/base",
            "_view_module_version": "1.2.0",
            "_view_name": "LayoutView",
            "align_content": null,
            "align_items": null,
            "align_self": null,
            "border": null,
            "bottom": null,
            "display": null,
            "flex": null,
            "flex_flow": null,
            "grid_area": null,
            "grid_auto_columns": null,
            "grid_auto_flow": null,
            "grid_auto_rows": null,
            "grid_column": null,
            "grid_gap": null,
            "grid_row": null,
            "grid_template_areas": null,
            "grid_template_columns": null,
            "grid_template_rows": null,
            "height": null,
            "justify_content": null,
            "justify_items": null,
            "left": null,
            "margin": null,
            "max_height": null,
            "max_width": null,
            "min_height": null,
            "min_width": null,
            "object_fit": null,
            "object_position": null,
            "order": null,
            "overflow": null,
            "overflow_x": null,
            "overflow_y": null,
            "padding": null,
            "right": null,
            "top": null,
            "visibility": null,
            "width": null
          }
        },
        "82ee4bfdee0e41e7a3b9e6c7fbc29943": {
          "model_module": "@jupyter-widgets/controls",
          "model_name": "DescriptionStyleModel",
          "model_module_version": "1.5.0",
          "state": {
            "_model_module": "@jupyter-widgets/controls",
            "_model_module_version": "1.5.0",
            "_model_name": "DescriptionStyleModel",
            "_view_count": null,
            "_view_module": "@jupyter-widgets/base",
            "_view_module_version": "1.2.0",
            "_view_name": "StyleView",
            "description_width": ""
          }
        },
        "c9102f69393f4331bd24b4da64c5626b": {
          "model_module": "@jupyter-widgets/base",
          "model_name": "LayoutModel",
          "model_module_version": "1.2.0",
          "state": {
            "_model_module": "@jupyter-widgets/base",
            "_model_module_version": "1.2.0",
            "_model_name": "LayoutModel",
            "_view_count": null,
            "_view_module": "@jupyter-widgets/base",
            "_view_module_version": "1.2.0",
            "_view_name": "LayoutView",
            "align_content": null,
            "align_items": null,
            "align_self": null,
            "border": null,
            "bottom": null,
            "display": null,
            "flex": null,
            "flex_flow": null,
            "grid_area": null,
            "grid_auto_columns": null,
            "grid_auto_flow": null,
            "grid_auto_rows": null,
            "grid_column": null,
            "grid_gap": null,
            "grid_row": null,
            "grid_template_areas": null,
            "grid_template_columns": null,
            "grid_template_rows": null,
            "height": null,
            "justify_content": null,
            "justify_items": null,
            "left": null,
            "margin": null,
            "max_height": null,
            "max_width": null,
            "min_height": null,
            "min_width": null,
            "object_fit": null,
            "object_position": null,
            "order": null,
            "overflow": null,
            "overflow_x": null,
            "overflow_y": null,
            "padding": null,
            "right": null,
            "top": null,
            "visibility": null,
            "width": null
          }
        },
        "1b776db510e94b6f8b6922873fb3fde1": {
          "model_module": "@jupyter-widgets/controls",
          "model_name": "ProgressStyleModel",
          "model_module_version": "1.5.0",
          "state": {
            "_model_module": "@jupyter-widgets/controls",
            "_model_module_version": "1.5.0",
            "_model_name": "ProgressStyleModel",
            "_view_count": null,
            "_view_module": "@jupyter-widgets/base",
            "_view_module_version": "1.2.0",
            "_view_name": "StyleView",
            "bar_color": null,
            "description_width": ""
          }
        },
        "2a30be9428d84b9e9df8598d5eb30cf5": {
          "model_module": "@jupyter-widgets/base",
          "model_name": "LayoutModel",
          "model_module_version": "1.2.0",
          "state": {
            "_model_module": "@jupyter-widgets/base",
            "_model_module_version": "1.2.0",
            "_model_name": "LayoutModel",
            "_view_count": null,
            "_view_module": "@jupyter-widgets/base",
            "_view_module_version": "1.2.0",
            "_view_name": "LayoutView",
            "align_content": null,
            "align_items": null,
            "align_self": null,
            "border": null,
            "bottom": null,
            "display": null,
            "flex": null,
            "flex_flow": null,
            "grid_area": null,
            "grid_auto_columns": null,
            "grid_auto_flow": null,
            "grid_auto_rows": null,
            "grid_column": null,
            "grid_gap": null,
            "grid_row": null,
            "grid_template_areas": null,
            "grid_template_columns": null,
            "grid_template_rows": null,
            "height": null,
            "justify_content": null,
            "justify_items": null,
            "left": null,
            "margin": null,
            "max_height": null,
            "max_width": null,
            "min_height": null,
            "min_width": null,
            "object_fit": null,
            "object_position": null,
            "order": null,
            "overflow": null,
            "overflow_x": null,
            "overflow_y": null,
            "padding": null,
            "right": null,
            "top": null,
            "visibility": null,
            "width": null
          }
        },
        "0667b6c478254aaaa0138fded66eb7b1": {
          "model_module": "@jupyter-widgets/controls",
          "model_name": "DescriptionStyleModel",
          "model_module_version": "1.5.0",
          "state": {
            "_model_module": "@jupyter-widgets/controls",
            "_model_module_version": "1.5.0",
            "_model_name": "DescriptionStyleModel",
            "_view_count": null,
            "_view_module": "@jupyter-widgets/base",
            "_view_module_version": "1.2.0",
            "_view_name": "StyleView",
            "description_width": ""
          }
        },
        "3da4d8bee18a4df7b2b7d3babe07613f": {
          "model_module": "@jupyter-widgets/controls",
          "model_name": "HBoxModel",
          "model_module_version": "1.5.0",
          "state": {
            "_dom_classes": [],
            "_model_module": "@jupyter-widgets/controls",
            "_model_module_version": "1.5.0",
            "_model_name": "HBoxModel",
            "_view_count": null,
            "_view_module": "@jupyter-widgets/controls",
            "_view_module_version": "1.5.0",
            "_view_name": "HBoxView",
            "box_style": "",
            "children": [
              "IPY_MODEL_8b73f7d1de64454eba96d05e7ceda971",
              "IPY_MODEL_18be68fa082a402c824260aea679a912",
              "IPY_MODEL_959c97b353e044e581160e3d4b054950"
            ],
            "layout": "IPY_MODEL_7f60874851734bd097db26b930df116e"
          }
        },
        "8b73f7d1de64454eba96d05e7ceda971": {
          "model_module": "@jupyter-widgets/controls",
          "model_name": "HTMLModel",
          "model_module_version": "1.5.0",
          "state": {
            "_dom_classes": [],
            "_model_module": "@jupyter-widgets/controls",
            "_model_module_version": "1.5.0",
            "_model_name": "HTMLModel",
            "_view_count": null,
            "_view_module": "@jupyter-widgets/controls",
            "_view_module_version": "1.5.0",
            "_view_name": "HTMLView",
            "description": "",
            "description_tooltip": null,
            "layout": "IPY_MODEL_1e7b43f639704630a8db1e0987d0c7b4",
            "placeholder": "​",
            "style": "IPY_MODEL_2c8abe44edce4927b87bc549bfff9355",
            "value": "Downloading: 100%"
          }
        },
        "18be68fa082a402c824260aea679a912": {
          "model_module": "@jupyter-widgets/controls",
          "model_name": "FloatProgressModel",
          "model_module_version": "1.5.0",
          "state": {
            "_dom_classes": [],
            "_model_module": "@jupyter-widgets/controls",
            "_model_module_version": "1.5.0",
            "_model_name": "FloatProgressModel",
            "_view_count": null,
            "_view_module": "@jupyter-widgets/controls",
            "_view_module_version": "1.5.0",
            "_view_name": "ProgressView",
            "bar_style": "success",
            "description": "",
            "description_tooltip": null,
            "layout": "IPY_MODEL_ef478ddb730247fa8a646168df63b301",
            "max": 480,
            "min": 0,
            "orientation": "horizontal",
            "style": "IPY_MODEL_ae95aa585deb4eab8828eee4c4fae095",
            "value": 480
          }
        },
        "959c97b353e044e581160e3d4b054950": {
          "model_module": "@jupyter-widgets/controls",
          "model_name": "HTMLModel",
          "model_module_version": "1.5.0",
          "state": {
            "_dom_classes": [],
            "_model_module": "@jupyter-widgets/controls",
            "_model_module_version": "1.5.0",
            "_model_name": "HTMLModel",
            "_view_count": null,
            "_view_module": "@jupyter-widgets/controls",
            "_view_module_version": "1.5.0",
            "_view_name": "HTMLView",
            "description": "",
            "description_tooltip": null,
            "layout": "IPY_MODEL_f67bb34319014f09bbb0ffcf63054f71",
            "placeholder": "​",
            "style": "IPY_MODEL_e2f5748106dc431da8b4f2e06b402751",
            "value": " 480/480 [00:00&lt;00:00, 9.95kB/s]"
          }
        },
        "7f60874851734bd097db26b930df116e": {
          "model_module": "@jupyter-widgets/base",
          "model_name": "LayoutModel",
          "model_module_version": "1.2.0",
          "state": {
            "_model_module": "@jupyter-widgets/base",
            "_model_module_version": "1.2.0",
            "_model_name": "LayoutModel",
            "_view_count": null,
            "_view_module": "@jupyter-widgets/base",
            "_view_module_version": "1.2.0",
            "_view_name": "LayoutView",
            "align_content": null,
            "align_items": null,
            "align_self": null,
            "border": null,
            "bottom": null,
            "display": null,
            "flex": null,
            "flex_flow": null,
            "grid_area": null,
            "grid_auto_columns": null,
            "grid_auto_flow": null,
            "grid_auto_rows": null,
            "grid_column": null,
            "grid_gap": null,
            "grid_row": null,
            "grid_template_areas": null,
            "grid_template_columns": null,
            "grid_template_rows": null,
            "height": null,
            "justify_content": null,
            "justify_items": null,
            "left": null,
            "margin": null,
            "max_height": null,
            "max_width": null,
            "min_height": null,
            "min_width": null,
            "object_fit": null,
            "object_position": null,
            "order": null,
            "overflow": null,
            "overflow_x": null,
            "overflow_y": null,
            "padding": null,
            "right": null,
            "top": null,
            "visibility": null,
            "width": null
          }
        },
        "1e7b43f639704630a8db1e0987d0c7b4": {
          "model_module": "@jupyter-widgets/base",
          "model_name": "LayoutModel",
          "model_module_version": "1.2.0",
          "state": {
            "_model_module": "@jupyter-widgets/base",
            "_model_module_version": "1.2.0",
            "_model_name": "LayoutModel",
            "_view_count": null,
            "_view_module": "@jupyter-widgets/base",
            "_view_module_version": "1.2.0",
            "_view_name": "LayoutView",
            "align_content": null,
            "align_items": null,
            "align_self": null,
            "border": null,
            "bottom": null,
            "display": null,
            "flex": null,
            "flex_flow": null,
            "grid_area": null,
            "grid_auto_columns": null,
            "grid_auto_flow": null,
            "grid_auto_rows": null,
            "grid_column": null,
            "grid_gap": null,
            "grid_row": null,
            "grid_template_areas": null,
            "grid_template_columns": null,
            "grid_template_rows": null,
            "height": null,
            "justify_content": null,
            "justify_items": null,
            "left": null,
            "margin": null,
            "max_height": null,
            "max_width": null,
            "min_height": null,
            "min_width": null,
            "object_fit": null,
            "object_position": null,
            "order": null,
            "overflow": null,
            "overflow_x": null,
            "overflow_y": null,
            "padding": null,
            "right": null,
            "top": null,
            "visibility": null,
            "width": null
          }
        },
        "2c8abe44edce4927b87bc549bfff9355": {
          "model_module": "@jupyter-widgets/controls",
          "model_name": "DescriptionStyleModel",
          "model_module_version": "1.5.0",
          "state": {
            "_model_module": "@jupyter-widgets/controls",
            "_model_module_version": "1.5.0",
            "_model_name": "DescriptionStyleModel",
            "_view_count": null,
            "_view_module": "@jupyter-widgets/base",
            "_view_module_version": "1.2.0",
            "_view_name": "StyleView",
            "description_width": ""
          }
        },
        "ef478ddb730247fa8a646168df63b301": {
          "model_module": "@jupyter-widgets/base",
          "model_name": "LayoutModel",
          "model_module_version": "1.2.0",
          "state": {
            "_model_module": "@jupyter-widgets/base",
            "_model_module_version": "1.2.0",
            "_model_name": "LayoutModel",
            "_view_count": null,
            "_view_module": "@jupyter-widgets/base",
            "_view_module_version": "1.2.0",
            "_view_name": "LayoutView",
            "align_content": null,
            "align_items": null,
            "align_self": null,
            "border": null,
            "bottom": null,
            "display": null,
            "flex": null,
            "flex_flow": null,
            "grid_area": null,
            "grid_auto_columns": null,
            "grid_auto_flow": null,
            "grid_auto_rows": null,
            "grid_column": null,
            "grid_gap": null,
            "grid_row": null,
            "grid_template_areas": null,
            "grid_template_columns": null,
            "grid_template_rows": null,
            "height": null,
            "justify_content": null,
            "justify_items": null,
            "left": null,
            "margin": null,
            "max_height": null,
            "max_width": null,
            "min_height": null,
            "min_width": null,
            "object_fit": null,
            "object_position": null,
            "order": null,
            "overflow": null,
            "overflow_x": null,
            "overflow_y": null,
            "padding": null,
            "right": null,
            "top": null,
            "visibility": null,
            "width": null
          }
        },
        "ae95aa585deb4eab8828eee4c4fae095": {
          "model_module": "@jupyter-widgets/controls",
          "model_name": "ProgressStyleModel",
          "model_module_version": "1.5.0",
          "state": {
            "_model_module": "@jupyter-widgets/controls",
            "_model_module_version": "1.5.0",
            "_model_name": "ProgressStyleModel",
            "_view_count": null,
            "_view_module": "@jupyter-widgets/base",
            "_view_module_version": "1.2.0",
            "_view_name": "StyleView",
            "bar_color": null,
            "description_width": ""
          }
        },
        "f67bb34319014f09bbb0ffcf63054f71": {
          "model_module": "@jupyter-widgets/base",
          "model_name": "LayoutModel",
          "model_module_version": "1.2.0",
          "state": {
            "_model_module": "@jupyter-widgets/base",
            "_model_module_version": "1.2.0",
            "_model_name": "LayoutModel",
            "_view_count": null,
            "_view_module": "@jupyter-widgets/base",
            "_view_module_version": "1.2.0",
            "_view_name": "LayoutView",
            "align_content": null,
            "align_items": null,
            "align_self": null,
            "border": null,
            "bottom": null,
            "display": null,
            "flex": null,
            "flex_flow": null,
            "grid_area": null,
            "grid_auto_columns": null,
            "grid_auto_flow": null,
            "grid_auto_rows": null,
            "grid_column": null,
            "grid_gap": null,
            "grid_row": null,
            "grid_template_areas": null,
            "grid_template_columns": null,
            "grid_template_rows": null,
            "height": null,
            "justify_content": null,
            "justify_items": null,
            "left": null,
            "margin": null,
            "max_height": null,
            "max_width": null,
            "min_height": null,
            "min_width": null,
            "object_fit": null,
            "object_position": null,
            "order": null,
            "overflow": null,
            "overflow_x": null,
            "overflow_y": null,
            "padding": null,
            "right": null,
            "top": null,
            "visibility": null,
            "width": null
          }
        },
        "e2f5748106dc431da8b4f2e06b402751": {
          "model_module": "@jupyter-widgets/controls",
          "model_name": "DescriptionStyleModel",
          "model_module_version": "1.5.0",
          "state": {
            "_model_module": "@jupyter-widgets/controls",
            "_model_module_version": "1.5.0",
            "_model_name": "DescriptionStyleModel",
            "_view_count": null,
            "_view_module": "@jupyter-widgets/base",
            "_view_module_version": "1.2.0",
            "_view_name": "StyleView",
            "description_width": ""
          }
        },
        "88c31012ab1243ff8dcfacbf634c8b5a": {
          "model_module": "@jupyter-widgets/controls",
          "model_name": "HBoxModel",
          "model_module_version": "1.5.0",
          "state": {
            "_dom_classes": [],
            "_model_module": "@jupyter-widgets/controls",
            "_model_module_version": "1.5.0",
            "_model_name": "HBoxModel",
            "_view_count": null,
            "_view_module": "@jupyter-widgets/controls",
            "_view_module_version": "1.5.0",
            "_view_name": "HBoxView",
            "box_style": "",
            "children": [
              "IPY_MODEL_778021fa41a04fbc879d7e7cd505bce0",
              "IPY_MODEL_8c67c363bb6e41b2b19e8b82dfbd3805",
              "IPY_MODEL_178430ab4fd34b94912469d5f9943fd1"
            ],
            "layout": "IPY_MODEL_5772fc89006f417d85b27ef0668e0fb5"
          }
        },
        "778021fa41a04fbc879d7e7cd505bce0": {
          "model_module": "@jupyter-widgets/controls",
          "model_name": "HTMLModel",
          "model_module_version": "1.5.0",
          "state": {
            "_dom_classes": [],
            "_model_module": "@jupyter-widgets/controls",
            "_model_module_version": "1.5.0",
            "_model_name": "HTMLModel",
            "_view_count": null,
            "_view_module": "@jupyter-widgets/controls",
            "_view_module_version": "1.5.0",
            "_view_name": "HTMLView",
            "description": "",
            "description_tooltip": null,
            "layout": "IPY_MODEL_b9391883fa8f496db6fc734a62971428",
            "placeholder": "​",
            "style": "IPY_MODEL_4b6f86bd0ac441e19fbfaa3c930a578d",
            "value": "Downloading: 100%"
          }
        },
        "8c67c363bb6e41b2b19e8b82dfbd3805": {
          "model_module": "@jupyter-widgets/controls",
          "model_name": "FloatProgressModel",
          "model_module_version": "1.5.0",
          "state": {
            "_dom_classes": [],
            "_model_module": "@jupyter-widgets/controls",
            "_model_module_version": "1.5.0",
            "_model_name": "FloatProgressModel",
            "_view_count": null,
            "_view_module": "@jupyter-widgets/controls",
            "_view_module_version": "1.5.0",
            "_view_name": "ProgressView",
            "bar_style": "success",
            "description": "",
            "description_tooltip": null,
            "layout": "IPY_MODEL_dd22baacd93947fdb643588b6c93d449",
            "max": 993805,
            "min": 0,
            "orientation": "horizontal",
            "style": "IPY_MODEL_68a6672b7a4044a6a448600e0f370f25",
            "value": 993805
          }
        },
        "178430ab4fd34b94912469d5f9943fd1": {
          "model_module": "@jupyter-widgets/controls",
          "model_name": "HTMLModel",
          "model_module_version": "1.5.0",
          "state": {
            "_dom_classes": [],
            "_model_module": "@jupyter-widgets/controls",
            "_model_module_version": "1.5.0",
            "_model_name": "HTMLModel",
            "_view_count": null,
            "_view_module": "@jupyter-widgets/controls",
            "_view_module_version": "1.5.0",
            "_view_name": "HTMLView",
            "description": "",
            "description_tooltip": null,
            "layout": "IPY_MODEL_4ae1225b20414130bce0cd1236f84849",
            "placeholder": "​",
            "style": "IPY_MODEL_47bb1e7143fe4936aee43b00e4348cc5",
            "value": " 971k/971k [00:00&lt;00:00, 14.0MB/s]"
          }
        },
        "5772fc89006f417d85b27ef0668e0fb5": {
          "model_module": "@jupyter-widgets/base",
          "model_name": "LayoutModel",
          "model_module_version": "1.2.0",
          "state": {
            "_model_module": "@jupyter-widgets/base",
            "_model_module_version": "1.2.0",
            "_model_name": "LayoutModel",
            "_view_count": null,
            "_view_module": "@jupyter-widgets/base",
            "_view_module_version": "1.2.0",
            "_view_name": "LayoutView",
            "align_content": null,
            "align_items": null,
            "align_self": null,
            "border": null,
            "bottom": null,
            "display": null,
            "flex": null,
            "flex_flow": null,
            "grid_area": null,
            "grid_auto_columns": null,
            "grid_auto_flow": null,
            "grid_auto_rows": null,
            "grid_column": null,
            "grid_gap": null,
            "grid_row": null,
            "grid_template_areas": null,
            "grid_template_columns": null,
            "grid_template_rows": null,
            "height": null,
            "justify_content": null,
            "justify_items": null,
            "left": null,
            "margin": null,
            "max_height": null,
            "max_width": null,
            "min_height": null,
            "min_width": null,
            "object_fit": null,
            "object_position": null,
            "order": null,
            "overflow": null,
            "overflow_x": null,
            "overflow_y": null,
            "padding": null,
            "right": null,
            "top": null,
            "visibility": null,
            "width": null
          }
        },
        "b9391883fa8f496db6fc734a62971428": {
          "model_module": "@jupyter-widgets/base",
          "model_name": "LayoutModel",
          "model_module_version": "1.2.0",
          "state": {
            "_model_module": "@jupyter-widgets/base",
            "_model_module_version": "1.2.0",
            "_model_name": "LayoutModel",
            "_view_count": null,
            "_view_module": "@jupyter-widgets/base",
            "_view_module_version": "1.2.0",
            "_view_name": "LayoutView",
            "align_content": null,
            "align_items": null,
            "align_self": null,
            "border": null,
            "bottom": null,
            "display": null,
            "flex": null,
            "flex_flow": null,
            "grid_area": null,
            "grid_auto_columns": null,
            "grid_auto_flow": null,
            "grid_auto_rows": null,
            "grid_column": null,
            "grid_gap": null,
            "grid_row": null,
            "grid_template_areas": null,
            "grid_template_columns": null,
            "grid_template_rows": null,
            "height": null,
            "justify_content": null,
            "justify_items": null,
            "left": null,
            "margin": null,
            "max_height": null,
            "max_width": null,
            "min_height": null,
            "min_width": null,
            "object_fit": null,
            "object_position": null,
            "order": null,
            "overflow": null,
            "overflow_x": null,
            "overflow_y": null,
            "padding": null,
            "right": null,
            "top": null,
            "visibility": null,
            "width": null
          }
        },
        "4b6f86bd0ac441e19fbfaa3c930a578d": {
          "model_module": "@jupyter-widgets/controls",
          "model_name": "DescriptionStyleModel",
          "model_module_version": "1.5.0",
          "state": {
            "_model_module": "@jupyter-widgets/controls",
            "_model_module_version": "1.5.0",
            "_model_name": "DescriptionStyleModel",
            "_view_count": null,
            "_view_module": "@jupyter-widgets/base",
            "_view_module_version": "1.2.0",
            "_view_name": "StyleView",
            "description_width": ""
          }
        },
        "dd22baacd93947fdb643588b6c93d449": {
          "model_module": "@jupyter-widgets/base",
          "model_name": "LayoutModel",
          "model_module_version": "1.2.0",
          "state": {
            "_model_module": "@jupyter-widgets/base",
            "_model_module_version": "1.2.0",
            "_model_name": "LayoutModel",
            "_view_count": null,
            "_view_module": "@jupyter-widgets/base",
            "_view_module_version": "1.2.0",
            "_view_name": "LayoutView",
            "align_content": null,
            "align_items": null,
            "align_self": null,
            "border": null,
            "bottom": null,
            "display": null,
            "flex": null,
            "flex_flow": null,
            "grid_area": null,
            "grid_auto_columns": null,
            "grid_auto_flow": null,
            "grid_auto_rows": null,
            "grid_column": null,
            "grid_gap": null,
            "grid_row": null,
            "grid_template_areas": null,
            "grid_template_columns": null,
            "grid_template_rows": null,
            "height": null,
            "justify_content": null,
            "justify_items": null,
            "left": null,
            "margin": null,
            "max_height": null,
            "max_width": null,
            "min_height": null,
            "min_width": null,
            "object_fit": null,
            "object_position": null,
            "order": null,
            "overflow": null,
            "overflow_x": null,
            "overflow_y": null,
            "padding": null,
            "right": null,
            "top": null,
            "visibility": null,
            "width": null
          }
        },
        "68a6672b7a4044a6a448600e0f370f25": {
          "model_module": "@jupyter-widgets/controls",
          "model_name": "ProgressStyleModel",
          "model_module_version": "1.5.0",
          "state": {
            "_model_module": "@jupyter-widgets/controls",
            "_model_module_version": "1.5.0",
            "_model_name": "ProgressStyleModel",
            "_view_count": null,
            "_view_module": "@jupyter-widgets/base",
            "_view_module_version": "1.2.0",
            "_view_name": "StyleView",
            "bar_color": null,
            "description_width": ""
          }
        },
        "4ae1225b20414130bce0cd1236f84849": {
          "model_module": "@jupyter-widgets/base",
          "model_name": "LayoutModel",
          "model_module_version": "1.2.0",
          "state": {
            "_model_module": "@jupyter-widgets/base",
            "_model_module_version": "1.2.0",
            "_model_name": "LayoutModel",
            "_view_count": null,
            "_view_module": "@jupyter-widgets/base",
            "_view_module_version": "1.2.0",
            "_view_name": "LayoutView",
            "align_content": null,
            "align_items": null,
            "align_self": null,
            "border": null,
            "bottom": null,
            "display": null,
            "flex": null,
            "flex_flow": null,
            "grid_area": null,
            "grid_auto_columns": null,
            "grid_auto_flow": null,
            "grid_auto_rows": null,
            "grid_column": null,
            "grid_gap": null,
            "grid_row": null,
            "grid_template_areas": null,
            "grid_template_columns": null,
            "grid_template_rows": null,
            "height": null,
            "justify_content": null,
            "justify_items": null,
            "left": null,
            "margin": null,
            "max_height": null,
            "max_width": null,
            "min_height": null,
            "min_width": null,
            "object_fit": null,
            "object_position": null,
            "order": null,
            "overflow": null,
            "overflow_x": null,
            "overflow_y": null,
            "padding": null,
            "right": null,
            "top": null,
            "visibility": null,
            "width": null
          }
        },
        "47bb1e7143fe4936aee43b00e4348cc5": {
          "model_module": "@jupyter-widgets/controls",
          "model_name": "DescriptionStyleModel",
          "model_module_version": "1.5.0",
          "state": {
            "_model_module": "@jupyter-widgets/controls",
            "_model_module_version": "1.5.0",
            "_model_name": "DescriptionStyleModel",
            "_view_count": null,
            "_view_module": "@jupyter-widgets/base",
            "_view_module_version": "1.2.0",
            "_view_name": "StyleView",
            "description_width": ""
          }
        },
        "bb84f152e5cd475b9cc43845f71b0063": {
          "model_module": "@jupyter-widgets/controls",
          "model_name": "HBoxModel",
          "model_module_version": "1.5.0",
          "state": {
            "_dom_classes": [],
            "_model_module": "@jupyter-widgets/controls",
            "_model_module_version": "1.5.0",
            "_model_name": "HBoxModel",
            "_view_count": null,
            "_view_module": "@jupyter-widgets/controls",
            "_view_module_version": "1.5.0",
            "_view_name": "HBoxView",
            "box_style": "",
            "children": [
              "IPY_MODEL_6c1c13cbcd024ab49e3f59c8126e3da7",
              "IPY_MODEL_6647d5f7e44f4825a019897f77dc7f19",
              "IPY_MODEL_9e33c10808534c1d9d913633d813f01b"
            ],
            "layout": "IPY_MODEL_adf759df90bd4c7c971d858cc092beb2"
          }
        },
        "6c1c13cbcd024ab49e3f59c8126e3da7": {
          "model_module": "@jupyter-widgets/controls",
          "model_name": "HTMLModel",
          "model_module_version": "1.5.0",
          "state": {
            "_dom_classes": [],
            "_model_module": "@jupyter-widgets/controls",
            "_model_module_version": "1.5.0",
            "_model_name": "HTMLModel",
            "_view_count": null,
            "_view_module": "@jupyter-widgets/controls",
            "_view_module_version": "1.5.0",
            "_view_name": "HTMLView",
            "description": "",
            "description_tooltip": null,
            "layout": "IPY_MODEL_1feaed6ed8b54f3189f0875ab1a8f38b",
            "placeholder": "​",
            "style": "IPY_MODEL_922db791b2154a40b4dfe54776a685f7",
            "value": "Downloading: 100%"
          }
        },
        "6647d5f7e44f4825a019897f77dc7f19": {
          "model_module": "@jupyter-widgets/controls",
          "model_name": "FloatProgressModel",
          "model_module_version": "1.5.0",
          "state": {
            "_dom_classes": [],
            "_model_module": "@jupyter-widgets/controls",
            "_model_module_version": "1.5.0",
            "_model_name": "FloatProgressModel",
            "_view_count": null,
            "_view_module": "@jupyter-widgets/controls",
            "_view_module_version": "1.5.0",
            "_view_name": "ProgressView",
            "bar_style": "success",
            "description": "",
            "description_tooltip": null,
            "layout": "IPY_MODEL_078e0632743e4f0691549ef6d88694cf",
            "max": 482532,
            "min": 0,
            "orientation": "horizontal",
            "style": "IPY_MODEL_0ee0bca09fc840678756e9375cd15da6",
            "value": 482532
          }
        },
        "9e33c10808534c1d9d913633d813f01b": {
          "model_module": "@jupyter-widgets/controls",
          "model_name": "HTMLModel",
          "model_module_version": "1.5.0",
          "state": {
            "_dom_classes": [],
            "_model_module": "@jupyter-widgets/controls",
            "_model_module_version": "1.5.0",
            "_model_name": "HTMLModel",
            "_view_count": null,
            "_view_module": "@jupyter-widgets/controls",
            "_view_module_version": "1.5.0",
            "_view_name": "HTMLView",
            "description": "",
            "description_tooltip": null,
            "layout": "IPY_MODEL_62dee92e191e4cc6a7ed064a57b0dbbc",
            "placeholder": "​",
            "style": "IPY_MODEL_cbb6484d832f44cea07883462e1f217c",
            "value": " 471k/471k [00:00&lt;00:00, 9.25MB/s]"
          }
        },
        "adf759df90bd4c7c971d858cc092beb2": {
          "model_module": "@jupyter-widgets/base",
          "model_name": "LayoutModel",
          "model_module_version": "1.2.0",
          "state": {
            "_model_module": "@jupyter-widgets/base",
            "_model_module_version": "1.2.0",
            "_model_name": "LayoutModel",
            "_view_count": null,
            "_view_module": "@jupyter-widgets/base",
            "_view_module_version": "1.2.0",
            "_view_name": "LayoutView",
            "align_content": null,
            "align_items": null,
            "align_self": null,
            "border": null,
            "bottom": null,
            "display": null,
            "flex": null,
            "flex_flow": null,
            "grid_area": null,
            "grid_auto_columns": null,
            "grid_auto_flow": null,
            "grid_auto_rows": null,
            "grid_column": null,
            "grid_gap": null,
            "grid_row": null,
            "grid_template_areas": null,
            "grid_template_columns": null,
            "grid_template_rows": null,
            "height": null,
            "justify_content": null,
            "justify_items": null,
            "left": null,
            "margin": null,
            "max_height": null,
            "max_width": null,
            "min_height": null,
            "min_width": null,
            "object_fit": null,
            "object_position": null,
            "order": null,
            "overflow": null,
            "overflow_x": null,
            "overflow_y": null,
            "padding": null,
            "right": null,
            "top": null,
            "visibility": null,
            "width": null
          }
        },
        "1feaed6ed8b54f3189f0875ab1a8f38b": {
          "model_module": "@jupyter-widgets/base",
          "model_name": "LayoutModel",
          "model_module_version": "1.2.0",
          "state": {
            "_model_module": "@jupyter-widgets/base",
            "_model_module_version": "1.2.0",
            "_model_name": "LayoutModel",
            "_view_count": null,
            "_view_module": "@jupyter-widgets/base",
            "_view_module_version": "1.2.0",
            "_view_name": "LayoutView",
            "align_content": null,
            "align_items": null,
            "align_self": null,
            "border": null,
            "bottom": null,
            "display": null,
            "flex": null,
            "flex_flow": null,
            "grid_area": null,
            "grid_auto_columns": null,
            "grid_auto_flow": null,
            "grid_auto_rows": null,
            "grid_column": null,
            "grid_gap": null,
            "grid_row": null,
            "grid_template_areas": null,
            "grid_template_columns": null,
            "grid_template_rows": null,
            "height": null,
            "justify_content": null,
            "justify_items": null,
            "left": null,
            "margin": null,
            "max_height": null,
            "max_width": null,
            "min_height": null,
            "min_width": null,
            "object_fit": null,
            "object_position": null,
            "order": null,
            "overflow": null,
            "overflow_x": null,
            "overflow_y": null,
            "padding": null,
            "right": null,
            "top": null,
            "visibility": null,
            "width": null
          }
        },
        "922db791b2154a40b4dfe54776a685f7": {
          "model_module": "@jupyter-widgets/controls",
          "model_name": "DescriptionStyleModel",
          "model_module_version": "1.5.0",
          "state": {
            "_model_module": "@jupyter-widgets/controls",
            "_model_module_version": "1.5.0",
            "_model_name": "DescriptionStyleModel",
            "_view_count": null,
            "_view_module": "@jupyter-widgets/base",
            "_view_module_version": "1.2.0",
            "_view_name": "StyleView",
            "description_width": ""
          }
        },
        "078e0632743e4f0691549ef6d88694cf": {
          "model_module": "@jupyter-widgets/base",
          "model_name": "LayoutModel",
          "model_module_version": "1.2.0",
          "state": {
            "_model_module": "@jupyter-widgets/base",
            "_model_module_version": "1.2.0",
            "_model_name": "LayoutModel",
            "_view_count": null,
            "_view_module": "@jupyter-widgets/base",
            "_view_module_version": "1.2.0",
            "_view_name": "LayoutView",
            "align_content": null,
            "align_items": null,
            "align_self": null,
            "border": null,
            "bottom": null,
            "display": null,
            "flex": null,
            "flex_flow": null,
            "grid_area": null,
            "grid_auto_columns": null,
            "grid_auto_flow": null,
            "grid_auto_rows": null,
            "grid_column": null,
            "grid_gap": null,
            "grid_row": null,
            "grid_template_areas": null,
            "grid_template_columns": null,
            "grid_template_rows": null,
            "height": null,
            "justify_content": null,
            "justify_items": null,
            "left": null,
            "margin": null,
            "max_height": null,
            "max_width": null,
            "min_height": null,
            "min_width": null,
            "object_fit": null,
            "object_position": null,
            "order": null,
            "overflow": null,
            "overflow_x": null,
            "overflow_y": null,
            "padding": null,
            "right": null,
            "top": null,
            "visibility": null,
            "width": null
          }
        },
        "0ee0bca09fc840678756e9375cd15da6": {
          "model_module": "@jupyter-widgets/controls",
          "model_name": "ProgressStyleModel",
          "model_module_version": "1.5.0",
          "state": {
            "_model_module": "@jupyter-widgets/controls",
            "_model_module_version": "1.5.0",
            "_model_name": "ProgressStyleModel",
            "_view_count": null,
            "_view_module": "@jupyter-widgets/base",
            "_view_module_version": "1.2.0",
            "_view_name": "StyleView",
            "bar_color": null,
            "description_width": ""
          }
        },
        "62dee92e191e4cc6a7ed064a57b0dbbc": {
          "model_module": "@jupyter-widgets/base",
          "model_name": "LayoutModel",
          "model_module_version": "1.2.0",
          "state": {
            "_model_module": "@jupyter-widgets/base",
            "_model_module_version": "1.2.0",
            "_model_name": "LayoutModel",
            "_view_count": null,
            "_view_module": "@jupyter-widgets/base",
            "_view_module_version": "1.2.0",
            "_view_name": "LayoutView",
            "align_content": null,
            "align_items": null,
            "align_self": null,
            "border": null,
            "bottom": null,
            "display": null,
            "flex": null,
            "flex_flow": null,
            "grid_area": null,
            "grid_auto_columns": null,
            "grid_auto_flow": null,
            "grid_auto_rows": null,
            "grid_column": null,
            "grid_gap": null,
            "grid_row": null,
            "grid_template_areas": null,
            "grid_template_columns": null,
            "grid_template_rows": null,
            "height": null,
            "justify_content": null,
            "justify_items": null,
            "left": null,
            "margin": null,
            "max_height": null,
            "max_width": null,
            "min_height": null,
            "min_width": null,
            "object_fit": null,
            "object_position": null,
            "order": null,
            "overflow": null,
            "overflow_x": null,
            "overflow_y": null,
            "padding": null,
            "right": null,
            "top": null,
            "visibility": null,
            "width": null
          }
        },
        "cbb6484d832f44cea07883462e1f217c": {
          "model_module": "@jupyter-widgets/controls",
          "model_name": "DescriptionStyleModel",
          "model_module_version": "1.5.0",
          "state": {
            "_model_module": "@jupyter-widgets/controls",
            "_model_module_version": "1.5.0",
            "_model_name": "DescriptionStyleModel",
            "_view_count": null,
            "_view_module": "@jupyter-widgets/base",
            "_view_module_version": "1.2.0",
            "_view_name": "StyleView",
            "description_width": ""
          }
        },
        "aaa3581fcb0b48da80f54cd37372cb46": {
          "model_module": "@jupyter-widgets/controls",
          "model_name": "HBoxModel",
          "model_module_version": "1.5.0",
          "state": {
            "_dom_classes": [],
            "_model_module": "@jupyter-widgets/controls",
            "_model_module_version": "1.5.0",
            "_model_name": "HBoxModel",
            "_view_count": null,
            "_view_module": "@jupyter-widgets/controls",
            "_view_module_version": "1.5.0",
            "_view_name": "HBoxView",
            "box_style": "",
            "children": [
              "IPY_MODEL_96c8c84d4602476ba157cf153f92ad9d",
              "IPY_MODEL_cb4cce11565a42a594eb789d8cedc896",
              "IPY_MODEL_eaec73d794cf4685b6c7319a58869b01"
            ],
            "layout": "IPY_MODEL_1f8d2b9426a34a9993f385dc5d788633"
          }
        },
        "96c8c84d4602476ba157cf153f92ad9d": {
          "model_module": "@jupyter-widgets/controls",
          "model_name": "HTMLModel",
          "model_module_version": "1.5.0",
          "state": {
            "_dom_classes": [],
            "_model_module": "@jupyter-widgets/controls",
            "_model_module_version": "1.5.0",
            "_model_name": "HTMLModel",
            "_view_count": null,
            "_view_module": "@jupyter-widgets/controls",
            "_view_module_version": "1.5.0",
            "_view_name": "HTMLView",
            "description": "",
            "description_tooltip": null,
            "layout": "IPY_MODEL_b02d3298593240558151b24c0ef1551d",
            "placeholder": "​",
            "style": "IPY_MODEL_70685354ad5b4a67b529981562d84361",
            "value": "Downloading: 100%"
          }
        },
        "cb4cce11565a42a594eb789d8cedc896": {
          "model_module": "@jupyter-widgets/controls",
          "model_name": "FloatProgressModel",
          "model_module_version": "1.5.0",
          "state": {
            "_dom_classes": [],
            "_model_module": "@jupyter-widgets/controls",
            "_model_module_version": "1.5.0",
            "_model_name": "FloatProgressModel",
            "_view_count": null,
            "_view_module": "@jupyter-widgets/controls",
            "_view_module_version": "1.5.0",
            "_view_name": "ProgressView",
            "bar_style": "success",
            "description": "",
            "description_tooltip": null,
            "layout": "IPY_MODEL_b8a1d5c155934ae9b09b9314b28bca9e",
            "max": 336407488,
            "min": 0,
            "orientation": "horizontal",
            "style": "IPY_MODEL_eca5fbb91bbd43458456ee6251c11aee",
            "value": 336407488
          }
        },
        "eaec73d794cf4685b6c7319a58869b01": {
          "model_module": "@jupyter-widgets/controls",
          "model_name": "HTMLModel",
          "model_module_version": "1.5.0",
          "state": {
            "_dom_classes": [],
            "_model_module": "@jupyter-widgets/controls",
            "_model_module_version": "1.5.0",
            "_model_name": "HTMLModel",
            "_view_count": null,
            "_view_module": "@jupyter-widgets/controls",
            "_view_module_version": "1.5.0",
            "_view_name": "HTMLView",
            "description": "",
            "description_tooltip": null,
            "layout": "IPY_MODEL_85b04c88ad894db3ae6ae074e858d413",
            "placeholder": "​",
            "style": "IPY_MODEL_4252f7576ef84c9fbe750f6ceb391abb",
            "value": " 321M/321M [00:06&lt;00:00, 58.2MB/s]"
          }
        },
        "1f8d2b9426a34a9993f385dc5d788633": {
          "model_module": "@jupyter-widgets/base",
          "model_name": "LayoutModel",
          "model_module_version": "1.2.0",
          "state": {
            "_model_module": "@jupyter-widgets/base",
            "_model_module_version": "1.2.0",
            "_model_name": "LayoutModel",
            "_view_count": null,
            "_view_module": "@jupyter-widgets/base",
            "_view_module_version": "1.2.0",
            "_view_name": "LayoutView",
            "align_content": null,
            "align_items": null,
            "align_self": null,
            "border": null,
            "bottom": null,
            "display": null,
            "flex": null,
            "flex_flow": null,
            "grid_area": null,
            "grid_auto_columns": null,
            "grid_auto_flow": null,
            "grid_auto_rows": null,
            "grid_column": null,
            "grid_gap": null,
            "grid_row": null,
            "grid_template_areas": null,
            "grid_template_columns": null,
            "grid_template_rows": null,
            "height": null,
            "justify_content": null,
            "justify_items": null,
            "left": null,
            "margin": null,
            "max_height": null,
            "max_width": null,
            "min_height": null,
            "min_width": null,
            "object_fit": null,
            "object_position": null,
            "order": null,
            "overflow": null,
            "overflow_x": null,
            "overflow_y": null,
            "padding": null,
            "right": null,
            "top": null,
            "visibility": null,
            "width": null
          }
        },
        "b02d3298593240558151b24c0ef1551d": {
          "model_module": "@jupyter-widgets/base",
          "model_name": "LayoutModel",
          "model_module_version": "1.2.0",
          "state": {
            "_model_module": "@jupyter-widgets/base",
            "_model_module_version": "1.2.0",
            "_model_name": "LayoutModel",
            "_view_count": null,
            "_view_module": "@jupyter-widgets/base",
            "_view_module_version": "1.2.0",
            "_view_name": "LayoutView",
            "align_content": null,
            "align_items": null,
            "align_self": null,
            "border": null,
            "bottom": null,
            "display": null,
            "flex": null,
            "flex_flow": null,
            "grid_area": null,
            "grid_auto_columns": null,
            "grid_auto_flow": null,
            "grid_auto_rows": null,
            "grid_column": null,
            "grid_gap": null,
            "grid_row": null,
            "grid_template_areas": null,
            "grid_template_columns": null,
            "grid_template_rows": null,
            "height": null,
            "justify_content": null,
            "justify_items": null,
            "left": null,
            "margin": null,
            "max_height": null,
            "max_width": null,
            "min_height": null,
            "min_width": null,
            "object_fit": null,
            "object_position": null,
            "order": null,
            "overflow": null,
            "overflow_x": null,
            "overflow_y": null,
            "padding": null,
            "right": null,
            "top": null,
            "visibility": null,
            "width": null
          }
        },
        "70685354ad5b4a67b529981562d84361": {
          "model_module": "@jupyter-widgets/controls",
          "model_name": "DescriptionStyleModel",
          "model_module_version": "1.5.0",
          "state": {
            "_model_module": "@jupyter-widgets/controls",
            "_model_module_version": "1.5.0",
            "_model_name": "DescriptionStyleModel",
            "_view_count": null,
            "_view_module": "@jupyter-widgets/base",
            "_view_module_version": "1.2.0",
            "_view_name": "StyleView",
            "description_width": ""
          }
        },
        "b8a1d5c155934ae9b09b9314b28bca9e": {
          "model_module": "@jupyter-widgets/base",
          "model_name": "LayoutModel",
          "model_module_version": "1.2.0",
          "state": {
            "_model_module": "@jupyter-widgets/base",
            "_model_module_version": "1.2.0",
            "_model_name": "LayoutModel",
            "_view_count": null,
            "_view_module": "@jupyter-widgets/base",
            "_view_module_version": "1.2.0",
            "_view_name": "LayoutView",
            "align_content": null,
            "align_items": null,
            "align_self": null,
            "border": null,
            "bottom": null,
            "display": null,
            "flex": null,
            "flex_flow": null,
            "grid_area": null,
            "grid_auto_columns": null,
            "grid_auto_flow": null,
            "grid_auto_rows": null,
            "grid_column": null,
            "grid_gap": null,
            "grid_row": null,
            "grid_template_areas": null,
            "grid_template_columns": null,
            "grid_template_rows": null,
            "height": null,
            "justify_content": null,
            "justify_items": null,
            "left": null,
            "margin": null,
            "max_height": null,
            "max_width": null,
            "min_height": null,
            "min_width": null,
            "object_fit": null,
            "object_position": null,
            "order": null,
            "overflow": null,
            "overflow_x": null,
            "overflow_y": null,
            "padding": null,
            "right": null,
            "top": null,
            "visibility": null,
            "width": null
          }
        },
        "eca5fbb91bbd43458456ee6251c11aee": {
          "model_module": "@jupyter-widgets/controls",
          "model_name": "ProgressStyleModel",
          "model_module_version": "1.5.0",
          "state": {
            "_model_module": "@jupyter-widgets/controls",
            "_model_module_version": "1.5.0",
            "_model_name": "ProgressStyleModel",
            "_view_count": null,
            "_view_module": "@jupyter-widgets/base",
            "_view_module_version": "1.2.0",
            "_view_name": "StyleView",
            "bar_color": null,
            "description_width": ""
          }
        },
        "85b04c88ad894db3ae6ae074e858d413": {
          "model_module": "@jupyter-widgets/base",
          "model_name": "LayoutModel",
          "model_module_version": "1.2.0",
          "state": {
            "_model_module": "@jupyter-widgets/base",
            "_model_module_version": "1.2.0",
            "_model_name": "LayoutModel",
            "_view_count": null,
            "_view_module": "@jupyter-widgets/base",
            "_view_module_version": "1.2.0",
            "_view_name": "LayoutView",
            "align_content": null,
            "align_items": null,
            "align_self": null,
            "border": null,
            "bottom": null,
            "display": null,
            "flex": null,
            "flex_flow": null,
            "grid_area": null,
            "grid_auto_columns": null,
            "grid_auto_flow": null,
            "grid_auto_rows": null,
            "grid_column": null,
            "grid_gap": null,
            "grid_row": null,
            "grid_template_areas": null,
            "grid_template_columns": null,
            "grid_template_rows": null,
            "height": null,
            "justify_content": null,
            "justify_items": null,
            "left": null,
            "margin": null,
            "max_height": null,
            "max_width": null,
            "min_height": null,
            "min_width": null,
            "object_fit": null,
            "object_position": null,
            "order": null,
            "overflow": null,
            "overflow_x": null,
            "overflow_y": null,
            "padding": null,
            "right": null,
            "top": null,
            "visibility": null,
            "width": null
          }
        },
        "4252f7576ef84c9fbe750f6ceb391abb": {
          "model_module": "@jupyter-widgets/controls",
          "model_name": "DescriptionStyleModel",
          "model_module_version": "1.5.0",
          "state": {
            "_model_module": "@jupyter-widgets/controls",
            "_model_module_version": "1.5.0",
            "_model_name": "DescriptionStyleModel",
            "_view_count": null,
            "_view_module": "@jupyter-widgets/base",
            "_view_module_version": "1.2.0",
            "_view_name": "StyleView",
            "description_width": ""
          }
        }
      }
    }
  },
  "cells": [
    {
      "cell_type": "code",
      "source": [
        "! pip install transformers\n",
        "! pip install datasets"
      ],
      "metadata": {
        "id": "YkZfBV0ZUO56",
        "colab": {
          "base_uri": "https://localhost:8080/"
        },
        "outputId": "70f47b99-c2c6-40a9-91a3-1b67dc32a3c9"
      },
      "execution_count": null,
      "outputs": [
        {
          "output_type": "stream",
          "name": "stdout",
          "text": [
            "Looking in indexes: https://pypi.org/simple, https://us-python.pkg.dev/colab-wheels/public/simple/\n",
            "Collecting transformers\n",
            "  Downloading transformers-4.20.1-py3-none-any.whl (4.4 MB)\n",
            "\u001b[K     |████████████████████████████████| 4.4 MB 29.8 MB/s \n",
            "\u001b[?25hRequirement already satisfied: numpy>=1.17 in /usr/local/lib/python3.7/dist-packages (from transformers) (1.21.6)\n",
            "Collecting tokenizers!=0.11.3,<0.13,>=0.11.1\n",
            "  Downloading tokenizers-0.12.1-cp37-cp37m-manylinux_2_12_x86_64.manylinux2010_x86_64.whl (6.6 MB)\n",
            "\u001b[K     |████████████████████████████████| 6.6 MB 53.0 MB/s \n",
            "\u001b[?25hRequirement already satisfied: tqdm>=4.27 in /usr/local/lib/python3.7/dist-packages (from transformers) (4.64.0)\n",
            "Requirement already satisfied: importlib-metadata in /usr/local/lib/python3.7/dist-packages (from transformers) (4.12.0)\n",
            "Requirement already satisfied: regex!=2019.12.17 in /usr/local/lib/python3.7/dist-packages (from transformers) (2022.6.2)\n",
            "Collecting pyyaml>=5.1\n",
            "  Downloading PyYAML-6.0-cp37-cp37m-manylinux_2_5_x86_64.manylinux1_x86_64.manylinux_2_12_x86_64.manylinux2010_x86_64.whl (596 kB)\n",
            "\u001b[K     |████████████████████████████████| 596 kB 71.0 MB/s \n",
            "\u001b[?25hRequirement already satisfied: requests in /usr/local/lib/python3.7/dist-packages (from transformers) (2.23.0)\n",
            "Requirement already satisfied: packaging>=20.0 in /usr/local/lib/python3.7/dist-packages (from transformers) (21.3)\n",
            "Collecting huggingface-hub<1.0,>=0.1.0\n",
            "  Downloading huggingface_hub-0.8.1-py3-none-any.whl (101 kB)\n",
            "\u001b[K     |████████████████████████████████| 101 kB 14.4 MB/s \n",
            "\u001b[?25hRequirement already satisfied: filelock in /usr/local/lib/python3.7/dist-packages (from transformers) (3.7.1)\n",
            "Requirement already satisfied: typing-extensions>=3.7.4.3 in /usr/local/lib/python3.7/dist-packages (from huggingface-hub<1.0,>=0.1.0->transformers) (4.1.1)\n",
            "Requirement already satisfied: pyparsing!=3.0.5,>=2.0.2 in /usr/local/lib/python3.7/dist-packages (from packaging>=20.0->transformers) (3.0.9)\n",
            "Requirement already satisfied: zipp>=0.5 in /usr/local/lib/python3.7/dist-packages (from importlib-metadata->transformers) (3.8.0)\n",
            "Requirement already satisfied: certifi>=2017.4.17 in /usr/local/lib/python3.7/dist-packages (from requests->transformers) (2022.6.15)\n",
            "Requirement already satisfied: urllib3!=1.25.0,!=1.25.1,<1.26,>=1.21.1 in /usr/local/lib/python3.7/dist-packages (from requests->transformers) (1.24.3)\n",
            "Requirement already satisfied: idna<3,>=2.5 in /usr/local/lib/python3.7/dist-packages (from requests->transformers) (2.10)\n",
            "Requirement already satisfied: chardet<4,>=3.0.2 in /usr/local/lib/python3.7/dist-packages (from requests->transformers) (3.0.4)\n",
            "Installing collected packages: pyyaml, tokenizers, huggingface-hub, transformers\n",
            "  Attempting uninstall: pyyaml\n",
            "    Found existing installation: PyYAML 3.13\n",
            "    Uninstalling PyYAML-3.13:\n",
            "      Successfully uninstalled PyYAML-3.13\n",
            "Successfully installed huggingface-hub-0.8.1 pyyaml-6.0 tokenizers-0.12.1 transformers-4.20.1\n",
            "Looking in indexes: https://pypi.org/simple, https://us-python.pkg.dev/colab-wheels/public/simple/\n",
            "Collecting datasets\n",
            "  Downloading datasets-2.3.2-py3-none-any.whl (362 kB)\n",
            "\u001b[K     |████████████████████████████████| 362 kB 31.7 MB/s \n",
            "\u001b[?25hRequirement already satisfied: numpy>=1.17 in /usr/local/lib/python3.7/dist-packages (from datasets) (1.21.6)\n",
            "Requirement already satisfied: multiprocess in /usr/local/lib/python3.7/dist-packages (from datasets) (0.70.13)\n",
            "Collecting xxhash\n",
            "  Downloading xxhash-3.0.0-cp37-cp37m-manylinux_2_17_x86_64.manylinux2014_x86_64.whl (212 kB)\n",
            "\u001b[K     |████████████████████████████████| 212 kB 69.4 MB/s \n",
            "\u001b[?25hRequirement already satisfied: huggingface-hub<1.0.0,>=0.1.0 in /usr/local/lib/python3.7/dist-packages (from datasets) (0.8.1)\n",
            "Collecting fsspec[http]>=2021.05.0\n",
            "  Downloading fsspec-2022.5.0-py3-none-any.whl (140 kB)\n",
            "\u001b[K     |████████████████████████████████| 140 kB 64.7 MB/s \n",
            "\u001b[?25hRequirement already satisfied: packaging in /usr/local/lib/python3.7/dist-packages (from datasets) (21.3)\n",
            "Collecting responses<0.19\n",
            "  Downloading responses-0.18.0-py3-none-any.whl (38 kB)\n",
            "Requirement already satisfied: importlib-metadata in /usr/local/lib/python3.7/dist-packages (from datasets) (4.12.0)\n",
            "Requirement already satisfied: tqdm>=4.62.1 in /usr/local/lib/python3.7/dist-packages (from datasets) (4.64.0)\n",
            "Requirement already satisfied: dill<0.3.6 in /usr/local/lib/python3.7/dist-packages (from datasets) (0.3.5.1)\n",
            "Requirement already satisfied: pandas in /usr/local/lib/python3.7/dist-packages (from datasets) (1.3.5)\n",
            "Requirement already satisfied: pyarrow>=6.0.0 in /usr/local/lib/python3.7/dist-packages (from datasets) (6.0.1)\n",
            "Collecting aiohttp\n",
            "  Downloading aiohttp-3.8.1-cp37-cp37m-manylinux_2_5_x86_64.manylinux1_x86_64.manylinux_2_12_x86_64.manylinux2010_x86_64.whl (1.1 MB)\n",
            "\u001b[K     |████████████████████████████████| 1.1 MB 39.4 MB/s \n",
            "\u001b[?25hRequirement already satisfied: requests>=2.19.0 in /usr/local/lib/python3.7/dist-packages (from datasets) (2.23.0)\n",
            "Requirement already satisfied: pyyaml>=5.1 in /usr/local/lib/python3.7/dist-packages (from huggingface-hub<1.0.0,>=0.1.0->datasets) (6.0)\n",
            "Requirement already satisfied: typing-extensions>=3.7.4.3 in /usr/local/lib/python3.7/dist-packages (from huggingface-hub<1.0.0,>=0.1.0->datasets) (4.1.1)\n",
            "Requirement already satisfied: filelock in /usr/local/lib/python3.7/dist-packages (from huggingface-hub<1.0.0,>=0.1.0->datasets) (3.7.1)\n",
            "Requirement already satisfied: pyparsing!=3.0.5,>=2.0.2 in /usr/local/lib/python3.7/dist-packages (from packaging->datasets) (3.0.9)\n",
            "Requirement already satisfied: idna<3,>=2.5 in /usr/local/lib/python3.7/dist-packages (from requests>=2.19.0->datasets) (2.10)\n",
            "Requirement already satisfied: certifi>=2017.4.17 in /usr/local/lib/python3.7/dist-packages (from requests>=2.19.0->datasets) (2022.6.15)\n",
            "Requirement already satisfied: urllib3!=1.25.0,!=1.25.1,<1.26,>=1.21.1 in /usr/local/lib/python3.7/dist-packages (from requests>=2.19.0->datasets) (1.24.3)\n",
            "Requirement already satisfied: chardet<4,>=3.0.2 in /usr/local/lib/python3.7/dist-packages (from requests>=2.19.0->datasets) (3.0.4)\n",
            "Collecting urllib3!=1.25.0,!=1.25.1,<1.26,>=1.21.1\n",
            "  Downloading urllib3-1.25.11-py2.py3-none-any.whl (127 kB)\n",
            "\u001b[K     |████████████████████████████████| 127 kB 70.3 MB/s \n",
            "\u001b[?25hRequirement already satisfied: charset-normalizer<3.0,>=2.0 in /usr/local/lib/python3.7/dist-packages (from aiohttp->datasets) (2.1.0)\n",
            "Collecting frozenlist>=1.1.1\n",
            "  Downloading frozenlist-1.3.0-cp37-cp37m-manylinux_2_5_x86_64.manylinux1_x86_64.manylinux_2_17_x86_64.manylinux2014_x86_64.whl (144 kB)\n",
            "\u001b[K     |████████████████████████████████| 144 kB 73.1 MB/s \n",
            "\u001b[?25hCollecting yarl<2.0,>=1.0\n",
            "  Downloading yarl-1.7.2-cp37-cp37m-manylinux_2_5_x86_64.manylinux1_x86_64.manylinux_2_12_x86_64.manylinux2010_x86_64.whl (271 kB)\n",
            "\u001b[K     |████████████████████████████████| 271 kB 74.0 MB/s \n",
            "\u001b[?25hCollecting async-timeout<5.0,>=4.0.0a3\n",
            "  Downloading async_timeout-4.0.2-py3-none-any.whl (5.8 kB)\n",
            "Collecting aiosignal>=1.1.2\n",
            "  Downloading aiosignal-1.2.0-py3-none-any.whl (8.2 kB)\n",
            "Requirement already satisfied: attrs>=17.3.0 in /usr/local/lib/python3.7/dist-packages (from aiohttp->datasets) (21.4.0)\n",
            "Collecting asynctest==0.13.0\n",
            "  Downloading asynctest-0.13.0-py3-none-any.whl (26 kB)\n",
            "Collecting multidict<7.0,>=4.5\n",
            "  Downloading multidict-6.0.2-cp37-cp37m-manylinux_2_17_x86_64.manylinux2014_x86_64.whl (94 kB)\n",
            "\u001b[K     |████████████████████████████████| 94 kB 4.1 MB/s \n",
            "\u001b[?25hRequirement already satisfied: zipp>=0.5 in /usr/local/lib/python3.7/dist-packages (from importlib-metadata->datasets) (3.8.0)\n",
            "Requirement already satisfied: python-dateutil>=2.7.3 in /usr/local/lib/python3.7/dist-packages (from pandas->datasets) (2.8.2)\n",
            "Requirement already satisfied: pytz>=2017.3 in /usr/local/lib/python3.7/dist-packages (from pandas->datasets) (2022.1)\n",
            "Requirement already satisfied: six>=1.5 in /usr/local/lib/python3.7/dist-packages (from python-dateutil>=2.7.3->pandas->datasets) (1.15.0)\n",
            "Installing collected packages: multidict, frozenlist, yarl, urllib3, asynctest, async-timeout, aiosignal, fsspec, aiohttp, xxhash, responses, datasets\n",
            "  Attempting uninstall: urllib3\n",
            "    Found existing installation: urllib3 1.24.3\n",
            "    Uninstalling urllib3-1.24.3:\n",
            "      Successfully uninstalled urllib3-1.24.3\n",
            "\u001b[31mERROR: pip's dependency resolver does not currently take into account all the packages that are installed. This behaviour is the source of the following dependency conflicts.\n",
            "datascience 0.10.6 requires folium==0.2.1, but you have folium 0.8.3 which is incompatible.\u001b[0m\n",
            "Successfully installed aiohttp-3.8.1 aiosignal-1.2.0 async-timeout-4.0.2 asynctest-0.13.0 datasets-2.3.2 frozenlist-1.3.0 fsspec-2022.5.0 multidict-6.0.2 responses-0.18.0 urllib3-1.25.11 xxhash-3.0.0 yarl-1.7.2\n"
          ]
        }
      ]
    },
    {
      "cell_type": "code",
      "source": [
        "import tensorflow as tf\n",
        "import transformers\n",
        "from transformers import DistilBertTokenizer, TFBertModel, TFDistilBertForMultipleChoice\n",
        "from transformers import TFDistilBertForSequenceClassification\n",
        "from transformers import AutoTokenizer, AutoModelForSequenceClassification, TFGPT2ForSequenceClassification, TFRobertaForSequenceClassification\n",
        "\n",
        "import json\n",
        "\n",
        "MODEL_NAME = 'distilbert-base-uncased'\n",
        "MODEL_NAME = 'huggingface/CodeBERTa-small-v1'\n",
        "BATCH_SIZE = 16\n",
        "N_EPOCHS = 3\n"
      ],
      "metadata": {
        "id": "29aGfcF0UO3x"
      },
      "execution_count": null,
      "outputs": []
    },
    {
      "cell_type": "code",
      "source": [
        "task2_x = []\n",
        "task2_y = []\n",
        "task2_test_x = []\n",
        "task2_test_y = []\n",
        "\n",
        "with open(\"train_x.txt\", 'r') as f:\n",
        "  for line in f:\n",
        "    task2_x.append(line)\n",
        "\n",
        "\n",
        "with open(\"train_y.txt\", 'r') as f:\n",
        "  for line in f:\n",
        "    task2_y.append(line)\n",
        "\n",
        "\n",
        "with open(\"test_x.txt\", 'r') as f:\n",
        "  for line in f:\n",
        "    task2_test_x.append(line)\n",
        "\n",
        "\n",
        "with open(\"test_y.txt\", 'r') as f:\n",
        "  for line in f:\n",
        "    task2_test_y.append(line)\n",
        "\n",
        "\n",
        "print(len(task2_x), len(task2_y),len(task2_test_x),len(task2_test_y))"
      ],
      "metadata": {
        "colab": {
          "base_uri": "https://localhost:8080/"
        },
        "id": "HE2NE3UAUO1V",
        "outputId": "123fbe3d-926d-42d7-f6b8-a7c2548ac015"
      },
      "execution_count": null,
      "outputs": [
        {
          "output_type": "stream",
          "name": "stdout",
          "text": [
            "17981 17981 1998 1998\n"
          ]
        }
      ]
    },
    {
      "cell_type": "code",
      "source": [
        "#tokenizer2 = DistilBertTokenizer.from_pretrained(MODEL_NAME)\n",
        "tokenizer2 = AutoTokenizer.from_pretrained(MODEL_NAME)\n",
        "# if tokenizer2.pad_token is None:\n",
        "#     tokenizer2.add_special_tokens({'pad_token': '[PAD]'})\n",
        "\n",
        "\n",
        "#tokenize the text\n",
        "train_encodings2 = tokenizer2(list(task2_x),\n",
        "                            truncation=True, \n",
        "                            padding=True)\n",
        "test_encodings2 = tokenizer2(list(task2_test_x),\n",
        "                           truncation=True, \n",
        "                           padding=True)\n",
        "\n",
        "\n",
        "\n",
        "task2_y_str = []\n",
        "task2_test_y_str = []\n",
        "\n",
        "for a in task2_y:\n",
        "  task2_y_str.append(int(a))\n",
        "\n",
        "for a in task2_test_y:\n",
        "  task2_test_y_str.append(int(a))\n",
        "\n",
        "\n",
        "train_dataset2 = tf.data.Dataset.from_tensor_slices((dict(train_encodings2),\n",
        "                                    list(task2_y_str)))\n",
        "test_dataset2 = tf.data.Dataset.from_tensor_slices((dict(test_encodings2),\n",
        "                                    list(task2_test_y_str)))\n",
        "\n",
        "\n",
        "#model2 = TFDistilBertForSequenceClassification.from_pretrained(MODEL_NAME, num_labels=3)\n",
        "model2 = TFRobertaForSequenceClassification.from_pretrained(MODEL_NAME, num_labels=3,from_pt=True)\n",
        "\n",
        "\n",
        "\n",
        "# model2 = TFGPT2ForSequenceClassification.from_pretrained(\"gpt2\", num_labels=3)\n",
        "\n",
        "#chose the optimizer\n",
        "optimizerr2 = tf.keras.optimizers.Adam(learning_rate=5e-5)\n",
        "#define the loss function \n",
        "losss2 = tf.keras.losses.SparseCategoricalCrossentropy(from_logits=True)\n",
        "#build the model\n",
        "\n",
        "\n",
        "\n",
        "model2.compile(optimizer=optimizerr2,\n",
        "              loss=losss2,\n",
        "              metrics=['accuracy'])\n",
        "\n",
        "\n",
        "# train the model \n",
        "history = model2.fit(train_dataset2.shuffle(len(task2_x)).batch(BATCH_SIZE),epochs=15, batch_size=BATCH_SIZE)\n",
        "\n"
      ],
      "metadata": {
        "colab": {
          "base_uri": "https://localhost:8080/"
        },
        "id": "Am4piJxnUOzD",
        "outputId": "6763e065-3ac5-48d2-ea89-911205494992"
      },
      "execution_count": null,
      "outputs": [
        {
          "output_type": "stream",
          "name": "stderr",
          "text": [
            "All PyTorch model weights were used when initializing TFRobertaForSequenceClassification.\n",
            "\n",
            "Some weights or buffers of the TF 2.0 model TFRobertaForSequenceClassification were not initialized from the PyTorch model and are newly initialized: ['classifier.dense.weight', 'classifier.dense.bias', 'classifier.out_proj.weight', 'classifier.out_proj.bias']\n",
            "You should probably TRAIN this model on a down-stream task to be able to use it for predictions and inference.\n"
          ]
        },
        {
          "output_type": "stream",
          "name": "stdout",
          "text": [
            "Epoch 1/15\n",
            "114/114 [==============================] - 120s 984ms/step - loss: 0.7666 - accuracy: 0.6883\n",
            "Epoch 2/15\n",
            "114/114 [==============================] - 112s 984ms/step - loss: 0.6642 - accuracy: 0.7379\n",
            "Epoch 3/15\n",
            "114/114 [==============================] - 112s 982ms/step - loss: 0.6302 - accuracy: 0.7439\n",
            "Epoch 4/15\n",
            "114/114 [==============================] - 112s 983ms/step - loss: 0.5923 - accuracy: 0.7506\n",
            "Epoch 5/15\n",
            "114/114 [==============================] - 112s 983ms/step - loss: 0.5350 - accuracy: 0.7671\n",
            "Epoch 6/15\n",
            "114/114 [==============================] - 112s 985ms/step - loss: 0.4766 - accuracy: 0.7985\n",
            "Epoch 7/15\n",
            "114/114 [==============================] - 112s 983ms/step - loss: 0.3897 - accuracy: 0.8304\n",
            "Epoch 8/15\n",
            "114/114 [==============================] - 112s 983ms/step - loss: 0.2844 - accuracy: 0.8833\n",
            "Epoch 9/15\n",
            "114/114 [==============================] - 112s 984ms/step - loss: 0.2280 - accuracy: 0.9091\n",
            "Epoch 10/15\n",
            "114/114 [==============================] - 112s 984ms/step - loss: 0.1696 - accuracy: 0.9345\n",
            "Epoch 11/15\n",
            "114/114 [==============================] - 112s 984ms/step - loss: 0.1258 - accuracy: 0.9482\n",
            "Epoch 12/15\n",
            "114/114 [==============================] - 112s 985ms/step - loss: 0.1109 - accuracy: 0.9593\n",
            "Epoch 13/15\n",
            "114/114 [==============================] - 112s 985ms/step - loss: 0.0931 - accuracy: 0.9620\n",
            "Epoch 14/15\n",
            "114/114 [==============================] - 112s 983ms/step - loss: 0.0635 - accuracy: 0.9736\n",
            "Epoch 15/15\n",
            "114/114 [==============================] - 112s 981ms/step - loss: 0.0639 - accuracy: 0.9785\n"
          ]
        }
      ]
    },
    {
      "cell_type": "code",
      "source": [
        "import numpy as np\n",
        "from sklearn.metrics import classification_report\n",
        "\n",
        "predictions1_tran = []\n",
        "predictions2_tran = []\n",
        "\n",
        "test = model2.predict(test_dataset2.batch(1)).logits\n",
        "for a in test:\n",
        "  # print(a)\n",
        "  # print(tf.nn.softmax(a, axis=0))\n",
        "  # print(tf.nn.softmax(a, axis=0).numpy())\n",
        "  # print(np.argmax(tf.nn.softmax(a, axis=0).numpy()))\n",
        "  # print(a)\n",
        "\n",
        "  predictions2_tran.append(int(np.argmax(tf.nn.softmax(a, axis=0).numpy())))"
      ],
      "metadata": {
        "id": "sVn1xLvkUOwk"
      },
      "execution_count": null,
      "outputs": []
    },
    {
      "cell_type": "code",
      "source": [
        "print(classification_report(task2_test_y_str, predictions2_tran))"
      ],
      "metadata": {
        "colab": {
          "base_uri": "https://localhost:8080/"
        },
        "id": "sOnwg487UOuI",
        "outputId": "d74e5a39-04ab-4327-a004-2048197dd8c4"
      },
      "execution_count": null,
      "outputs": [
        {
          "output_type": "stream",
          "name": "stdout",
          "text": [
            "              precision    recall  f1-score   support\n",
            "\n",
            "           0       0.60      0.41      0.48        37\n",
            "           1       0.85      0.67      0.75       139\n",
            "           2       0.24      0.62      0.34        26\n",
            "\n",
            "    accuracy                           0.61       202\n",
            "   macro avg       0.56      0.56      0.52       202\n",
            "weighted avg       0.72      0.61      0.65       202\n",
            "\n"
          ]
        }
      ]
    },
    {
      "cell_type": "code",
      "source": [
        "from sklearn.metrics import accuracy_score\n",
        "\n",
        "print(accuracy_score(task2_test_y_str, predictions2_tran))"
      ],
      "metadata": {
        "colab": {
          "base_uri": "https://localhost:8080/"
        },
        "id": "5eV0Rc8112lb",
        "outputId": "07326593-476d-4af1-e68e-c80f6a288278"
      },
      "execution_count": null,
      "outputs": [
        {
          "output_type": "stream",
          "name": "stdout",
          "text": [
            "0.6138613861386139\n"
          ]
        }
      ]
    },
    {
      "cell_type": "code",
      "source": [
        "import matplotlib.pyplot as plt\n",
        "\n",
        "plt.plot(history.history['accuracy'])\n",
        "plt.plot(history.history['loss'])\n",
        "plt.title('Model accuracy/loss')\n",
        "plt.ylabel('Accuracy/Loss')\n",
        "plt.xlabel('Epoch')\n",
        "#plt.legend(['Train', 'Test'], loc='upper left')\n",
        "plt.show()\n",
        "\n",
        "# # Plot training & validation loss values\n",
        "# plt.plot(history.history['loss'])\n",
        "# plt.plot(history.history['val_loss'])\n",
        "# plt.title('Model loss')\n",
        "# plt.ylabel('Loss')\n",
        "# plt.xlabel('Epoch')\n",
        "# plt.legend(['Train', 'Test'], loc='upper left')\n",
        "# plt.show()"
      ],
      "metadata": {
        "colab": {
          "base_uri": "https://localhost:8080/",
          "height": 295
        },
        "id": "SsE-3wLVUOm1",
        "outputId": "d1daecdd-b7fb-407c-dd04-94428535c9af"
      },
      "execution_count": null,
      "outputs": [
        {
          "output_type": "display_data",
          "data": {
            "text/plain": [
              "<Figure size 432x288 with 1 Axes>"
            ],
            "image/png": "[encoded data removed]"
          },
          "metadata": {
            "needs_background": "light"
          }
        }
      ]
    },
    {
      "cell_type": "code",
      "source": [
        "print(test_dataset2)"
      ],
      "metadata": {
        "id": "2Sk3uh8LUOkQ"
      },
      "execution_count": null,
      "outputs": []
    },
    {
      "cell_type": "code",
      "source": [
        ""
      ],
      "metadata": {
        "id": "SrOtLW2uUOh4"
      },
      "execution_count": null,
      "outputs": []
    },
    {
      "cell_type": "code",
      "source": [
        "# 5 epochs"
      ],
      "metadata": {
        "id": "UcgTfiYZUOfY"
      },
      "execution_count": null,
      "outputs": []
    },
    {
      "cell_type": "code",
      "source": [
        "#tokenizer2 = DistilBertTokenizer.from_pretrained(MODEL_NAME)\n",
        "tokenizer2 = AutoTokenizer.from_pretrained(MODEL_NAME)\n",
        "# if tokenizer2.pad_token is None:\n",
        "#     tokenizer2.add_special_tokens({'pad_token': '[PAD]'})\n",
        "\n",
        "\n",
        "#tokenize the text\n",
        "train_encodings2 = tokenizer2(list(task2_x),\n",
        "                            truncation=True, \n",
        "                            padding=True)\n",
        "test_encodings2 = tokenizer2(list(task2_test_x),\n",
        "                           truncation=True, \n",
        "                           padding=True)\n",
        "\n",
        "\n",
        "\n",
        "task2_y_str = []\n",
        "task2_test_y_str = []\n",
        "\n",
        "for a in task2_y:\n",
        "  task2_y_str.append(int(a))\n",
        "\n",
        "for a in task2_test_y:\n",
        "  task2_test_y_str.append(int(a))\n",
        "\n",
        "\n",
        "train_dataset2 = tf.data.Dataset.from_tensor_slices((dict(train_encodings2),\n",
        "                                    list(task2_y_str)))\n",
        "test_dataset2 = tf.data.Dataset.from_tensor_slices((dict(test_encodings2),\n",
        "                                    list(task2_test_y_str)))\n",
        "\n",
        "\n",
        "#model2 = TFDistilBertForSequenceClassification.from_pretrained(MODEL_NAME, num_labels=3)\n",
        "model2 = TFRobertaForSequenceClassification.from_pretrained(MODEL_NAME, num_labels=3,from_pt=True)\n",
        "\n",
        "\n",
        "\n",
        "# model2 = TFGPT2ForSequenceClassification.from_pretrained(\"gpt2\", num_labels=3)\n",
        "\n",
        "#chose the optimizer\n",
        "optimizerr2 = tf.keras.optimizers.Adam(learning_rate=5e-5)\n",
        "#define the loss function \n",
        "losss2 = tf.keras.losses.SparseCategoricalCrossentropy(from_logits=True)\n",
        "#build the model\n",
        "\n",
        "\n",
        "\n",
        "model2.compile(optimizer=optimizerr2,\n",
        "              loss=losss2,\n",
        "              metrics=['accuracy'])\n",
        "\n",
        "\n",
        "# train the model \n",
        "history = model2.fit(train_dataset2.shuffle(len(task2_x)).batch(BATCH_SIZE),epochs=5, batch_size=BATCH_SIZE)\n"
      ],
      "metadata": {
        "id": "3MtUZwiyUOc1",
        "colab": {
          "base_uri": "https://localhost:8080/"
        },
        "outputId": "499f4520-48ee-41d4-b749-eb6509d1f2eb"
      },
      "execution_count": null,
      "outputs": [
        {
          "output_type": "stream",
          "name": "stderr",
          "text": [
            "All PyTorch model weights were used when initializing TFRobertaForSequenceClassification.\n",
            "\n",
            "Some weights or buffers of the TF 2.0 model TFRobertaForSequenceClassification were not initialized from the PyTorch model and are newly initialized: ['classifier.dense.weight', 'classifier.dense.bias', 'classifier.out_proj.weight', 'classifier.out_proj.bias']\n",
            "You should probably TRAIN this model on a down-stream task to be able to use it for predictions and inference.\n"
          ]
        },
        {
          "output_type": "stream",
          "name": "stdout",
          "text": [
            "Epoch 1/5\n",
            "114/114 [==============================] - 117s 961ms/step - loss: 0.7389 - accuracy: 0.7131\n",
            "Epoch 2/5\n",
            "114/114 [==============================] - 112s 981ms/step - loss: 0.6390 - accuracy: 0.7379\n",
            "Epoch 3/5\n",
            "114/114 [==============================] - 112s 982ms/step - loss: 0.6064 - accuracy: 0.7384\n",
            "Epoch 4/5\n",
            "114/114 [==============================] - 112s 983ms/step - loss: 0.5692 - accuracy: 0.7621\n",
            "Epoch 5/5\n",
            "114/114 [==============================] - 112s 984ms/step - loss: 0.4630 - accuracy: 0.8023\n"
          ]
        }
      ]
    },
    {
      "cell_type": "code",
      "source": [
        "import numpy as np\n",
        "from sklearn.metrics import classification_report\n",
        "\n",
        "predictions1_tran = []\n",
        "predictions2_tran = []\n",
        "\n",
        "test = model2.predict(test_dataset2.batch(1)).logits\n",
        "for a in test:\n",
        "  # print(a)\n",
        "  # print(tf.nn.softmax(a, axis=0))\n",
        "  # print(tf.nn.softmax(a, axis=0).numpy())\n",
        "  # print(np.argmax(tf.nn.softmax(a, axis=0).numpy()))\n",
        "  # print(a)\n",
        "\n",
        "  predictions2_tran.append(int(np.argmax(tf.nn.softmax(a, axis=0).numpy())))"
      ],
      "metadata": {
        "id": "p4CAUTJmXWnX"
      },
      "execution_count": null,
      "outputs": []
    },
    {
      "cell_type": "code",
      "source": [
        "print(classification_report(task2_test_y_str, predictions2_tran))"
      ],
      "metadata": {
        "colab": {
          "base_uri": "https://localhost:8080/"
        },
        "id": "GSBRFNI7XWkr",
        "outputId": "7c7a55b3-6453-40dc-ce25-ea98ae0f563b"
      },
      "execution_count": null,
      "outputs": [
        {
          "output_type": "stream",
          "name": "stdout",
          "text": [
            "              precision    recall  f1-score   support\n",
            "\n",
            "           0       0.67      0.43      0.52        37\n",
            "           1       0.78      0.88      0.83       139\n",
            "           2       0.33      0.27      0.30        26\n",
            "\n",
            "    accuracy                           0.72       202\n",
            "   macro avg       0.59      0.53      0.55       202\n",
            "weighted avg       0.70      0.72      0.71       202\n",
            "\n"
          ]
        }
      ]
    },
    {
      "cell_type": "code",
      "source": [
        "from sklearn.metrics import accuracy_score\n",
        "\n",
        "print(accuracy_score(task2_test_y_str, predictions2_tran))"
      ],
      "metadata": {
        "colab": {
          "base_uri": "https://localhost:8080/"
        },
        "id": "-HWhg3eK1zx2",
        "outputId": "feed13bd-d2ee-4b9f-f1e1-a76e123c6fae"
      },
      "execution_count": null,
      "outputs": [
        {
          "output_type": "stream",
          "name": "stdout",
          "text": [
            "0.7227722772277227\n"
          ]
        }
      ]
    },
    {
      "cell_type": "code",
      "source": [
        "import matplotlib.pyplot as plt\n",
        "\n",
        "plt.plot(history.history['accuracy'])\n",
        "plt.plot(history.history['loss'])\n",
        "plt.title('Model accuracy/loss')\n",
        "plt.ylabel('Accuracy/Loss')\n",
        "plt.xlabel('Epoch')\n",
        "#plt.legend(['Train', 'Test'], loc='upper left')\n",
        "plt.show()\n",
        "\n",
        "# # Plot training & validation loss values\n",
        "# plt.plot(history.history['loss'])\n",
        "# plt.plot(history.history['val_loss'])\n",
        "# plt.title('Model loss')\n",
        "# plt.ylabel('Loss')\n",
        "# plt.xlabel('Epoch')\n",
        "# plt.legend(['Train', 'Test'], loc='upper left')\n",
        "# plt.show()"
      ],
      "metadata": {
        "colab": {
          "base_uri": "https://localhost:8080/",
          "height": 295
        },
        "id": "12W_XXpmXWh5",
        "outputId": "a7fd28f3-4727-474e-dbe8-087df64e05c6"
      },
      "execution_count": null,
      "outputs": [
        {
          "output_type": "display_data",
          "data": {
            "text/plain": [
              "<Figure size 432x288 with 1 Axes>"
            ],
            "image/png": "[encoded data removed]"
          },
          "metadata": {
            "needs_background": "light"
          }
        }
      ]
    },
    {
      "cell_type": "code",
      "source": [
        ""
      ],
      "metadata": {
        "id": "Sfk7U-tBXWe9"
      },
      "execution_count": null,
      "outputs": []
    },
    {
      "cell_type": "code",
      "source": [
        "# 10 epochs"
      ],
      "metadata": {
        "id": "HqtyPkH8XWcU"
      },
      "execution_count": null,
      "outputs": []
    },
    {
      "cell_type": "code",
      "source": [
        "#tokenizer2 = DistilBertTokenizer.from_pretrained(MODEL_NAME)\n",
        "tokenizer2 = AutoTokenizer.from_pretrained(MODEL_NAME)\n",
        "# if tokenizer2.pad_token is None:\n",
        "#     tokenizer2.add_special_tokens({'pad_token': '[PAD]'})\n",
        "\n",
        "\n",
        "#tokenize the text\n",
        "train_encodings2 = tokenizer2(list(task2_x),\n",
        "                            truncation=True, \n",
        "                            padding=True)\n",
        "test_encodings2 = tokenizer2(list(task2_test_x),\n",
        "                           truncation=True, \n",
        "                           padding=True)\n",
        "\n",
        "\n",
        "\n",
        "task2_y_str = []\n",
        "task2_test_y_str = []\n",
        "\n",
        "for a in task2_y:\n",
        "  task2_y_str.append(int(a))\n",
        "\n",
        "for a in task2_test_y:\n",
        "  task2_test_y_str.append(int(a))\n",
        "\n",
        "\n",
        "train_dataset2 = tf.data.Dataset.from_tensor_slices((dict(train_encodings2),\n",
        "                                    list(task2_y_str)))\n",
        "test_dataset2 = tf.data.Dataset.from_tensor_slices((dict(test_encodings2),\n",
        "                                    list(task2_test_y_str)))\n",
        "\n",
        "\n",
        "#model2 = TFDistilBertForSequenceClassification.from_pretrained(MODEL_NAME, num_labels=3)\n",
        "model2 = TFRobertaForSequenceClassification.from_pretrained(MODEL_NAME, num_labels=3,from_pt=True)\n",
        "\n",
        "\n",
        "\n",
        "# model2 = TFGPT2ForSequenceClassification.from_pretrained(\"gpt2\", num_labels=3)\n",
        "\n",
        "#chose the optimizer\n",
        "optimizerr2 = tf.keras.optimizers.Adam(learning_rate=5e-5)\n",
        "#define the loss function \n",
        "losss2 = tf.keras.losses.SparseCategoricalCrossentropy(from_logits=True)\n",
        "#build the model\n",
        "\n",
        "\n",
        "\n",
        "model2.compile(optimizer=optimizerr2,\n",
        "              loss=losss2,\n",
        "              metrics=['accuracy'])\n",
        "\n",
        "\n",
        "# train the model \n",
        "history = model2.fit(train_dataset2.shuffle(len(task2_x)).batch(BATCH_SIZE),epochs=10, batch_size=BATCH_SIZE)\n"
      ],
      "metadata": {
        "colab": {
          "base_uri": "https://localhost:8080/"
        },
        "id": "qH_24s7aXWZU",
        "outputId": "7d6de603-86b0-4df6-d073-9482d1df3f82"
      },
      "execution_count": null,
      "outputs": [
        {
          "output_type": "stream",
          "name": "stderr",
          "text": [
            "All PyTorch model weights were used when initializing TFRobertaForSequenceClassification.\n",
            "\n",
            "Some weights or buffers of the TF 2.0 model TFRobertaForSequenceClassification were not initialized from the PyTorch model and are newly initialized: ['classifier.dense.weight', 'classifier.dense.bias', 'classifier.out_proj.weight', 'classifier.out_proj.bias']\n",
            "You should probably TRAIN this model on a down-stream task to be able to use it for predictions and inference.\n"
          ]
        },
        {
          "output_type": "stream",
          "name": "stdout",
          "text": [
            "Epoch 1/10\n",
            "114/114 [==============================] - 119s 984ms/step - loss: 0.7404 - accuracy: 0.7203\n",
            "Epoch 2/10\n",
            "114/114 [==============================] - 112s 983ms/step - loss: 0.6593 - accuracy: 0.7285\n",
            "Epoch 3/10\n",
            "114/114 [==============================] - 112s 984ms/step - loss: 0.5982 - accuracy: 0.7439\n",
            "Epoch 4/10\n",
            "114/114 [==============================] - 112s 983ms/step - loss: 0.5625 - accuracy: 0.7594\n",
            "Epoch 5/10\n",
            "114/114 [==============================] - 112s 983ms/step - loss: 0.4715 - accuracy: 0.7930\n",
            "Epoch 6/10\n",
            "114/114 [==============================] - 112s 982ms/step - loss: 0.4234 - accuracy: 0.8227\n",
            "Epoch 7/10\n",
            "114/114 [==============================] - 112s 983ms/step - loss: 0.3590 - accuracy: 0.8519\n",
            "Epoch 8/10\n",
            "114/114 [==============================] - 112s 984ms/step - loss: 0.2744 - accuracy: 0.8871\n",
            "Epoch 9/10\n",
            "114/114 [==============================] - 112s 983ms/step - loss: 0.2162 - accuracy: 0.9157\n",
            "Epoch 10/10\n",
            "114/114 [==============================] - 112s 981ms/step - loss: 0.1822 - accuracy: 0.9295\n"
          ]
        }
      ]
    },
    {
      "cell_type": "code",
      "source": [
        "import numpy as np\n",
        "from sklearn.metrics import classification_report\n",
        "\n",
        "predictions1_tran = []\n",
        "predictions2_tran = []\n",
        "\n",
        "test = model2.predict(test_dataset2.batch(1)).logits\n",
        "for a in test:\n",
        "  # print(a)\n",
        "  # print(tf.nn.softmax(a, axis=0))\n",
        "  # print(tf.nn.softmax(a, axis=0).numpy())\n",
        "  # print(np.argmax(tf.nn.softmax(a, axis=0).numpy()))\n",
        "  # print(a)\n",
        "\n",
        "  predictions2_tran.append(int(np.argmax(tf.nn.softmax(a, axis=0).numpy())))"
      ],
      "metadata": {
        "id": "BrlHZIT8XWW3"
      },
      "execution_count": null,
      "outputs": []
    },
    {
      "cell_type": "code",
      "source": [
        "print(classification_report(task2_test_y_str, predictions2_tran))"
      ],
      "metadata": {
        "colab": {
          "base_uri": "https://localhost:8080/"
        },
        "id": "mIa3m2S1XWT_",
        "outputId": "525ee86c-df02-4fed-d5e4-f3b440fe1714"
      },
      "execution_count": null,
      "outputs": [
        {
          "output_type": "stream",
          "name": "stdout",
          "text": [
            "              precision    recall  f1-score   support\n",
            "\n",
            "           0       0.71      0.41      0.52        37\n",
            "           1       0.84      0.73      0.78       139\n",
            "           2       0.29      0.65      0.40        26\n",
            "\n",
            "    accuracy                           0.66       202\n",
            "   macro avg       0.61      0.60      0.57       202\n",
            "weighted avg       0.74      0.66      0.68       202\n",
            "\n"
          ]
        }
      ]
    },
    {
      "cell_type": "code",
      "source": [
        "from sklearn.metrics import accuracy_score\n",
        "\n",
        "print(accuracy_score(task2_test_y_str, predictions2_tran))"
      ],
      "metadata": {
        "colab": {
          "base_uri": "https://localhost:8080/"
        },
        "id": "_W6TFTIS1yLl",
        "outputId": "a2a86ed8-4e4a-41c9-930a-c50b2c8bded8"
      },
      "execution_count": null,
      "outputs": [
        {
          "output_type": "stream",
          "name": "stdout",
          "text": [
            "0.6633663366336634\n"
          ]
        }
      ]
    },
    {
      "cell_type": "code",
      "source": [
        "import matplotlib.pyplot as plt\n",
        "\n",
        "plt.plot(history.history['accuracy'])\n",
        "plt.plot(history.history['loss'])\n",
        "plt.title('Model accuracy/loss')\n",
        "plt.ylabel('Accuracy/Loss')\n",
        "plt.xlabel('Epoch')\n",
        "#plt.legend(['Train', 'Test'], loc='upper left')\n",
        "plt.show()\n",
        "\n",
        "# # Plot training & validation loss values\n",
        "# plt.plot(history.history['loss'])\n",
        "# plt.plot(history.history['val_loss'])\n",
        "# plt.title('Model loss')\n",
        "# plt.ylabel('Loss')\n",
        "# plt.xlabel('Epoch')\n",
        "# plt.legend(['Train', 'Test'], loc='upper left')\n",
        "# plt.show()"
      ],
      "metadata": {
        "colab": {
          "base_uri": "https://localhost:8080/",
          "height": 295
        },
        "id": "IBmOJtzyXWRU",
        "outputId": "36e303ed-ec7d-46b8-c9d6-32ebf17d7622"
      },
      "execution_count": null,
      "outputs": [
        {
          "output_type": "display_data",
          "data": {
            "text/plain": [
              "<Figure size 432x288 with 1 Axes>"
            ],
            "image/png": "[encoded data removed]"
          },
          "metadata": {
            "needs_background": "light"
          }
        }
      ]
    },
    {
      "cell_type": "code",
      "source": [
        ""
      ],
      "metadata": {
        "id": "MyEnMHKzXWOn"
      },
      "execution_count": null,
      "outputs": []
    },
    {
      "cell_type": "code",
      "source": [
        "# 20 epochs"
      ],
      "metadata": {
        "id": "96-7hrBvXWMD"
      },
      "execution_count": null,
      "outputs": []
    },
    {
      "cell_type": "code",
      "source": [
        "#tokenizer2 = DistilBertTokenizer.from_pretrained(MODEL_NAME)\n",
        "tokenizer2 = AutoTokenizer.from_pretrained(MODEL_NAME)\n",
        "# if tokenizer2.pad_token is None:\n",
        "#     tokenizer2.add_special_tokens({'pad_token': '[PAD]'})\n",
        "\n",
        "\n",
        "#tokenize the text\n",
        "train_encodings2 = tokenizer2(list(task2_x),\n",
        "                            truncation=True, \n",
        "                            padding=True)\n",
        "test_encodings2 = tokenizer2(list(task2_test_x),\n",
        "                           truncation=True, \n",
        "                           padding=True)\n",
        "\n",
        "\n",
        "\n",
        "task2_y_str = []\n",
        "task2_test_y_str = []\n",
        "\n",
        "for a in task2_y:\n",
        "  task2_y_str.append(int(a))\n",
        "\n",
        "for a in task2_test_y:\n",
        "  task2_test_y_str.append(int(a))\n",
        "\n",
        "\n",
        "train_dataset2 = tf.data.Dataset.from_tensor_slices((dict(train_encodings2),\n",
        "                                    list(task2_y_str)))\n",
        "test_dataset2 = tf.data.Dataset.from_tensor_slices((dict(test_encodings2),\n",
        "                                    list(task2_test_y_str)))\n",
        "\n",
        "\n",
        "#model2 = TFDistilBertForSequenceClassification.from_pretrained(MODEL_NAME, num_labels=3)\n",
        "model2 = TFRobertaForSequenceClassification.from_pretrained(MODEL_NAME, num_labels=3,from_pt=True)\n",
        "\n",
        "\n",
        "\n",
        "# model2 = TFGPT2ForSequenceClassification.from_pretrained(\"gpt2\", num_labels=3)\n",
        "\n",
        "#chose the optimizer\n",
        "optimizerr2 = tf.keras.optimizers.Adam(learning_rate=5e-5)\n",
        "#define the loss function \n",
        "losss2 = tf.keras.losses.SparseCategoricalCrossentropy(from_logits=True)\n",
        "#build the model\n",
        "\n",
        "\n",
        "\n",
        "model2.compile(optimizer=optimizerr2,\n",
        "              loss=losss2,\n",
        "              metrics=['accuracy'])\n",
        "\n",
        "\n",
        "# train the model \n",
        "history = model2.fit(train_dataset2.shuffle(len(task2_x)).batch(BATCH_SIZE),epochs=20, batch_size=BATCH_SIZE)\n"
      ],
      "metadata": {
        "colab": {
          "base_uri": "https://localhost:8080/"
        },
        "id": "H6-zJvWSXWJg",
        "outputId": "347b58d6-171a-48de-b8bd-5ccf966ff1b7"
      },
      "execution_count": null,
      "outputs": [
        {
          "output_type": "stream",
          "name": "stderr",
          "text": [
            "All PyTorch model weights were used when initializing TFRobertaForSequenceClassification.\n",
            "\n",
            "Some weights or buffers of the TF 2.0 model TFRobertaForSequenceClassification were not initialized from the PyTorch model and are newly initialized: ['classifier.dense.weight', 'classifier.dense.bias', 'classifier.out_proj.weight', 'classifier.out_proj.bias']\n",
            "You should probably TRAIN this model on a down-stream task to be able to use it for predictions and inference.\n"
          ]
        },
        {
          "output_type": "stream",
          "name": "stdout",
          "text": [
            "Epoch 1/20\n",
            "114/114 [==============================] - 120s 987ms/step - loss: 0.7520 - accuracy: 0.7109\n",
            "Epoch 2/20\n",
            "114/114 [==============================] - 112s 984ms/step - loss: 0.6834 - accuracy: 0.7291\n",
            "Epoch 3/20\n",
            "114/114 [==============================] - 113s 988ms/step - loss: 0.6347 - accuracy: 0.7412\n",
            "Epoch 4/20\n",
            "114/114 [==============================] - 112s 985ms/step - loss: 0.6066 - accuracy: 0.7445\n",
            "Epoch 5/20\n",
            "114/114 [==============================] - 112s 985ms/step - loss: 0.5185 - accuracy: 0.7924\n",
            "Epoch 6/20\n",
            "114/114 [==============================] - 113s 988ms/step - loss: 0.4518 - accuracy: 0.8106\n",
            "Epoch 7/20\n",
            "114/114 [==============================] - 112s 985ms/step - loss: 0.3937 - accuracy: 0.8199\n",
            "Epoch 8/20\n",
            "114/114 [==============================] - 112s 984ms/step - loss: 0.2890 - accuracy: 0.8827\n",
            "Epoch 9/20\n",
            "114/114 [==============================] - 112s 984ms/step - loss: 0.2277 - accuracy: 0.9108\n",
            "Epoch 10/20\n",
            "114/114 [==============================] - 113s 988ms/step - loss: 0.1656 - accuracy: 0.9367\n",
            "Epoch 11/20\n",
            "114/114 [==============================] - 112s 985ms/step - loss: 0.1655 - accuracy: 0.9334\n",
            "Epoch 12/20\n",
            "114/114 [==============================] - 113s 989ms/step - loss: 0.1134 - accuracy: 0.9570\n",
            "Epoch 13/20\n",
            "114/114 [==============================] - 113s 989ms/step - loss: 0.0710 - accuracy: 0.9708\n",
            "Epoch 14/20\n",
            "114/114 [==============================] - 113s 988ms/step - loss: 0.0543 - accuracy: 0.9780\n",
            "Epoch 15/20\n",
            "114/114 [==============================] - 112s 984ms/step - loss: 0.0625 - accuracy: 0.9780\n",
            "Epoch 16/20\n",
            "114/114 [==============================] - 113s 988ms/step - loss: 0.0555 - accuracy: 0.9835\n",
            "Epoch 17/20\n",
            "114/114 [==============================] - 113s 990ms/step - loss: 0.0507 - accuracy: 0.9824\n",
            "Epoch 18/20\n",
            "114/114 [==============================] - 113s 989ms/step - loss: 0.0493 - accuracy: 0.9818\n",
            "Epoch 19/20\n",
            "114/114 [==============================] - 113s 990ms/step - loss: 0.0478 - accuracy: 0.9824\n",
            "Epoch 20/20\n",
            "114/114 [==============================] - 113s 989ms/step - loss: 0.0603 - accuracy: 0.9774\n"
          ]
        }
      ]
    },
    {
      "cell_type": "code",
      "source": [
        "import numpy as np\n",
        "from sklearn.metrics import classification_report\n",
        "\n",
        "predictions1_tran = []\n",
        "predictions2_tran = []\n",
        "\n",
        "test = model2.predict(test_dataset2.batch(1)).logits\n",
        "for a in test:\n",
        "  # print(a)\n",
        "  # print(tf.nn.softmax(a, axis=0))\n",
        "  # print(tf.nn.softmax(a, axis=0).numpy())\n",
        "  # print(np.argmax(tf.nn.softmax(a, axis=0).numpy()))\n",
        "  # print(a)\n",
        "\n",
        "  predictions2_tran.append(int(np.argmax(tf.nn.softmax(a, axis=0).numpy())))"
      ],
      "metadata": {
        "id": "tUOgUlSSXWG9"
      },
      "execution_count": null,
      "outputs": []
    },
    {
      "cell_type": "code",
      "source": [
        "print(classification_report(task2_test_y_str, predictions2_tran))"
      ],
      "metadata": {
        "colab": {
          "base_uri": "https://localhost:8080/"
        },
        "id": "3KCZXD10XWEP",
        "outputId": "2a4577b4-f1d5-44cc-f59d-531246f9a6ba"
      },
      "execution_count": null,
      "outputs": [
        {
          "output_type": "stream",
          "name": "stdout",
          "text": [
            "              precision    recall  f1-score   support\n",
            "\n",
            "           0       0.54      0.57      0.56        35\n",
            "           1       0.80      0.83      0.81       134\n",
            "           2       0.42      0.33      0.37        33\n",
            "\n",
            "    accuracy                           0.70       202\n",
            "   macro avg       0.59      0.58      0.58       202\n",
            "weighted avg       0.69      0.70      0.70       202\n",
            "\n"
          ]
        }
      ]
    },
    {
      "cell_type": "code",
      "source": [
        "from sklearn.metrics import accuracy_score\n",
        "\n",
        "print(accuracy_score(task2_test_y_str, predictions2_tran))"
      ],
      "metadata": {
        "id": "hRPOq_Kl1q0H"
      },
      "execution_count": null,
      "outputs": []
    },
    {
      "cell_type": "code",
      "source": [
        "import matplotlib.pyplot as plt\n",
        "\n",
        "plt.plot(history.history['accuracy'])\n",
        "plt.plot(history.history['loss'])\n",
        "plt.title('Model accuracy/loss')\n",
        "plt.ylabel('Accuracy/Loss')\n",
        "plt.xlabel('Epoch')\n",
        "#plt.legend(['Train', 'Test'], loc='upper left')\n",
        "plt.show()\n",
        "\n",
        "# # Plot training & validation loss values\n",
        "# plt.plot(history.history['loss'])\n",
        "# plt.plot(history.history['val_loss'])\n",
        "# plt.title('Model loss')\n",
        "# plt.ylabel('Loss')\n",
        "# plt.xlabel('Epoch')\n",
        "# plt.legend(['Train', 'Test'], loc='upper left')\n",
        "# plt.show()"
      ],
      "metadata": {
        "colab": {
          "base_uri": "https://localhost:8080/",
          "height": 295
        },
        "id": "KiaWcLDJXuw_",
        "outputId": "d4da26b8-7f76-4562-a112-cb31e298f9d1"
      },
      "execution_count": null,
      "outputs": [
        {
          "output_type": "display_data",
          "data": {
            "text/plain": [
              "<Figure size 432x288 with 1 Axes>"
            ],
            "image/png": "[encoded data removed]"
          },
          "metadata": {
            "needs_background": "light"
          }
        }
      ]
    },
    {
      "cell_type": "code",
      "source": [
        ""
      ],
      "metadata": {
        "id": "wbaK-1w8XuuW"
      },
      "execution_count": null,
      "outputs": []
    },
    {
      "cell_type": "code",
      "source": [
        "# 25 epochs"
      ],
      "metadata": {
        "id": "-mSG6bUkXurn"
      },
      "execution_count": null,
      "outputs": []
    },
    {
      "cell_type": "code",
      "source": [
        "#tokenizer2 = DistilBertTokenizer.from_pretrained(MODEL_NAME)\n",
        "tokenizer2 = AutoTokenizer.from_pretrained(MODEL_NAME)\n",
        "# if tokenizer2.pad_token is None:\n",
        "#     tokenizer2.add_special_tokens({'pad_token': '[PAD]'})\n",
        "\n",
        "\n",
        "#tokenize the text\n",
        "train_encodings2 = tokenizer2(list(task2_x),\n",
        "                            truncation=True, \n",
        "                            padding=True)\n",
        "test_encodings2 = tokenizer2(list(task2_test_x),\n",
        "                           truncation=True, \n",
        "                           padding=True)\n",
        "\n",
        "\n",
        "\n",
        "task2_y_str = []\n",
        "task2_test_y_str = []\n",
        "\n",
        "for a in task2_y:\n",
        "  task2_y_str.append(int(a))\n",
        "\n",
        "for a in task2_test_y:\n",
        "  task2_test_y_str.append(int(a))\n",
        "\n",
        "\n",
        "train_dataset2 = tf.data.Dataset.from_tensor_slices((dict(train_encodings2),\n",
        "                                    list(task2_y_str)))\n",
        "test_dataset2 = tf.data.Dataset.from_tensor_slices((dict(test_encodings2),\n",
        "                                    list(task2_test_y_str)))\n",
        "\n",
        "\n",
        "#model2 = TFDistilBertForSequenceClassification.from_pretrained(MODEL_NAME, num_labels=3)\n",
        "model2 = TFRobertaForSequenceClassification.from_pretrained(MODEL_NAME, num_labels=3,from_pt=True)\n",
        "\n",
        "\n",
        "\n",
        "# model2 = TFGPT2ForSequenceClassification.from_pretrained(\"gpt2\", num_labels=3)\n",
        "\n",
        "#chose the optimizer\n",
        "optimizerr2 = tf.keras.optimizers.Adam(learning_rate=5e-5)\n",
        "#define the loss function \n",
        "losss2 = tf.keras.losses.SparseCategoricalCrossentropy(from_logits=True)\n",
        "#build the model\n",
        "\n",
        "\n",
        "\n",
        "model2.compile(optimizer=optimizerr2,\n",
        "              loss=losss2,\n",
        "              metrics=['accuracy'])\n",
        "\n",
        "\n",
        "# train the model \n",
        "history = model2.fit(train_dataset2.shuffle(len(task2_x)).batch(BATCH_SIZE),epochs=25, batch_size=BATCH_SIZE)\n"
      ],
      "metadata": {
        "colab": {
          "base_uri": "https://localhost:8080/"
        },
        "id": "Zf6gwOt7Xuo7",
        "outputId": "08a8e8b8-74ac-4b69-9e00-91caa8eaed83"
      },
      "execution_count": null,
      "outputs": [
        {
          "output_type": "stream",
          "name": "stderr",
          "text": [
            "All PyTorch model weights were used when initializing TFRobertaForSequenceClassification.\n",
            "\n",
            "Some weights or buffers of the TF 2.0 model TFRobertaForSequenceClassification were not initialized from the PyTorch model and are newly initialized: ['classifier.dense.weight', 'classifier.dense.bias', 'classifier.out_proj.weight', 'classifier.out_proj.bias']\n",
            "You should probably TRAIN this model on a down-stream task to be able to use it for predictions and inference.\n"
          ]
        },
        {
          "output_type": "stream",
          "name": "stdout",
          "text": [
            "Epoch 1/25\n",
            "114/114 [==============================] - 120s 992ms/step - loss: 0.7155 - accuracy: 0.7285\n",
            "Epoch 2/25\n",
            "114/114 [==============================] - 112s 984ms/step - loss: 0.6665 - accuracy: 0.7291\n",
            "Epoch 3/25\n",
            "114/114 [==============================] - 112s 983ms/step - loss: 0.6343 - accuracy: 0.7483\n",
            "Epoch 4/25\n",
            "114/114 [==============================] - 113s 989ms/step - loss: 0.5877 - accuracy: 0.7588\n",
            "Epoch 5/25\n",
            "114/114 [==============================] - 112s 986ms/step - loss: 0.5178 - accuracy: 0.7792\n",
            "Epoch 6/25\n",
            "114/114 [==============================] - 113s 989ms/step - loss: 0.4544 - accuracy: 0.8056\n",
            "Epoch 7/25\n",
            "114/114 [==============================] - 113s 991ms/step - loss: 0.3663 - accuracy: 0.8557\n",
            "Epoch 8/25\n",
            "114/114 [==============================] - 113s 990ms/step - loss: 0.3195 - accuracy: 0.8678\n",
            "Epoch 9/25\n",
            "114/114 [==============================] - 113s 990ms/step - loss: 0.2278 - accuracy: 0.9069\n",
            "Epoch 10/25\n",
            "114/114 [==============================] - 113s 989ms/step - loss: 0.1704 - accuracy: 0.9356\n",
            "Epoch 11/25\n",
            "114/114 [==============================] - 112s 985ms/step - loss: 0.1287 - accuracy: 0.9493\n",
            "Epoch 12/25\n",
            "114/114 [==============================] - 112s 983ms/step - loss: 0.0913 - accuracy: 0.9664\n",
            "Epoch 13/25\n",
            "114/114 [==============================] - 112s 983ms/step - loss: 0.0673 - accuracy: 0.9752\n",
            "Epoch 14/25\n",
            "114/114 [==============================] - 112s 982ms/step - loss: 0.0762 - accuracy: 0.9730\n",
            "Epoch 15/25\n",
            "114/114 [==============================] - 112s 984ms/step - loss: 0.0951 - accuracy: 0.9670\n",
            "Epoch 16/25\n",
            "114/114 [==============================] - 113s 989ms/step - loss: 0.0451 - accuracy: 0.9824\n",
            "Epoch 17/25\n",
            "114/114 [==============================] - 112s 985ms/step - loss: 0.0535 - accuracy: 0.9813\n",
            "Epoch 18/25\n",
            "114/114 [==============================] - 112s 983ms/step - loss: 0.0492 - accuracy: 0.9824\n",
            "Epoch 19/25\n",
            "114/114 [==============================] - 113s 989ms/step - loss: 0.0541 - accuracy: 0.9785\n",
            "Epoch 20/25\n",
            "114/114 [==============================] - 113s 989ms/step - loss: 0.0475 - accuracy: 0.9840\n",
            "Epoch 21/25\n",
            "114/114 [==============================] - 113s 990ms/step - loss: 0.0485 - accuracy: 0.9769\n",
            "Epoch 22/25\n",
            "114/114 [==============================] - 113s 989ms/step - loss: 0.0348 - accuracy: 0.9901\n",
            "Epoch 23/25\n",
            "114/114 [==============================] - 113s 990ms/step - loss: 0.0104 - accuracy: 0.9967\n",
            "Epoch 24/25\n",
            "114/114 [==============================] - 113s 989ms/step - loss: 0.0317 - accuracy: 0.9890\n",
            "Epoch 25/25\n",
            "114/114 [==============================] - 112s 985ms/step - loss: 0.0504 - accuracy: 0.9835\n"
          ]
        }
      ]
    },
    {
      "cell_type": "code",
      "source": [
        "import numpy as np\n",
        "from sklearn.metrics import classification_report\n",
        "\n",
        "predictions1_tran = []\n",
        "predictions2_tran = []\n",
        "\n",
        "test = model2.predict(test_dataset2.batch(1)).logits\n",
        "for a in test:\n",
        "  # print(a)\n",
        "  # print(tf.nn.softmax(a, axis=0))\n",
        "  # print(tf.nn.softmax(a, axis=0).numpy())\n",
        "  # print(np.argmax(tf.nn.softmax(a, axis=0).numpy()))\n",
        "  # print(a)\n",
        "\n",
        "  predictions2_tran.append(int(np.argmax(tf.nn.softmax(a, axis=0).numpy())))"
      ],
      "metadata": {
        "id": "iC73Q1ybXumW"
      },
      "execution_count": null,
      "outputs": []
    },
    {
      "cell_type": "code",
      "source": [
        "print(classification_report(task2_test_y_str, predictions2_tran))"
      ],
      "metadata": {
        "colab": {
          "base_uri": "https://localhost:8080/"
        },
        "id": "uMWWRYP2Xujc",
        "outputId": "4ac9568d-e2d6-4351-e73b-d347c91440b5"
      },
      "execution_count": null,
      "outputs": [
        {
          "output_type": "stream",
          "name": "stdout",
          "text": [
            "              precision    recall  f1-score   support\n",
            "\n",
            "           0       0.41      0.60      0.48        25\n",
            "           1       0.80      0.87      0.83       128\n",
            "           2       0.62      0.33      0.43        49\n",
            "\n",
            "    accuracy                           0.70       202\n",
            "   macro avg       0.61      0.60      0.58       202\n",
            "weighted avg       0.71      0.70      0.69       202\n",
            "\n"
          ]
        }
      ]
    },
    {
      "cell_type": "code",
      "source": [
        "from sklearn.metrics import accuracy_score\n",
        "\n",
        "print(accuracy_score(task2_test_y_str, predictions2_tran))"
      ],
      "metadata": {
        "id": "8RfrcwWV1wQR"
      },
      "execution_count": null,
      "outputs": []
    },
    {
      "cell_type": "code",
      "source": [
        "import matplotlib.pyplot as plt\n",
        "\n",
        "plt.plot(history.history['accuracy'])\n",
        "plt.plot(history.history['loss'])\n",
        "plt.title('Model accuracy/loss')\n",
        "plt.ylabel('Accuracy/Loss')\n",
        "plt.xlabel('Epoch')\n",
        "#plt.legend(['Train', 'Test'], loc='upper left')\n",
        "plt.show()\n",
        "\n",
        "# # Plot training & validation loss values\n",
        "# plt.plot(history.history['loss'])\n",
        "# plt.plot(history.history['val_loss'])\n",
        "# plt.title('Model loss')\n",
        "# plt.ylabel('Loss')\n",
        "# plt.xlabel('Epoch')\n",
        "# plt.legend(['Train', 'Test'], loc='upper left')\n",
        "# plt.show()"
      ],
      "metadata": {
        "colab": {
          "base_uri": "https://localhost:8080/",
          "height": 295
        },
        "id": "duiKd4qvXugo",
        "outputId": "aa19751d-d4ad-4a58-8002-afdf996b653f"
      },
      "execution_count": null,
      "outputs": [
        {
          "output_type": "display_data",
          "data": {
            "text/plain": [
              "<Figure size 432x288 with 1 Axes>"
            ],
            "image/png": "[encoded data removed]"
          },
          "metadata": {
            "needs_background": "light"
          }
        }
      ]
    },
    {
      "cell_type": "code",
      "source": [
        ""
      ],
      "metadata": {
        "id": "lAVWnIOcXueP"
      },
      "execution_count": null,
      "outputs": []
    },
    {
      "cell_type": "code",
      "source": [
        ""
      ],
      "metadata": {
        "id": "FmHqvNgzXubY"
      },
      "execution_count": null,
      "outputs": []
    },
    {
      "cell_type": "code",
      "source": [
        "#tokenizer2 = DistilBertTokenizer.from_pretrained(MODEL_NAME)\n",
        "tokenizer2 = AutoTokenizer.from_pretrained(MODEL_NAME)\n",
        "# if tokenizer2.pad_token is None:\n",
        "#     tokenizer2.add_special_tokens({'pad_token': '[PAD]'})\n",
        "\n",
        "\n",
        "#tokenize the text\n",
        "train_encodings2 = tokenizer2(list(task2_x),\n",
        "                            truncation=True, \n",
        "                            padding=True)\n",
        "test_encodings2 = tokenizer2(list(task2_test_x),\n",
        "                           truncation=True, \n",
        "                           padding=True)"
      ],
      "metadata": {
        "id": "w4N-hOadXuZB",
        "colab": {
          "base_uri": "https://localhost:8080/",
          "height": 145,
          "referenced_widgets": [
            "8f7422dd61fe436a8ba7aafafd306636",
            "afaf5c2e522946c488eeab9e401c598b",
            "61773d1573ae484a8b447f6ae9dd7625",
            "d40fe85f04d54d219204fd9fba9dac7d",
            "620e10ae1a4348cdbf73669ec22b52d1",
            "ee95873803a545dcabb577271b67ce2a",
            "82ee4bfdee0e41e7a3b9e6c7fbc29943",
            "c9102f69393f4331bd24b4da64c5626b",
            "1b776db510e94b6f8b6922873fb3fde1",
            "2a30be9428d84b9e9df8598d5eb30cf5",
            "0667b6c478254aaaa0138fded66eb7b1",
            "3da4d8bee18a4df7b2b7d3babe07613f",
            "8b73f7d1de64454eba96d05e7ceda971",
            "18be68fa082a402c824260aea679a912",
            "959c97b353e044e581160e3d4b054950",
            "7f60874851734bd097db26b930df116e",
            "1e7b43f639704630a8db1e0987d0c7b4",
            "2c8abe44edce4927b87bc549bfff9355",
            "ef478ddb730247fa8a646168df63b301",
            "ae95aa585deb4eab8828eee4c4fae095",
            "f67bb34319014f09bbb0ffcf63054f71",
            "e2f5748106dc431da8b4f2e06b402751",
            "88c31012ab1243ff8dcfacbf634c8b5a",
            "778021fa41a04fbc879d7e7cd505bce0",
            "8c67c363bb6e41b2b19e8b82dfbd3805",
            "178430ab4fd34b94912469d5f9943fd1",
            "5772fc89006f417d85b27ef0668e0fb5",
            "b9391883fa8f496db6fc734a62971428",
            "4b6f86bd0ac441e19fbfaa3c930a578d",
            "dd22baacd93947fdb643588b6c93d449",
            "68a6672b7a4044a6a448600e0f370f25",
            "4ae1225b20414130bce0cd1236f84849",
            "47bb1e7143fe4936aee43b00e4348cc5",
            "bb84f152e5cd475b9cc43845f71b0063",
            "6c1c13cbcd024ab49e3f59c8126e3da7",
            "6647d5f7e44f4825a019897f77dc7f19",
            "9e33c10808534c1d9d913633d813f01b",
            "adf759df90bd4c7c971d858cc092beb2",
            "1feaed6ed8b54f3189f0875ab1a8f38b",
            "922db791b2154a40b4dfe54776a685f7",
            "078e0632743e4f0691549ef6d88694cf",
            "0ee0bca09fc840678756e9375cd15da6",
            "62dee92e191e4cc6a7ed064a57b0dbbc",
            "cbb6484d832f44cea07883462e1f217c"
          ]
        },
        "outputId": "807438c2-79a8-45ec-d053-507f8c00b14d"
      },
      "execution_count": null,
      "outputs": [
        {
          "output_type": "display_data",
          "data": {
            "text/plain": [
              "Downloading:   0%|          | 0.00/19.0 [00:00<?, ?B/s]"
            ],
            "application/vnd.jupyter.widget-view+json": {
              "version_major": 2,
              "version_minor": 0,
              "model_id": "8f7422dd61fe436a8ba7aafafd306636"
            }
          },
          "metadata": {}
        },
        {
          "output_type": "display_data",
          "data": {
            "text/plain": [
              "Downloading:   0%|          | 0.00/480 [00:00<?, ?B/s]"
            ],
            "application/vnd.jupyter.widget-view+json": {
              "version_major": 2,
              "version_minor": 0,
              "model_id": "3da4d8bee18a4df7b2b7d3babe07613f"
            }
          },
          "metadata": {}
        },
        {
          "output_type": "display_data",
          "data": {
            "text/plain": [
              "Downloading:   0%|          | 0.00/971k [00:00<?, ?B/s]"
            ],
            "application/vnd.jupyter.widget-view+json": {
              "version_major": 2,
              "version_minor": 0,
              "model_id": "88c31012ab1243ff8dcfacbf634c8b5a"
            }
          },
          "metadata": {}
        },
        {
          "output_type": "display_data",
          "data": {
            "text/plain": [
              "Downloading:   0%|          | 0.00/471k [00:00<?, ?B/s]"
            ],
            "application/vnd.jupyter.widget-view+json": {
              "version_major": 2,
              "version_minor": 0,
              "model_id": "bb84f152e5cd475b9cc43845f71b0063"
            }
          },
          "metadata": {}
        }
      ]
    },
    {
      "cell_type": "code",
      "source": [
        "for a in test_encodings2:\n",
        "  print(a)\n",
        "\n",
        "print(dir(test_encodings2))\n",
        "\n",
        "# print(test_encodings2.keys())\n",
        "# print(test_encodings2.data)\n",
        "# print(test_encodings2.encodings)\n",
        "print(tokenizer2.words)"
      ],
      "metadata": {
        "id": "SKLpIjoRXuWb",
        "colab": {
          "base_uri": "https://localhost:8080/",
          "height": 272
        },
        "outputId": "cf9ebf23-1bb2-4f56-acf2-728a437df706"
      },
      "execution_count": null,
      "outputs": [
        {
          "output_type": "stream",
          "name": "stdout",
          "text": [
            "input_ids\n",
            "attention_mask\n",
            "['_MutableMapping__marker', '__abstractmethods__', '__class__', '__contains__', '__copy__', '__delattr__', '__delitem__', '__dict__', '__dir__', '__doc__', '__eq__', '__format__', '__ge__', '__getattr__', '__getattribute__', '__getitem__', '__getstate__', '__gt__', '__hash__', '__init__', '__init_subclass__', '__iter__', '__le__', '__len__', '__lt__', '__module__', '__ne__', '__new__', '__reduce__', '__reduce_ex__', '__repr__', '__reversed__', '__setattr__', '__setitem__', '__setstate__', '__sizeof__', '__slots__', '__str__', '__subclasshook__', '__weakref__', '_abc_impl', '_encodings', '_n_sequences', 'char_to_token', 'char_to_word', 'clear', 'convert_to_tensors', 'copy', 'data', 'encodings', 'fromkeys', 'get', 'is_fast', 'items', 'keys', 'n_sequences', 'pop', 'popitem', 'sequence_ids', 'setdefault', 'to', 'token_to_chars', 'token_to_sequence', 'token_to_word', 'tokens', 'update', 'values', 'word_ids', 'word_to_chars', 'word_to_tokens', 'words']\n"
          ]
        },
        {
          "output_type": "error",
          "ename": "AttributeError",
          "evalue": "ignored",
          "traceback": [
            "\u001b[0;31m---------------------------------------------------------------------------\u001b[0m",
            "\u001b[0;31mAttributeError\u001b[0m                            Traceback (most recent call last)",
            "\u001b[0;32m<ipython-input-28-3695fdf15a8e>\u001b[0m in \u001b[0;36m<module>\u001b[0;34m()\u001b[0m\n\u001b[1;32m      7\u001b[0m \u001b[0;31m# print(test_encodings2.data)\u001b[0m\u001b[0;34m\u001b[0m\u001b[0;34m\u001b[0m\u001b[0;34m\u001b[0m\u001b[0m\n\u001b[1;32m      8\u001b[0m \u001b[0;31m# print(test_encodings2.encodings)\u001b[0m\u001b[0;34m\u001b[0m\u001b[0;34m\u001b[0m\u001b[0;34m\u001b[0m\u001b[0m\n\u001b[0;32m----> 9\u001b[0;31m \u001b[0mprint\u001b[0m\u001b[0;34m(\u001b[0m\u001b[0mtokenizer2\u001b[0m\u001b[0;34m.\u001b[0m\u001b[0mwords\u001b[0m\u001b[0;34m)\u001b[0m\u001b[0;34m\u001b[0m\u001b[0;34m\u001b[0m\u001b[0m\n\u001b[0m",
            "\u001b[0;31mAttributeError\u001b[0m: 'RobertaTokenizerFast' object has no attribute 'words'"
          ]
        }
      ]
    },
    {
      "cell_type": "code",
      "source": [
        "x = 'OPENQASM 2.0; include \"qelib1.inc\"; qreg q[4]; creg c[4]; rz(5.4381164) q[2]; cx q[1],q[3]; rz(4.6190622) q[0]; u1(4.9972155) q[1]; cx q[3],q[2]; t q[0]; cswap q[1],q[2],q[3]; y q[0]; crz(1.5402184) q[3],q[1]; id q[0]; s q[2]; rzz(1.246787) q[1],q[3]; cx q[0],q[2]; ccx q[2],q[3],q[0]; u2(3.1096542,5.093437) q[1]; rzz(6.0521642) q[1],q[2]; s q[0]; z q[3]; cy q[1],q[3]; rzz(0.84250149) q[2],q[0]; cu3(3.2511164,3.3024292,4.7717136) q[2],q[3]; s q[1]; ry(3.3015167) q[0]; rzz(3.8068632) q[3],q[2]; rx(4.7865738) q[0]; ry(2.9079308) q[1]; measure q[0] -> c[0]; measure q[1] -> c[1]; measure q[2] -> c[2]; measure q[3] -> c[3];'\n",
        "\n",
        "print(tokenizer2(x))\n",
        "\n",
        "print(tokenizer2.decode(tokenizer2(x)['input_ids']))\n",
        "\n",
        "\n",
        "for tok in tokenizer2(x)['input_ids']:\n",
        "  print(tokenizer2.decode(tok))\n"
      ],
      "metadata": {
        "id": "STwGi7A-XuT1",
        "colab": {
          "base_uri": "https://localhost:8080/"
        },
        "outputId": "c58a5bfd-908a-428b-ed88-1c241e1a1634"
      },
      "execution_count": null,
      "outputs": [
        {
          "output_type": "stream",
          "name": "stdout",
          "text": [
            "{'input_ids': [0, 9089, 53, 43478, 740, 18, 20, 31, 2804, 331, 85, 45228, 21, 18, 7174, 1282, 2013, 1114, 2013, 63, 24, 696, 296, 1114, 296, 63, 24, 696, 535, 94, 12, 25, 18, 24, 4607, 2166, 1116, 13, 2013, 63, 22, 696, 14030, 2013, 63, 21, 737, 85, 63, 23, 696, 535, 94, 12, 24, 18, 26, 3092, 4709, 3490, 13, 2013, 63, 20, 696, 1172, 21, 12, 24, 18, 46943, 4984, 2846, 13, 2013, 63, 21, 696, 14030, 2013, 63, 23, 737, 85, 63, 22, 696, 304, 2013, 63, 20, 696, 296, 11679, 2013, 63, 21, 737, 85, 63, 22, 737, 85, 63, 23, 696, 832, 2013, 63, 20, 696, 7634, 94, 12, 21, 18, 8348, 2603, 24715, 13, 2013, 63, 23, 737, 85, 63, 21, 696, 973, 2013, 63, 20, 696, 325, 2013, 63, 22, 696, 535, 6063, 12, 21, 18, 35374, 6071, 27, 13, 2013, 63, 21, 737, 85, 63, 23, 696, 14030, 2013, 63, 20, 737, 85, 63, 22, 696, 7675, 92, 2013, 63, 22, 737, 85, 63, 23, 737, 85, 63, 20, 696, 1172, 22, 12, 23, 18, 18828, 7331, 6999, 16, 25, 18, 3176, 4001, 5499, 13, 2013, 63, 21, 696, 535, 6063, 12, 26, 18, 5090, 4984, 1116, 22, 13, 2013, 63, 21, 737, 85, 63, 22, 696, 325, 2013, 63, 20, 696, 1416, 2013, 63, 23, 696, 9436, 2013, 63, 21, 737, 85, 63, 23, 696, 535, 6063, 12, 20, 18, 8831, 2198, 1621, 6216, 13, 2013, 63, 22, 737, 85, 63, 20, 696, 23135, 23, 12, 23, 18, 2198, 13933, 1116, 16, 23, 18, 25658, 32730, 22, 16, 24, 18, 4725, 3468, 23248, 13, 2013, 63, 22, 737, 85, 63, 23, 696, 325, 2013, 63, 21, 696, 22248, 12, 23, 18, 27284, 25, 23286, 13, 2013, 63, 20, 696, 535, 6063, 12, 23, 18, 3626, 26, 5614, 1462, 13, 2013, 63, 23, 737, 85, 63, 22, 696, 12591, 12, 24, 18, 27, 5614, 9178, 4607, 13, 2013, 63, 20, 696, 22248, 12, 22, 18, 6812, 8655, 35181, 13, 2013, 63, 21, 696, 7430, 2013, 63, 20, 65, 956, 296, 63, 20, 696, 7430, 2013, 63, 21, 65, 956, 296, 63, 21, 696, 7430, 2013, 63, 22, 65, 956, 296, 63, 22, 696, 7430, 2013, 63, 23, 65, 956, 296, 63, 23, 696, 2], 'attention_mask': [1, 1, 1, 1, 1, 1, 1, 1, 1, 1, 1, 1, 1, 1, 1, 1, 1, 1, 1, 1, 1, 1, 1, 1, 1, 1, 1, 1, 1, 1, 1, 1, 1, 1, 1, 1, 1, 1, 1, 1, 1, 1, 1, 1, 1, 1, 1, 1, 1, 1, 1, 1, 1, 1, 1, 1, 1, 1, 1, 1, 1, 1, 1, 1, 1, 1, 1, 1, 1, 1, 1, 1, 1, 1, 1, 1, 1, 1, 1, 1, 1, 1, 1, 1, 1, 1, 1, 1, 1, 1, 1, 1, 1, 1, 1, 1, 1, 1, 1, 1, 1, 1, 1, 1, 1, 1, 1, 1, 1, 1, 1, 1, 1, 1, 1, 1, 1, 1, 1, 1, 1, 1, 1, 1, 1, 1, 1, 1, 1, 1, 1, 1, 1, 1, 1, 1, 1, 1, 1, 1, 1, 1, 1, 1, 1, 1, 1, 1, 1, 1, 1, 1, 1, 1, 1, 1, 1, 1, 1, 1, 1, 1, 1, 1, 1, 1, 1, 1, 1, 1, 1, 1, 1, 1, 1, 1, 1, 1, 1, 1, 1, 1, 1, 1, 1, 1, 1, 1, 1, 1, 1, 1, 1, 1, 1, 1, 1, 1, 1, 1, 1, 1, 1, 1, 1, 1, 1, 1, 1, 1, 1, 1, 1, 1, 1, 1, 1, 1, 1, 1, 1, 1, 1, 1, 1, 1, 1, 1, 1, 1, 1, 1, 1, 1, 1, 1, 1, 1, 1, 1, 1, 1, 1, 1, 1, 1, 1, 1, 1, 1, 1, 1, 1, 1, 1, 1, 1, 1, 1, 1, 1, 1, 1, 1, 1, 1, 1, 1, 1, 1, 1, 1, 1, 1, 1, 1, 1, 1, 1, 1, 1, 1, 1, 1, 1, 1, 1, 1, 1, 1, 1, 1, 1, 1, 1, 1, 1, 1, 1, 1, 1, 1, 1, 1, 1, 1, 1, 1, 1, 1, 1, 1, 1, 1, 1, 1, 1, 1, 1, 1, 1, 1, 1, 1, 1, 1, 1, 1, 1, 1, 1, 1, 1, 1, 1, 1, 1, 1, 1, 1, 1, 1, 1, 1, 1, 1, 1, 1, 1, 1, 1, 1, 1, 1, 1, 1, 1, 1, 1, 1, 1, 1, 1, 1, 1, 1, 1, 1, 1, 1, 1, 1, 1, 1, 1, 1, 1, 1, 1, 1, 1, 1]}\n",
            "<s>OPENQASM 2.0; include \"qelib1.inc\"; qreg q[4]; creg c[4]; rz(5.4381164) q[2]; cx q[1],q[3]; rz(4.6190622) q[0]; u1(4.9972155) q[1]; cx q[3],q[2]; t q[0]; cswap q[1],q[2],q[3]; y q[0]; crz(1.5402184) q[3],q[1]; id q[0]; s q[2]; rzz(1.246787) q[1],q[3]; cx q[0],q[2]; ccx q[2],q[3],q[0]; u2(3.1096542,5.093437) q[1]; rzz(6.0521642) q[1],q[2]; s q[0]; z q[3]; cy q[1],q[3]; rzz(0.84250149) q[2],q[0]; cu3(3.2511164,3.3024292,4.7717136) q[2],q[3]; s q[1]; ry(3.3015167) q[0]; rzz(3.8068632) q[3],q[2]; rx(4.7865738) q[0]; ry(2.9079308) q[1]; measure q[0] -> c[0]; measure q[1] -> c[1]; measure q[2] -> c[2]; measure q[3] -> c[3];</s>\n",
            "<s>\n",
            "OPEN\n",
            "Q\n",
            "ASM\n",
            " 2\n",
            ".\n",
            "0\n",
            ";\n",
            " include\n",
            " \"\n",
            "q\n",
            "elib\n",
            "1\n",
            ".\n",
            "inc\n",
            "\";\n",
            " q\n",
            "reg\n",
            " q\n",
            "[\n",
            "4\n",
            "];\n",
            " c\n",
            "reg\n",
            " c\n",
            "[\n",
            "4\n",
            "];\n",
            " r\n",
            "z\n",
            "(\n",
            "5\n",
            ".\n",
            "4\n",
            "38\n",
            "11\n",
            "64\n",
            ")\n",
            " q\n",
            "[\n",
            "2\n",
            "];\n",
            " cx\n",
            " q\n",
            "[\n",
            "1\n",
            "],\n",
            "q\n",
            "[\n",
            "3\n",
            "];\n",
            " r\n",
            "z\n",
            "(\n",
            "4\n",
            ".\n",
            "6\n",
            "19\n",
            "06\n",
            "22\n",
            ")\n",
            " q\n",
            "[\n",
            "0\n",
            "];\n",
            " u\n",
            "1\n",
            "(\n",
            "4\n",
            ".\n",
            "997\n",
            "21\n",
            "55\n",
            ")\n",
            " q\n",
            "[\n",
            "1\n",
            "];\n",
            " cx\n",
            " q\n",
            "[\n",
            "3\n",
            "],\n",
            "q\n",
            "[\n",
            "2\n",
            "];\n",
            " t\n",
            " q\n",
            "[\n",
            "0\n",
            "];\n",
            " c\n",
            "swap\n",
            " q\n",
            "[\n",
            "1\n",
            "],\n",
            "q\n",
            "[\n",
            "2\n",
            "],\n",
            "q\n",
            "[\n",
            "3\n",
            "];\n",
            " y\n",
            " q\n",
            "[\n",
            "0\n",
            "];\n",
            " cr\n",
            "z\n",
            "(\n",
            "1\n",
            ".\n",
            "54\n",
            "02\n",
            "184\n",
            ")\n",
            " q\n",
            "[\n",
            "3\n",
            "],\n",
            "q\n",
            "[\n",
            "1\n",
            "];\n",
            " id\n",
            " q\n",
            "[\n",
            "0\n",
            "];\n",
            " s\n",
            " q\n",
            "[\n",
            "2\n",
            "];\n",
            " r\n",
            "zz\n",
            "(\n",
            "1\n",
            ".\n",
            "246\n",
            "78\n",
            "7\n",
            ")\n",
            " q\n",
            "[\n",
            "1\n",
            "],\n",
            "q\n",
            "[\n",
            "3\n",
            "];\n",
            " cx\n",
            " q\n",
            "[\n",
            "0\n",
            "],\n",
            "q\n",
            "[\n",
            "2\n",
            "];\n",
            " cc\n",
            "x\n",
            " q\n",
            "[\n",
            "2\n",
            "],\n",
            "q\n",
            "[\n",
            "3\n",
            "],\n",
            "q\n",
            "[\n",
            "0\n",
            "];\n",
            " u\n",
            "2\n",
            "(\n",
            "3\n",
            ".\n",
            "109\n",
            "65\n",
            "42\n",
            ",\n",
            "5\n",
            ".\n",
            "09\n",
            "34\n",
            "37\n",
            ")\n",
            " q\n",
            "[\n",
            "1\n",
            "];\n",
            " r\n",
            "zz\n",
            "(\n",
            "6\n",
            ".\n",
            "05\n",
            "21\n",
            "64\n",
            "2\n",
            ")\n",
            " q\n",
            "[\n",
            "1\n",
            "],\n",
            "q\n",
            "[\n",
            "2\n",
            "];\n",
            " s\n",
            " q\n",
            "[\n",
            "0\n",
            "];\n",
            " z\n",
            " q\n",
            "[\n",
            "3\n",
            "];\n",
            " cy\n",
            " q\n",
            "[\n",
            "1\n",
            "],\n",
            "q\n",
            "[\n",
            "3\n",
            "];\n",
            " r\n",
            "zz\n",
            "(\n",
            "0\n",
            ".\n",
            "84\n",
            "25\n",
            "01\n",
            "49\n",
            ")\n",
            " q\n",
            "[\n",
            "2\n",
            "],\n",
            "q\n",
            "[\n",
            "0\n",
            "];\n",
            " cu\n",
            "3\n",
            "(\n",
            "3\n",
            ".\n",
            "25\n",
            "111\n",
            "64\n",
            ",\n",
            "3\n",
            ".\n",
            "302\n",
            "429\n",
            "2\n",
            ",\n",
            "4\n",
            ".\n",
            "77\n",
            "17\n",
            "136\n",
            ")\n",
            " q\n",
            "[\n",
            "2\n",
            "],\n",
            "q\n",
            "[\n",
            "3\n",
            "];\n",
            " s\n",
            " q\n",
            "[\n",
            "1\n",
            "];\n",
            " ry\n",
            "(\n",
            "3\n",
            ".\n",
            "301\n",
            "5\n",
            "167\n",
            ")\n",
            " q\n",
            "[\n",
            "0\n",
            "];\n",
            " r\n",
            "zz\n",
            "(\n",
            "3\n",
            ".\n",
            "80\n",
            "6\n",
            "86\n",
            "32\n",
            ")\n",
            " q\n",
            "[\n",
            "3\n",
            "],\n",
            "q\n",
            "[\n",
            "2\n",
            "];\n",
            " rx\n",
            "(\n",
            "4\n",
            ".\n",
            "7\n",
            "86\n",
            "57\n",
            "38\n",
            ")\n",
            " q\n",
            "[\n",
            "0\n",
            "];\n",
            " ry\n",
            "(\n",
            "2\n",
            ".\n",
            "90\n",
            "79\n",
            "308\n",
            ")\n",
            " q\n",
            "[\n",
            "1\n",
            "];\n",
            " measure\n",
            " q\n",
            "[\n",
            "0\n",
            "]\n",
            " ->\n",
            " c\n",
            "[\n",
            "0\n",
            "];\n",
            " measure\n",
            " q\n",
            "[\n",
            "1\n",
            "]\n",
            " ->\n",
            " c\n",
            "[\n",
            "1\n",
            "];\n",
            " measure\n",
            " q\n",
            "[\n",
            "2\n",
            "]\n",
            " ->\n",
            " c\n",
            "[\n",
            "2\n",
            "];\n",
            " measure\n",
            " q\n",
            "[\n",
            "3\n",
            "]\n",
            " ->\n",
            " c\n",
            "[\n",
            "3\n",
            "];\n",
            "</s>\n"
          ]
        }
      ]
    },
    {
      "cell_type": "code",
      "source": [
        ""
      ],
      "metadata": {
        "id": "AyYtG4eaXuRQ"
      },
      "execution_count": null,
      "outputs": []
    },
    {
      "cell_type": "code",
      "source": [
        ""
      ],
      "metadata": {
        "id": "pOZ3OVwVpLAl"
      },
      "execution_count": null,
      "outputs": []
    },
    {
      "cell_type": "code",
      "source": [
        "tokenizer2 = AutoTokenizer.from_pretrained(MODEL_NAME)\n",
        "\n",
        "tokenizer = tokenizer2.train_new_from_iterator(task2_x, len(task2_x))\n"
      ],
      "metadata": {
        "id": "L9hmNTK_pK9h"
      },
      "execution_count": null,
      "outputs": []
    },
    {
      "cell_type": "code",
      "source": [
        "tokenizer2 = tokenizer"
      ],
      "metadata": {
        "id": "Jd3dVTEUpK6t"
      },
      "execution_count": null,
      "outputs": []
    },
    {
      "cell_type": "code",
      "source": [
        "train_encodings2 = tokenizer2(list(task2_x),\n",
        "                            truncation=True, \n",
        "                            padding=True)\n",
        "test_encodings2 = tokenizer2(list(task2_test_x),\n",
        "                           truncation=True, \n",
        "                           padding=True)\n",
        "\n",
        "\n",
        "\n",
        "task2_y_str = []\n",
        "task2_test_y_str = []\n",
        "\n",
        "for a in task2_y:\n",
        "  task2_y_str.append(int(a))\n",
        "\n",
        "for a in task2_test_y:\n",
        "  task2_test_y_str.append(int(a))\n",
        "\n",
        "\n",
        "train_dataset2 = tf.data.Dataset.from_tensor_slices((dict(train_encodings2),\n",
        "                                    list(task2_y_str)))\n",
        "test_dataset2 = tf.data.Dataset.from_tensor_slices((dict(test_encodings2),\n",
        "                                    list(task2_test_y_str)))\n",
        "\n",
        "\n",
        "#model2 = TFDistilBertForSequenceClassification.from_pretrained(MODEL_NAME, num_labels=3)\n",
        "model2 = TFRobertaForSequenceClassification.from_pretrained(MODEL_NAME, num_labels=3,from_pt=True)\n",
        "\n",
        "\n",
        "\n",
        "# model2 = TFGPT2ForSequenceClassification.from_pretrained(\"gpt2\", num_labels=3)\n",
        "\n",
        "#chose the optimizer\n",
        "optimizerr2 = tf.keras.optimizers.Adam(learning_rate=5e-5)\n",
        "#define the loss function \n",
        "losss2 = tf.keras.losses.SparseCategoricalCrossentropy(from_logits=True)\n",
        "#build the model\n",
        "\n",
        "\n",
        "\n",
        "model2.compile(optimizer=optimizerr2,\n",
        "              loss=losss2,\n",
        "              metrics=['accuracy'])\n",
        "\n",
        "\n",
        "# train the model \n",
        "history = model2.fit(train_dataset2.shuffle(len(task2_x)).batch(BATCH_SIZE),epochs=5, batch_size=BATCH_SIZE)"
      ],
      "metadata": {
        "colab": {
          "base_uri": "https://localhost:8080/",
          "height": 312,
          "referenced_widgets": [
            "aaa3581fcb0b48da80f54cd37372cb46",
            "96c8c84d4602476ba157cf153f92ad9d",
            "cb4cce11565a42a594eb789d8cedc896",
            "eaec73d794cf4685b6c7319a58869b01",
            "1f8d2b9426a34a9993f385dc5d788633",
            "b02d3298593240558151b24c0ef1551d",
            "70685354ad5b4a67b529981562d84361",
            "b8a1d5c155934ae9b09b9314b28bca9e",
            "eca5fbb91bbd43458456ee6251c11aee",
            "85b04c88ad894db3ae6ae074e858d413",
            "4252f7576ef84c9fbe750f6ceb391abb"
          ]
        },
        "id": "yOYhHRugqLLz",
        "outputId": "9c0b7aab-ac80-4405-8732-776b5baa04da"
      },
      "execution_count": null,
      "outputs": [
        {
          "output_type": "display_data",
          "data": {
            "text/plain": [
              "Downloading:   0%|          | 0.00/321M [00:00<?, ?B/s]"
            ],
            "application/vnd.jupyter.widget-view+json": {
              "version_major": 2,
              "version_minor": 0,
              "model_id": "aaa3581fcb0b48da80f54cd37372cb46"
            }
          },
          "metadata": {}
        },
        {
          "output_type": "stream",
          "name": "stderr",
          "text": [
            "All PyTorch model weights were used when initializing TFRobertaForSequenceClassification.\n",
            "\n",
            "Some weights or buffers of the TF 2.0 model TFRobertaForSequenceClassification were not initialized from the PyTorch model and are newly initialized: ['classifier.dense.weight', 'classifier.dense.bias', 'classifier.out_proj.weight', 'classifier.out_proj.bias']\n",
            "You should probably TRAIN this model on a down-stream task to be able to use it for predictions and inference.\n"
          ]
        },
        {
          "output_type": "stream",
          "name": "stdout",
          "text": [
            "Epoch 1/5\n",
            "1124/1124 [==============================] - 1129s 994ms/step - loss: 0.6138 - accuracy: 0.7408\n",
            "Epoch 2/5\n",
            "1124/1124 [==============================] - 1119s 996ms/step - loss: 0.5501 - accuracy: 0.7644\n",
            "Epoch 3/5\n",
            "1124/1124 [==============================] - 1119s 995ms/step - loss: 0.4573 - accuracy: 0.8078\n",
            "Epoch 4/5\n",
            "1124/1124 [==============================] - 1118s 995ms/step - loss: 0.3006 - accuracy: 0.8699\n",
            "Epoch 5/5\n",
            "1124/1124 [==============================] - 1119s 996ms/step - loss: 0.2017 - accuracy: 0.9097\n"
          ]
        }
      ]
    },
    {
      "cell_type": "code",
      "source": [
        "import numpy as np\n",
        "from sklearn.metrics import classification_report\n",
        "\n",
        "predictions1_tran = []\n",
        "predictions2_tran = []\n",
        "\n",
        "test = model2.predict(test_dataset2.batch(1)).logits\n",
        "for a in test:\n",
        "  # print(a)\n",
        "  # print(tf.nn.softmax(a, axis=0))\n",
        "  # print(tf.nn.softmax(a, axis=0).numpy())\n",
        "  # print(np.argmax(tf.nn.softmax(a, axis=0).numpy()))\n",
        "  # print(a)\n",
        "\n",
        "  predictions2_tran.append(int(np.argmax(tf.nn.softmax(a, axis=0).numpy())))"
      ],
      "metadata": {
        "id": "aqdOD_ReqLJE"
      },
      "execution_count": null,
      "outputs": []
    },
    {
      "cell_type": "code",
      "source": [
        "print(classification_report(task2_test_y_str, predictions2_tran))"
      ],
      "metadata": {
        "colab": {
          "base_uri": "https://localhost:8080/"
        },
        "id": "YZPSVORrqLGw",
        "outputId": "e17f04bb-e440-4e0d-b24a-7f50f67bba21"
      },
      "execution_count": null,
      "outputs": [
        {
          "output_type": "stream",
          "name": "stdout",
          "text": [
            "              precision    recall  f1-score   support\n",
            "\n",
            "           0       0.86      0.56      0.68       416\n",
            "           1       0.79      0.82      0.81      1284\n",
            "           2       0.28      0.36      0.32       298\n",
            "\n",
            "    accuracy                           0.70      1998\n",
            "   macro avg       0.64      0.58      0.60      1998\n",
            "weighted avg       0.73      0.70      0.71      1998\n",
            "\n"
          ]
        }
      ]
    },
    {
      "cell_type": "code",
      "source": [
        "from sklearn.metrics import accuracy_score\n",
        "\n",
        "print(accuracy_score(task2_test_y_str, predictions2_tran))"
      ],
      "metadata": {
        "colab": {
          "base_uri": "https://localhost:8080/"
        },
        "id": "-pbgVpqXqLEg",
        "outputId": "adc918c3-3463-4310-c53a-a327fda6d0dc"
      },
      "execution_count": null,
      "outputs": [
        {
          "output_type": "stream",
          "name": "stdout",
          "text": [
            "0.7007007007007007\n"
          ]
        }
      ]
    },
    {
      "cell_type": "code",
      "source": [
        "import matplotlib.pyplot as plt\n",
        "\n",
        "plt.plot(history.history['accuracy'])\n",
        "plt.plot(history.history['loss'])\n",
        "plt.title('Model accuracy/loss')\n",
        "plt.ylabel('Accuracy/Loss')\n",
        "plt.xlabel('Epoch')\n",
        "#plt.legend(['Train', 'Test'], loc='upper left')\n",
        "plt.show()\n",
        "\n",
        "# # Plot training & validation loss values\n",
        "# plt.plot(history.history['loss'])\n",
        "# plt.plot(history.history['val_loss'])\n",
        "# plt.title('Model loss')\n",
        "# plt.ylabel('Loss')\n",
        "# plt.xlabel('Epoch')\n",
        "# plt.legend(['Train', 'Test'], loc='upper left')\n",
        "# plt.show()"
      ],
      "metadata": {
        "colab": {
          "base_uri": "https://localhost:8080/"
        },
        "id": "uXHNXXIYqLCM",
        "outputId": "047d9b24-c6e0-4458-8836-d23c41c6aa4e"
      },
      "execution_count": null,
      "outputs": [
        {
          "output_type": "display_data",
          "data": {
            "text/plain": [
              "<Figure size 432x288 with 1 Axes>"
            ],
            "image/png": "[encoded data removed]"
          },
          "metadata": {
            "needs_background": "light"
          }
        }
      ]
    },
    {
      "cell_type": "code",
      "source": [
        ""
      ],
      "metadata": {
        "id": "RL_JOPJfqK_v"
      },
      "execution_count": null,
      "outputs": []
    },
    {
      "cell_type": "code",
      "source": [
        ""
      ],
      "metadata": {
        "id": "gG_LSat7qK9W"
      },
      "execution_count": null,
      "outputs": []
    },
    {
      "cell_type": "code",
      "source": [
        ""
      ],
      "metadata": {
        "id": "_FSQrdNeqK6w"
      },
      "execution_count": null,
      "outputs": []
    }
  ]
}