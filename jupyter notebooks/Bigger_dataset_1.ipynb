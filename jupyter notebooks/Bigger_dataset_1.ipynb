{
  "nbformat": 4,
  "nbformat_minor": 0,
  "metadata": {
    "colab": {
      "name": "Bigger dataset 1.ipynb",
      "provenance": [],
      "collapsed_sections": []
    },
    "kernelspec": {
      "name": "python3",
      "display_name": "Python 3"
    },
    "language_info": {
      "name": "python"
    },
    "accelerator": "GPU",
    "gpuClass": "standard",
    "widgets": {
      "application/vnd.jupyter.widget-state+json": {
        "6178b954f413483d9aee1403ca9d2397": {
          "model_module": "@jupyter-widgets/controls",
          "model_name": "HBoxModel",
          "model_module_version": "1.5.0",
          "state": {
            "_dom_classes": [],
            "_model_module": "@jupyter-widgets/controls",
            "_model_module_version": "1.5.0",
            "_model_name": "HBoxModel",
            "_view_count": null,
            "_view_module": "@jupyter-widgets/controls",
            "_view_module_version": "1.5.0",
            "_view_name": "HBoxView",
            "box_style": "",
            "children": [
              "IPY_MODEL_0f5cccbc29094d1d8728d63805996aa4",
              "IPY_MODEL_25c8192981bc4c12a7556b41273ef9bf",
              "IPY_MODEL_f451c26465ce454d9f4d9bfcb90f8c56"
            ],
            "layout": "IPY_MODEL_e3699f3b64884241a5ed931da9043b95"
          }
        },
        "0f5cccbc29094d1d8728d63805996aa4": {
          "model_module": "@jupyter-widgets/controls",
          "model_name": "HTMLModel",
          "model_module_version": "1.5.0",
          "state": {
            "_dom_classes": [],
            "_model_module": "@jupyter-widgets/controls",
            "_model_module_version": "1.5.0",
            "_model_name": "HTMLModel",
            "_view_count": null,
            "_view_module": "@jupyter-widgets/controls",
            "_view_module_version": "1.5.0",
            "_view_name": "HTMLView",
            "description": "",
            "description_tooltip": null,
            "layout": "IPY_MODEL_fd6fa35fb5364dbf86aebfe93131faa4",
            "placeholder": "​",
            "style": "IPY_MODEL_354652751bec4c9daac79468d5ff19a9",
            "value": "Downloading: 100%"
          }
        },
        "25c8192981bc4c12a7556b41273ef9bf": {
          "model_module": "@jupyter-widgets/controls",
          "model_name": "FloatProgressModel",
          "model_module_version": "1.5.0",
          "state": {
            "_dom_classes": [],
            "_model_module": "@jupyter-widgets/controls",
            "_model_module_version": "1.5.0",
            "_model_name": "FloatProgressModel",
            "_view_count": null,
            "_view_module": "@jupyter-widgets/controls",
            "_view_module_version": "1.5.0",
            "_view_name": "ProgressView",
            "bar_style": "success",
            "description": "",
            "description_tooltip": null,
            "layout": "IPY_MODEL_ddfa35bde0094a369a45455f8ad75a93",
            "max": 19,
            "min": 0,
            "orientation": "horizontal",
            "style": "IPY_MODEL_dd9bb21dc7b749ba8b0ef06a770a88fd",
            "value": 19
          }
        },
        "f451c26465ce454d9f4d9bfcb90f8c56": {
          "model_module": "@jupyter-widgets/controls",
          "model_name": "HTMLModel",
          "model_module_version": "1.5.0",
          "state": {
            "_dom_classes": [],
            "_model_module": "@jupyter-widgets/controls",
            "_model_module_version": "1.5.0",
            "_model_name": "HTMLModel",
            "_view_count": null,
            "_view_module": "@jupyter-widgets/controls",
            "_view_module_version": "1.5.0",
            "_view_name": "HTMLView",
            "description": "",
            "description_tooltip": null,
            "layout": "IPY_MODEL_ae711ed917d24bbda4efbd5d346d9876",
            "placeholder": "​",
            "style": "IPY_MODEL_857ea348025f44a0b28bff2ad61e61e4",
            "value": " 19.0/19.0 [00:00&lt;00:00, 542B/s]"
          }
        },
        "e3699f3b64884241a5ed931da9043b95": {
          "model_module": "@jupyter-widgets/base",
          "model_name": "LayoutModel",
          "model_module_version": "1.2.0",
          "state": {
            "_model_module": "@jupyter-widgets/base",
            "_model_module_version": "1.2.0",
            "_model_name": "LayoutModel",
            "_view_count": null,
            "_view_module": "@jupyter-widgets/base",
            "_view_module_version": "1.2.0",
            "_view_name": "LayoutView",
            "align_content": null,
            "align_items": null,
            "align_self": null,
            "border": null,
            "bottom": null,
            "display": null,
            "flex": null,
            "flex_flow": null,
            "grid_area": null,
            "grid_auto_columns": null,
            "grid_auto_flow": null,
            "grid_auto_rows": null,
            "grid_column": null,
            "grid_gap": null,
            "grid_row": null,
            "grid_template_areas": null,
            "grid_template_columns": null,
            "grid_template_rows": null,
            "height": null,
            "justify_content": null,
            "justify_items": null,
            "left": null,
            "margin": null,
            "max_height": null,
            "max_width": null,
            "min_height": null,
            "min_width": null,
            "object_fit": null,
            "object_position": null,
            "order": null,
            "overflow": null,
            "overflow_x": null,
            "overflow_y": null,
            "padding": null,
            "right": null,
            "top": null,
            "visibility": null,
            "width": null
          }
        },
        "fd6fa35fb5364dbf86aebfe93131faa4": {
          "model_module": "@jupyter-widgets/base",
          "model_name": "LayoutModel",
          "model_module_version": "1.2.0",
          "state": {
            "_model_module": "@jupyter-widgets/base",
            "_model_module_version": "1.2.0",
            "_model_name": "LayoutModel",
            "_view_count": null,
            "_view_module": "@jupyter-widgets/base",
            "_view_module_version": "1.2.0",
            "_view_name": "LayoutView",
            "align_content": null,
            "align_items": null,
            "align_self": null,
            "border": null,
            "bottom": null,
            "display": null,
            "flex": null,
            "flex_flow": null,
            "grid_area": null,
            "grid_auto_columns": null,
            "grid_auto_flow": null,
            "grid_auto_rows": null,
            "grid_column": null,
            "grid_gap": null,
            "grid_row": null,
            "grid_template_areas": null,
            "grid_template_columns": null,
            "grid_template_rows": null,
            "height": null,
            "justify_content": null,
            "justify_items": null,
            "left": null,
            "margin": null,
            "max_height": null,
            "max_width": null,
            "min_height": null,
            "min_width": null,
            "object_fit": null,
            "object_position": null,
            "order": null,
            "overflow": null,
            "overflow_x": null,
            "overflow_y": null,
            "padding": null,
            "right": null,
            "top": null,
            "visibility": null,
            "width": null
          }
        },
        "354652751bec4c9daac79468d5ff19a9": {
          "model_module": "@jupyter-widgets/controls",
          "model_name": "DescriptionStyleModel",
          "model_module_version": "1.5.0",
          "state": {
            "_model_module": "@jupyter-widgets/controls",
            "_model_module_version": "1.5.0",
            "_model_name": "DescriptionStyleModel",
            "_view_count": null,
            "_view_module": "@jupyter-widgets/base",
            "_view_module_version": "1.2.0",
            "_view_name": "StyleView",
            "description_width": ""
          }
        },
        "ddfa35bde0094a369a45455f8ad75a93": {
          "model_module": "@jupyter-widgets/base",
          "model_name": "LayoutModel",
          "model_module_version": "1.2.0",
          "state": {
            "_model_module": "@jupyter-widgets/base",
            "_model_module_version": "1.2.0",
            "_model_name": "LayoutModel",
            "_view_count": null,
            "_view_module": "@jupyter-widgets/base",
            "_view_module_version": "1.2.0",
            "_view_name": "LayoutView",
            "align_content": null,
            "align_items": null,
            "align_self": null,
            "border": null,
            "bottom": null,
            "display": null,
            "flex": null,
            "flex_flow": null,
            "grid_area": null,
            "grid_auto_columns": null,
            "grid_auto_flow": null,
            "grid_auto_rows": null,
            "grid_column": null,
            "grid_gap": null,
            "grid_row": null,
            "grid_template_areas": null,
            "grid_template_columns": null,
            "grid_template_rows": null,
            "height": null,
            "justify_content": null,
            "justify_items": null,
            "left": null,
            "margin": null,
            "max_height": null,
            "max_width": null,
            "min_height": null,
            "min_width": null,
            "object_fit": null,
            "object_position": null,
            "order": null,
            "overflow": null,
            "overflow_x": null,
            "overflow_y": null,
            "padding": null,
            "right": null,
            "top": null,
            "visibility": null,
            "width": null
          }
        },
        "dd9bb21dc7b749ba8b0ef06a770a88fd": {
          "model_module": "@jupyter-widgets/controls",
          "model_name": "ProgressStyleModel",
          "model_module_version": "1.5.0",
          "state": {
            "_model_module": "@jupyter-widgets/controls",
            "_model_module_version": "1.5.0",
            "_model_name": "ProgressStyleModel",
            "_view_count": null,
            "_view_module": "@jupyter-widgets/base",
            "_view_module_version": "1.2.0",
            "_view_name": "StyleView",
            "bar_color": null,
            "description_width": ""
          }
        },
        "ae711ed917d24bbda4efbd5d346d9876": {
          "model_module": "@jupyter-widgets/base",
          "model_name": "LayoutModel",
          "model_module_version": "1.2.0",
          "state": {
            "_model_module": "@jupyter-widgets/base",
            "_model_module_version": "1.2.0",
            "_model_name": "LayoutModel",
            "_view_count": null,
            "_view_module": "@jupyter-widgets/base",
            "_view_module_version": "1.2.0",
            "_view_name": "LayoutView",
            "align_content": null,
            "align_items": null,
            "align_self": null,
            "border": null,
            "bottom": null,
            "display": null,
            "flex": null,
            "flex_flow": null,
            "grid_area": null,
            "grid_auto_columns": null,
            "grid_auto_flow": null,
            "grid_auto_rows": null,
            "grid_column": null,
            "grid_gap": null,
            "grid_row": null,
            "grid_template_areas": null,
            "grid_template_columns": null,
            "grid_template_rows": null,
            "height": null,
            "justify_content": null,
            "justify_items": null,
            "left": null,
            "margin": null,
            "max_height": null,
            "max_width": null,
            "min_height": null,
            "min_width": null,
            "object_fit": null,
            "object_position": null,
            "order": null,
            "overflow": null,
            "overflow_x": null,
            "overflow_y": null,
            "padding": null,
            "right": null,
            "top": null,
            "visibility": null,
            "width": null
          }
        },
        "857ea348025f44a0b28bff2ad61e61e4": {
          "model_module": "@jupyter-widgets/controls",
          "model_name": "DescriptionStyleModel",
          "model_module_version": "1.5.0",
          "state": {
            "_model_module": "@jupyter-widgets/controls",
            "_model_module_version": "1.5.0",
            "_model_name": "DescriptionStyleModel",
            "_view_count": null,
            "_view_module": "@jupyter-widgets/base",
            "_view_module_version": "1.2.0",
            "_view_name": "StyleView",
            "description_width": ""
          }
        },
        "7e6f9ce3193e44f9aa465c3400103230": {
          "model_module": "@jupyter-widgets/controls",
          "model_name": "HBoxModel",
          "model_module_version": "1.5.0",
          "state": {
            "_dom_classes": [],
            "_model_module": "@jupyter-widgets/controls",
            "_model_module_version": "1.5.0",
            "_model_name": "HBoxModel",
            "_view_count": null,
            "_view_module": "@jupyter-widgets/controls",
            "_view_module_version": "1.5.0",
            "_view_name": "HBoxView",
            "box_style": "",
            "children": [
              "IPY_MODEL_7cabea3927cc4ce5abb88d763c4742bf",
              "IPY_MODEL_615b0b480c324c2dadfa3cb49aceacc8",
              "IPY_MODEL_5b8181eeb14744a0971d7023c2912fcd"
            ],
            "layout": "IPY_MODEL_27397b18bd2646899649f258596a73ac"
          }
        },
        "7cabea3927cc4ce5abb88d763c4742bf": {
          "model_module": "@jupyter-widgets/controls",
          "model_name": "HTMLModel",
          "model_module_version": "1.5.0",
          "state": {
            "_dom_classes": [],
            "_model_module": "@jupyter-widgets/controls",
            "_model_module_version": "1.5.0",
            "_model_name": "HTMLModel",
            "_view_count": null,
            "_view_module": "@jupyter-widgets/controls",
            "_view_module_version": "1.5.0",
            "_view_name": "HTMLView",
            "description": "",
            "description_tooltip": null,
            "layout": "IPY_MODEL_4a8e30cfd6be4d12a0d2f942f2703908",
            "placeholder": "​",
            "style": "IPY_MODEL_835902c9dff544c997f4998b656c32cc",
            "value": "Downloading: 100%"
          }
        },
        "615b0b480c324c2dadfa3cb49aceacc8": {
          "model_module": "@jupyter-widgets/controls",
          "model_name": "FloatProgressModel",
          "model_module_version": "1.5.0",
          "state": {
            "_dom_classes": [],
            "_model_module": "@jupyter-widgets/controls",
            "_model_module_version": "1.5.0",
            "_model_name": "FloatProgressModel",
            "_view_count": null,
            "_view_module": "@jupyter-widgets/controls",
            "_view_module_version": "1.5.0",
            "_view_name": "ProgressView",
            "bar_style": "success",
            "description": "",
            "description_tooltip": null,
            "layout": "IPY_MODEL_2fadfdd71f6c4ce180308a2d9cb941ee",
            "max": 480,
            "min": 0,
            "orientation": "horizontal",
            "style": "IPY_MODEL_fca1097883514299899b593d6dbb69a2",
            "value": 480
          }
        },
        "5b8181eeb14744a0971d7023c2912fcd": {
          "model_module": "@jupyter-widgets/controls",
          "model_name": "HTMLModel",
          "model_module_version": "1.5.0",
          "state": {
            "_dom_classes": [],
            "_model_module": "@jupyter-widgets/controls",
            "_model_module_version": "1.5.0",
            "_model_name": "HTMLModel",
            "_view_count": null,
            "_view_module": "@jupyter-widgets/controls",
            "_view_module_version": "1.5.0",
            "_view_name": "HTMLView",
            "description": "",
            "description_tooltip": null,
            "layout": "IPY_MODEL_34feb01ce39c476db6cad6f63e0e57fb",
            "placeholder": "​",
            "style": "IPY_MODEL_81d9c42117184db4b9615e06fbf322a7",
            "value": " 480/480 [00:00&lt;00:00, 13.8kB/s]"
          }
        },
        "27397b18bd2646899649f258596a73ac": {
          "model_module": "@jupyter-widgets/base",
          "model_name": "LayoutModel",
          "model_module_version": "1.2.0",
          "state": {
            "_model_module": "@jupyter-widgets/base",
            "_model_module_version": "1.2.0",
            "_model_name": "LayoutModel",
            "_view_count": null,
            "_view_module": "@jupyter-widgets/base",
            "_view_module_version": "1.2.0",
            "_view_name": "LayoutView",
            "align_content": null,
            "align_items": null,
            "align_self": null,
            "border": null,
            "bottom": null,
            "display": null,
            "flex": null,
            "flex_flow": null,
            "grid_area": null,
            "grid_auto_columns": null,
            "grid_auto_flow": null,
            "grid_auto_rows": null,
            "grid_column": null,
            "grid_gap": null,
            "grid_row": null,
            "grid_template_areas": null,
            "grid_template_columns": null,
            "grid_template_rows": null,
            "height": null,
            "justify_content": null,
            "justify_items": null,
            "left": null,
            "margin": null,
            "max_height": null,
            "max_width": null,
            "min_height": null,
            "min_width": null,
            "object_fit": null,
            "object_position": null,
            "order": null,
            "overflow": null,
            "overflow_x": null,
            "overflow_y": null,
            "padding": null,
            "right": null,
            "top": null,
            "visibility": null,
            "width": null
          }
        },
        "4a8e30cfd6be4d12a0d2f942f2703908": {
          "model_module": "@jupyter-widgets/base",
          "model_name": "LayoutModel",
          "model_module_version": "1.2.0",
          "state": {
            "_model_module": "@jupyter-widgets/base",
            "_model_module_version": "1.2.0",
            "_model_name": "LayoutModel",
            "_view_count": null,
            "_view_module": "@jupyter-widgets/base",
            "_view_module_version": "1.2.0",
            "_view_name": "LayoutView",
            "align_content": null,
            "align_items": null,
            "align_self": null,
            "border": null,
            "bottom": null,
            "display": null,
            "flex": null,
            "flex_flow": null,
            "grid_area": null,
            "grid_auto_columns": null,
            "grid_auto_flow": null,
            "grid_auto_rows": null,
            "grid_column": null,
            "grid_gap": null,
            "grid_row": null,
            "grid_template_areas": null,
            "grid_template_columns": null,
            "grid_template_rows": null,
            "height": null,
            "justify_content": null,
            "justify_items": null,
            "left": null,
            "margin": null,
            "max_height": null,
            "max_width": null,
            "min_height": null,
            "min_width": null,
            "object_fit": null,
            "object_position": null,
            "order": null,
            "overflow": null,
            "overflow_x": null,
            "overflow_y": null,
            "padding": null,
            "right": null,
            "top": null,
            "visibility": null,
            "width": null
          }
        },
        "835902c9dff544c997f4998b656c32cc": {
          "model_module": "@jupyter-widgets/controls",
          "model_name": "DescriptionStyleModel",
          "model_module_version": "1.5.0",
          "state": {
            "_model_module": "@jupyter-widgets/controls",
            "_model_module_version": "1.5.0",
            "_model_name": "DescriptionStyleModel",
            "_view_count": null,
            "_view_module": "@jupyter-widgets/base",
            "_view_module_version": "1.2.0",
            "_view_name": "StyleView",
            "description_width": ""
          }
        },
        "2fadfdd71f6c4ce180308a2d9cb941ee": {
          "model_module": "@jupyter-widgets/base",
          "model_name": "LayoutModel",
          "model_module_version": "1.2.0",
          "state": {
            "_model_module": "@jupyter-widgets/base",
            "_model_module_version": "1.2.0",
            "_model_name": "LayoutModel",
            "_view_count": null,
            "_view_module": "@jupyter-widgets/base",
            "_view_module_version": "1.2.0",
            "_view_name": "LayoutView",
            "align_content": null,
            "align_items": null,
            "align_self": null,
            "border": null,
            "bottom": null,
            "display": null,
            "flex": null,
            "flex_flow": null,
            "grid_area": null,
            "grid_auto_columns": null,
            "grid_auto_flow": null,
            "grid_auto_rows": null,
            "grid_column": null,
            "grid_gap": null,
            "grid_row": null,
            "grid_template_areas": null,
            "grid_template_columns": null,
            "grid_template_rows": null,
            "height": null,
            "justify_content": null,
            "justify_items": null,
            "left": null,
            "margin": null,
            "max_height": null,
            "max_width": null,
            "min_height": null,
            "min_width": null,
            "object_fit": null,
            "object_position": null,
            "order": null,
            "overflow": null,
            "overflow_x": null,
            "overflow_y": null,
            "padding": null,
            "right": null,
            "top": null,
            "visibility": null,
            "width": null
          }
        },
        "fca1097883514299899b593d6dbb69a2": {
          "model_module": "@jupyter-widgets/controls",
          "model_name": "ProgressStyleModel",
          "model_module_version": "1.5.0",
          "state": {
            "_model_module": "@jupyter-widgets/controls",
            "_model_module_version": "1.5.0",
            "_model_name": "ProgressStyleModel",
            "_view_count": null,
            "_view_module": "@jupyter-widgets/base",
            "_view_module_version": "1.2.0",
            "_view_name": "StyleView",
            "bar_color": null,
            "description_width": ""
          }
        },
        "34feb01ce39c476db6cad6f63e0e57fb": {
          "model_module": "@jupyter-widgets/base",
          "model_name": "LayoutModel",
          "model_module_version": "1.2.0",
          "state": {
            "_model_module": "@jupyter-widgets/base",
            "_model_module_version": "1.2.0",
            "_model_name": "LayoutModel",
            "_view_count": null,
            "_view_module": "@jupyter-widgets/base",
            "_view_module_version": "1.2.0",
            "_view_name": "LayoutView",
            "align_content": null,
            "align_items": null,
            "align_self": null,
            "border": null,
            "bottom": null,
            "display": null,
            "flex": null,
            "flex_flow": null,
            "grid_area": null,
            "grid_auto_columns": null,
            "grid_auto_flow": null,
            "grid_auto_rows": null,
            "grid_column": null,
            "grid_gap": null,
            "grid_row": null,
            "grid_template_areas": null,
            "grid_template_columns": null,
            "grid_template_rows": null,
            "height": null,
            "justify_content": null,
            "justify_items": null,
            "left": null,
            "margin": null,
            "max_height": null,
            "max_width": null,
            "min_height": null,
            "min_width": null,
            "object_fit": null,
            "object_position": null,
            "order": null,
            "overflow": null,
            "overflow_x": null,
            "overflow_y": null,
            "padding": null,
            "right": null,
            "top": null,
            "visibility": null,
            "width": null
          }
        },
        "81d9c42117184db4b9615e06fbf322a7": {
          "model_module": "@jupyter-widgets/controls",
          "model_name": "DescriptionStyleModel",
          "model_module_version": "1.5.0",
          "state": {
            "_model_module": "@jupyter-widgets/controls",
            "_model_module_version": "1.5.0",
            "_model_name": "DescriptionStyleModel",
            "_view_count": null,
            "_view_module": "@jupyter-widgets/base",
            "_view_module_version": "1.2.0",
            "_view_name": "StyleView",
            "description_width": ""
          }
        },
        "795c4fa7744a4553a7c6a8f5f4923ceb": {
          "model_module": "@jupyter-widgets/controls",
          "model_name": "HBoxModel",
          "model_module_version": "1.5.0",
          "state": {
            "_dom_classes": [],
            "_model_module": "@jupyter-widgets/controls",
            "_model_module_version": "1.5.0",
            "_model_name": "HBoxModel",
            "_view_count": null,
            "_view_module": "@jupyter-widgets/controls",
            "_view_module_version": "1.5.0",
            "_view_name": "HBoxView",
            "box_style": "",
            "children": [
              "IPY_MODEL_e02754898fed4bea8a27f37ce2dba836",
              "IPY_MODEL_56cbebc5224c44ebaa0123b3ac1544b7",
              "IPY_MODEL_aead75d525c9437c9bf290e61f436b4f"
            ],
            "layout": "IPY_MODEL_437f5e2b4f9e4252b176ca4d933955a6"
          }
        },
        "e02754898fed4bea8a27f37ce2dba836": {
          "model_module": "@jupyter-widgets/controls",
          "model_name": "HTMLModel",
          "model_module_version": "1.5.0",
          "state": {
            "_dom_classes": [],
            "_model_module": "@jupyter-widgets/controls",
            "_model_module_version": "1.5.0",
            "_model_name": "HTMLModel",
            "_view_count": null,
            "_view_module": "@jupyter-widgets/controls",
            "_view_module_version": "1.5.0",
            "_view_name": "HTMLView",
            "description": "",
            "description_tooltip": null,
            "layout": "IPY_MODEL_fa81d1bdf09a494ab9fb90355234fd76",
            "placeholder": "​",
            "style": "IPY_MODEL_26786edd10ef4f0394e04a87d1f1822b",
            "value": "Downloading: 100%"
          }
        },
        "56cbebc5224c44ebaa0123b3ac1544b7": {
          "model_module": "@jupyter-widgets/controls",
          "model_name": "FloatProgressModel",
          "model_module_version": "1.5.0",
          "state": {
            "_dom_classes": [],
            "_model_module": "@jupyter-widgets/controls",
            "_model_module_version": "1.5.0",
            "_model_name": "FloatProgressModel",
            "_view_count": null,
            "_view_module": "@jupyter-widgets/controls",
            "_view_module_version": "1.5.0",
            "_view_name": "ProgressView",
            "bar_style": "success",
            "description": "",
            "description_tooltip": null,
            "layout": "IPY_MODEL_02284acf55d34b50bbda61830e13e028",
            "max": 993805,
            "min": 0,
            "orientation": "horizontal",
            "style": "IPY_MODEL_fa516b54cbb34fbaac14dcee59995200",
            "value": 993805
          }
        },
        "aead75d525c9437c9bf290e61f436b4f": {
          "model_module": "@jupyter-widgets/controls",
          "model_name": "HTMLModel",
          "model_module_version": "1.5.0",
          "state": {
            "_dom_classes": [],
            "_model_module": "@jupyter-widgets/controls",
            "_model_module_version": "1.5.0",
            "_model_name": "HTMLModel",
            "_view_count": null,
            "_view_module": "@jupyter-widgets/controls",
            "_view_module_version": "1.5.0",
            "_view_name": "HTMLView",
            "description": "",
            "description_tooltip": null,
            "layout": "IPY_MODEL_21ae5a2dde4a44babe03676acd903f5a",
            "placeholder": "​",
            "style": "IPY_MODEL_df1f798d76224dd3b656b6fee9474420",
            "value": " 971k/971k [00:01&lt;00:00, 901kB/s]"
          }
        },
        "437f5e2b4f9e4252b176ca4d933955a6": {
          "model_module": "@jupyter-widgets/base",
          "model_name": "LayoutModel",
          "model_module_version": "1.2.0",
          "state": {
            "_model_module": "@jupyter-widgets/base",
            "_model_module_version": "1.2.0",
            "_model_name": "LayoutModel",
            "_view_count": null,
            "_view_module": "@jupyter-widgets/base",
            "_view_module_version": "1.2.0",
            "_view_name": "LayoutView",
            "align_content": null,
            "align_items": null,
            "align_self": null,
            "border": null,
            "bottom": null,
            "display": null,
            "flex": null,
            "flex_flow": null,
            "grid_area": null,
            "grid_auto_columns": null,
            "grid_auto_flow": null,
            "grid_auto_rows": null,
            "grid_column": null,
            "grid_gap": null,
            "grid_row": null,
            "grid_template_areas": null,
            "grid_template_columns": null,
            "grid_template_rows": null,
            "height": null,
            "justify_content": null,
            "justify_items": null,
            "left": null,
            "margin": null,
            "max_height": null,
            "max_width": null,
            "min_height": null,
            "min_width": null,
            "object_fit": null,
            "object_position": null,
            "order": null,
            "overflow": null,
            "overflow_x": null,
            "overflow_y": null,
            "padding": null,
            "right": null,
            "top": null,
            "visibility": null,
            "width": null
          }
        },
        "fa81d1bdf09a494ab9fb90355234fd76": {
          "model_module": "@jupyter-widgets/base",
          "model_name": "LayoutModel",
          "model_module_version": "1.2.0",
          "state": {
            "_model_module": "@jupyter-widgets/base",
            "_model_module_version": "1.2.0",
            "_model_name": "LayoutModel",
            "_view_count": null,
            "_view_module": "@jupyter-widgets/base",
            "_view_module_version": "1.2.0",
            "_view_name": "LayoutView",
            "align_content": null,
            "align_items": null,
            "align_self": null,
            "border": null,
            "bottom": null,
            "display": null,
            "flex": null,
            "flex_flow": null,
            "grid_area": null,
            "grid_auto_columns": null,
            "grid_auto_flow": null,
            "grid_auto_rows": null,
            "grid_column": null,
            "grid_gap": null,
            "grid_row": null,
            "grid_template_areas": null,
            "grid_template_columns": null,
            "grid_template_rows": null,
            "height": null,
            "justify_content": null,
            "justify_items": null,
            "left": null,
            "margin": null,
            "max_height": null,
            "max_width": null,
            "min_height": null,
            "min_width": null,
            "object_fit": null,
            "object_position": null,
            "order": null,
            "overflow": null,
            "overflow_x": null,
            "overflow_y": null,
            "padding": null,
            "right": null,
            "top": null,
            "visibility": null,
            "width": null
          }
        },
        "26786edd10ef4f0394e04a87d1f1822b": {
          "model_module": "@jupyter-widgets/controls",
          "model_name": "DescriptionStyleModel",
          "model_module_version": "1.5.0",
          "state": {
            "_model_module": "@jupyter-widgets/controls",
            "_model_module_version": "1.5.0",
            "_model_name": "DescriptionStyleModel",
            "_view_count": null,
            "_view_module": "@jupyter-widgets/base",
            "_view_module_version": "1.2.0",
            "_view_name": "StyleView",
            "description_width": ""
          }
        },
        "02284acf55d34b50bbda61830e13e028": {
          "model_module": "@jupyter-widgets/base",
          "model_name": "LayoutModel",
          "model_module_version": "1.2.0",
          "state": {
            "_model_module": "@jupyter-widgets/base",
            "_model_module_version": "1.2.0",
            "_model_name": "LayoutModel",
            "_view_count": null,
            "_view_module": "@jupyter-widgets/base",
            "_view_module_version": "1.2.0",
            "_view_name": "LayoutView",
            "align_content": null,
            "align_items": null,
            "align_self": null,
            "border": null,
            "bottom": null,
            "display": null,
            "flex": null,
            "flex_flow": null,
            "grid_area": null,
            "grid_auto_columns": null,
            "grid_auto_flow": null,
            "grid_auto_rows": null,
            "grid_column": null,
            "grid_gap": null,
            "grid_row": null,
            "grid_template_areas": null,
            "grid_template_columns": null,
            "grid_template_rows": null,
            "height": null,
            "justify_content": null,
            "justify_items": null,
            "left": null,
            "margin": null,
            "max_height": null,
            "max_width": null,
            "min_height": null,
            "min_width": null,
            "object_fit": null,
            "object_position": null,
            "order": null,
            "overflow": null,
            "overflow_x": null,
            "overflow_y": null,
            "padding": null,
            "right": null,
            "top": null,
            "visibility": null,
            "width": null
          }
        },
        "fa516b54cbb34fbaac14dcee59995200": {
          "model_module": "@jupyter-widgets/controls",
          "model_name": "ProgressStyleModel",
          "model_module_version": "1.5.0",
          "state": {
            "_model_module": "@jupyter-widgets/controls",
            "_model_module_version": "1.5.0",
            "_model_name": "ProgressStyleModel",
            "_view_count": null,
            "_view_module": "@jupyter-widgets/base",
            "_view_module_version": "1.2.0",
            "_view_name": "StyleView",
            "bar_color": null,
            "description_width": ""
          }
        },
        "21ae5a2dde4a44babe03676acd903f5a": {
          "model_module": "@jupyter-widgets/base",
          "model_name": "LayoutModel",
          "model_module_version": "1.2.0",
          "state": {
            "_model_module": "@jupyter-widgets/base",
            "_model_module_version": "1.2.0",
            "_model_name": "LayoutModel",
            "_view_count": null,
            "_view_module": "@jupyter-widgets/base",
            "_view_module_version": "1.2.0",
            "_view_name": "LayoutView",
            "align_content": null,
            "align_items": null,
            "align_self": null,
            "border": null,
            "bottom": null,
            "display": null,
            "flex": null,
            "flex_flow": null,
            "grid_area": null,
            "grid_auto_columns": null,
            "grid_auto_flow": null,
            "grid_auto_rows": null,
            "grid_column": null,
            "grid_gap": null,
            "grid_row": null,
            "grid_template_areas": null,
            "grid_template_columns": null,
            "grid_template_rows": null,
            "height": null,
            "justify_content": null,
            "justify_items": null,
            "left": null,
            "margin": null,
            "max_height": null,
            "max_width": null,
            "min_height": null,
            "min_width": null,
            "object_fit": null,
            "object_position": null,
            "order": null,
            "overflow": null,
            "overflow_x": null,
            "overflow_y": null,
            "padding": null,
            "right": null,
            "top": null,
            "visibility": null,
            "width": null
          }
        },
        "df1f798d76224dd3b656b6fee9474420": {
          "model_module": "@jupyter-widgets/controls",
          "model_name": "DescriptionStyleModel",
          "model_module_version": "1.5.0",
          "state": {
            "_model_module": "@jupyter-widgets/controls",
            "_model_module_version": "1.5.0",
            "_model_name": "DescriptionStyleModel",
            "_view_count": null,
            "_view_module": "@jupyter-widgets/base",
            "_view_module_version": "1.2.0",
            "_view_name": "StyleView",
            "description_width": ""
          }
        },
        "950f0dd8df47401c83d16a1d2d1bc64e": {
          "model_module": "@jupyter-widgets/controls",
          "model_name": "HBoxModel",
          "model_module_version": "1.5.0",
          "state": {
            "_dom_classes": [],
            "_model_module": "@jupyter-widgets/controls",
            "_model_module_version": "1.5.0",
            "_model_name": "HBoxModel",
            "_view_count": null,
            "_view_module": "@jupyter-widgets/controls",
            "_view_module_version": "1.5.0",
            "_view_name": "HBoxView",
            "box_style": "",
            "children": [
              "IPY_MODEL_b6e9842b05754bee964d49594c0b4f22",
              "IPY_MODEL_c95130162158427d8097d6cbc3407dd0",
              "IPY_MODEL_2042843e7d3f454f86ec053915f70f1f"
            ],
            "layout": "IPY_MODEL_e034b82438f74b0e9ccc5bb2b03886be"
          }
        },
        "b6e9842b05754bee964d49594c0b4f22": {
          "model_module": "@jupyter-widgets/controls",
          "model_name": "HTMLModel",
          "model_module_version": "1.5.0",
          "state": {
            "_dom_classes": [],
            "_model_module": "@jupyter-widgets/controls",
            "_model_module_version": "1.5.0",
            "_model_name": "HTMLModel",
            "_view_count": null,
            "_view_module": "@jupyter-widgets/controls",
            "_view_module_version": "1.5.0",
            "_view_name": "HTMLView",
            "description": "",
            "description_tooltip": null,
            "layout": "IPY_MODEL_cbd222498ea44059ae525fb15abb113e",
            "placeholder": "​",
            "style": "IPY_MODEL_4c9805ebe9294f0c94654d5d12e4b343",
            "value": "Downloading: 100%"
          }
        },
        "c95130162158427d8097d6cbc3407dd0": {
          "model_module": "@jupyter-widgets/controls",
          "model_name": "FloatProgressModel",
          "model_module_version": "1.5.0",
          "state": {
            "_dom_classes": [],
            "_model_module": "@jupyter-widgets/controls",
            "_model_module_version": "1.5.0",
            "_model_name": "FloatProgressModel",
            "_view_count": null,
            "_view_module": "@jupyter-widgets/controls",
            "_view_module_version": "1.5.0",
            "_view_name": "ProgressView",
            "bar_style": "success",
            "description": "",
            "description_tooltip": null,
            "layout": "IPY_MODEL_f93efaff48d5404d95280925da0f64cd",
            "max": 482532,
            "min": 0,
            "orientation": "horizontal",
            "style": "IPY_MODEL_0f4605e5dab149bf987ea08c6588e59c",
            "value": 482532
          }
        },
        "2042843e7d3f454f86ec053915f70f1f": {
          "model_module": "@jupyter-widgets/controls",
          "model_name": "HTMLModel",
          "model_module_version": "1.5.0",
          "state": {
            "_dom_classes": [],
            "_model_module": "@jupyter-widgets/controls",
            "_model_module_version": "1.5.0",
            "_model_name": "HTMLModel",
            "_view_count": null,
            "_view_module": "@jupyter-widgets/controls",
            "_view_module_version": "1.5.0",
            "_view_name": "HTMLView",
            "description": "",
            "description_tooltip": null,
            "layout": "IPY_MODEL_a4222cf6e88f43cc8f3dcffaa1a36873",
            "placeholder": "​",
            "style": "IPY_MODEL_25c82d68d3194d11b0e8565b1cb63a57",
            "value": " 471k/471k [00:01&lt;00:00, 496kB/s]"
          }
        },
        "e034b82438f74b0e9ccc5bb2b03886be": {
          "model_module": "@jupyter-widgets/base",
          "model_name": "LayoutModel",
          "model_module_version": "1.2.0",
          "state": {
            "_model_module": "@jupyter-widgets/base",
            "_model_module_version": "1.2.0",
            "_model_name": "LayoutModel",
            "_view_count": null,
            "_view_module": "@jupyter-widgets/base",
            "_view_module_version": "1.2.0",
            "_view_name": "LayoutView",
            "align_content": null,
            "align_items": null,
            "align_self": null,
            "border": null,
            "bottom": null,
            "display": null,
            "flex": null,
            "flex_flow": null,
            "grid_area": null,
            "grid_auto_columns": null,
            "grid_auto_flow": null,
            "grid_auto_rows": null,
            "grid_column": null,
            "grid_gap": null,
            "grid_row": null,
            "grid_template_areas": null,
            "grid_template_columns": null,
            "grid_template_rows": null,
            "height": null,
            "justify_content": null,
            "justify_items": null,
            "left": null,
            "margin": null,
            "max_height": null,
            "max_width": null,
            "min_height": null,
            "min_width": null,
            "object_fit": null,
            "object_position": null,
            "order": null,
            "overflow": null,
            "overflow_x": null,
            "overflow_y": null,
            "padding": null,
            "right": null,
            "top": null,
            "visibility": null,
            "width": null
          }
        },
        "cbd222498ea44059ae525fb15abb113e": {
          "model_module": "@jupyter-widgets/base",
          "model_name": "LayoutModel",
          "model_module_version": "1.2.0",
          "state": {
            "_model_module": "@jupyter-widgets/base",
            "_model_module_version": "1.2.0",
            "_model_name": "LayoutModel",
            "_view_count": null,
            "_view_module": "@jupyter-widgets/base",
            "_view_module_version": "1.2.0",
            "_view_name": "LayoutView",
            "align_content": null,
            "align_items": null,
            "align_self": null,
            "border": null,
            "bottom": null,
            "display": null,
            "flex": null,
            "flex_flow": null,
            "grid_area": null,
            "grid_auto_columns": null,
            "grid_auto_flow": null,
            "grid_auto_rows": null,
            "grid_column": null,
            "grid_gap": null,
            "grid_row": null,
            "grid_template_areas": null,
            "grid_template_columns": null,
            "grid_template_rows": null,
            "height": null,
            "justify_content": null,
            "justify_items": null,
            "left": null,
            "margin": null,
            "max_height": null,
            "max_width": null,
            "min_height": null,
            "min_width": null,
            "object_fit": null,
            "object_position": null,
            "order": null,
            "overflow": null,
            "overflow_x": null,
            "overflow_y": null,
            "padding": null,
            "right": null,
            "top": null,
            "visibility": null,
            "width": null
          }
        },
        "4c9805ebe9294f0c94654d5d12e4b343": {
          "model_module": "@jupyter-widgets/controls",
          "model_name": "DescriptionStyleModel",
          "model_module_version": "1.5.0",
          "state": {
            "_model_module": "@jupyter-widgets/controls",
            "_model_module_version": "1.5.0",
            "_model_name": "DescriptionStyleModel",
            "_view_count": null,
            "_view_module": "@jupyter-widgets/base",
            "_view_module_version": "1.2.0",
            "_view_name": "StyleView",
            "description_width": ""
          }
        },
        "f93efaff48d5404d95280925da0f64cd": {
          "model_module": "@jupyter-widgets/base",
          "model_name": "LayoutModel",
          "model_module_version": "1.2.0",
          "state": {
            "_model_module": "@jupyter-widgets/base",
            "_model_module_version": "1.2.0",
            "_model_name": "LayoutModel",
            "_view_count": null,
            "_view_module": "@jupyter-widgets/base",
            "_view_module_version": "1.2.0",
            "_view_name": "LayoutView",
            "align_content": null,
            "align_items": null,
            "align_self": null,
            "border": null,
            "bottom": null,
            "display": null,
            "flex": null,
            "flex_flow": null,
            "grid_area": null,
            "grid_auto_columns": null,
            "grid_auto_flow": null,
            "grid_auto_rows": null,
            "grid_column": null,
            "grid_gap": null,
            "grid_row": null,
            "grid_template_areas": null,
            "grid_template_columns": null,
            "grid_template_rows": null,
            "height": null,
            "justify_content": null,
            "justify_items": null,
            "left": null,
            "margin": null,
            "max_height": null,
            "max_width": null,
            "min_height": null,
            "min_width": null,
            "object_fit": null,
            "object_position": null,
            "order": null,
            "overflow": null,
            "overflow_x": null,
            "overflow_y": null,
            "padding": null,
            "right": null,
            "top": null,
            "visibility": null,
            "width": null
          }
        },
        "0f4605e5dab149bf987ea08c6588e59c": {
          "model_module": "@jupyter-widgets/controls",
          "model_name": "ProgressStyleModel",
          "model_module_version": "1.5.0",
          "state": {
            "_model_module": "@jupyter-widgets/controls",
            "_model_module_version": "1.5.0",
            "_model_name": "ProgressStyleModel",
            "_view_count": null,
            "_view_module": "@jupyter-widgets/base",
            "_view_module_version": "1.2.0",
            "_view_name": "StyleView",
            "bar_color": null,
            "description_width": ""
          }
        },
        "a4222cf6e88f43cc8f3dcffaa1a36873": {
          "model_module": "@jupyter-widgets/base",
          "model_name": "LayoutModel",
          "model_module_version": "1.2.0",
          "state": {
            "_model_module": "@jupyter-widgets/base",
            "_model_module_version": "1.2.0",
            "_model_name": "LayoutModel",
            "_view_count": null,
            "_view_module": "@jupyter-widgets/base",
            "_view_module_version": "1.2.0",
            "_view_name": "LayoutView",
            "align_content": null,
            "align_items": null,
            "align_self": null,
            "border": null,
            "bottom": null,
            "display": null,
            "flex": null,
            "flex_flow": null,
            "grid_area": null,
            "grid_auto_columns": null,
            "grid_auto_flow": null,
            "grid_auto_rows": null,
            "grid_column": null,
            "grid_gap": null,
            "grid_row": null,
            "grid_template_areas": null,
            "grid_template_columns": null,
            "grid_template_rows": null,
            "height": null,
            "justify_content": null,
            "justify_items": null,
            "left": null,
            "margin": null,
            "max_height": null,
            "max_width": null,
            "min_height": null,
            "min_width": null,
            "object_fit": null,
            "object_position": null,
            "order": null,
            "overflow": null,
            "overflow_x": null,
            "overflow_y": null,
            "padding": null,
            "right": null,
            "top": null,
            "visibility": null,
            "width": null
          }
        },
        "25c82d68d3194d11b0e8565b1cb63a57": {
          "model_module": "@jupyter-widgets/controls",
          "model_name": "DescriptionStyleModel",
          "model_module_version": "1.5.0",
          "state": {
            "_model_module": "@jupyter-widgets/controls",
            "_model_module_version": "1.5.0",
            "_model_name": "DescriptionStyleModel",
            "_view_count": null,
            "_view_module": "@jupyter-widgets/base",
            "_view_module_version": "1.2.0",
            "_view_name": "StyleView",
            "description_width": ""
          }
        },
        "3534675b2b3e4d3787817b438017782e": {
          "model_module": "@jupyter-widgets/controls",
          "model_name": "HBoxModel",
          "model_module_version": "1.5.0",
          "state": {
            "_dom_classes": [],
            "_model_module": "@jupyter-widgets/controls",
            "_model_module_version": "1.5.0",
            "_model_name": "HBoxModel",
            "_view_count": null,
            "_view_module": "@jupyter-widgets/controls",
            "_view_module_version": "1.5.0",
            "_view_name": "HBoxView",
            "box_style": "",
            "children": [
              "IPY_MODEL_1bc577d9213540788ba09a98709d5950",
              "IPY_MODEL_3aa43c519cd2420db67b273a15c3fdbb",
              "IPY_MODEL_c79f0418e8f54a8ebe43e4fb5850d83c"
            ],
            "layout": "IPY_MODEL_49a17400aacf4a1b96130ca62d530800"
          }
        },
        "1bc577d9213540788ba09a98709d5950": {
          "model_module": "@jupyter-widgets/controls",
          "model_name": "HTMLModel",
          "model_module_version": "1.5.0",
          "state": {
            "_dom_classes": [],
            "_model_module": "@jupyter-widgets/controls",
            "_model_module_version": "1.5.0",
            "_model_name": "HTMLModel",
            "_view_count": null,
            "_view_module": "@jupyter-widgets/controls",
            "_view_module_version": "1.5.0",
            "_view_name": "HTMLView",
            "description": "",
            "description_tooltip": null,
            "layout": "IPY_MODEL_24cada15e0e94126828c5abc3043f51e",
            "placeholder": "​",
            "style": "IPY_MODEL_2646d04eb245481789c02649e1fa2139",
            "value": "Downloading: 100%"
          }
        },
        "3aa43c519cd2420db67b273a15c3fdbb": {
          "model_module": "@jupyter-widgets/controls",
          "model_name": "FloatProgressModel",
          "model_module_version": "1.5.0",
          "state": {
            "_dom_classes": [],
            "_model_module": "@jupyter-widgets/controls",
            "_model_module_version": "1.5.0",
            "_model_name": "FloatProgressModel",
            "_view_count": null,
            "_view_module": "@jupyter-widgets/controls",
            "_view_module_version": "1.5.0",
            "_view_name": "ProgressView",
            "bar_style": "success",
            "description": "",
            "description_tooltip": null,
            "layout": "IPY_MODEL_21d25c527bdd421eba560de4be60e8d6",
            "max": 336407488,
            "min": 0,
            "orientation": "horizontal",
            "style": "IPY_MODEL_149168829fe74fe3a070dd8210d27e90",
            "value": 336407488
          }
        },
        "c79f0418e8f54a8ebe43e4fb5850d83c": {
          "model_module": "@jupyter-widgets/controls",
          "model_name": "HTMLModel",
          "model_module_version": "1.5.0",
          "state": {
            "_dom_classes": [],
            "_model_module": "@jupyter-widgets/controls",
            "_model_module_version": "1.5.0",
            "_model_name": "HTMLModel",
            "_view_count": null,
            "_view_module": "@jupyter-widgets/controls",
            "_view_module_version": "1.5.0",
            "_view_name": "HTMLView",
            "description": "",
            "description_tooltip": null,
            "layout": "IPY_MODEL_aa1ef3d0b57d4782869ae4ac5b94379c",
            "placeholder": "​",
            "style": "IPY_MODEL_ff4d938098d44993afcabea62d36f526",
            "value": " 321M/321M [00:06&lt;00:00, 55.1MB/s]"
          }
        },
        "49a17400aacf4a1b96130ca62d530800": {
          "model_module": "@jupyter-widgets/base",
          "model_name": "LayoutModel",
          "model_module_version": "1.2.0",
          "state": {
            "_model_module": "@jupyter-widgets/base",
            "_model_module_version": "1.2.0",
            "_model_name": "LayoutModel",
            "_view_count": null,
            "_view_module": "@jupyter-widgets/base",
            "_view_module_version": "1.2.0",
            "_view_name": "LayoutView",
            "align_content": null,
            "align_items": null,
            "align_self": null,
            "border": null,
            "bottom": null,
            "display": null,
            "flex": null,
            "flex_flow": null,
            "grid_area": null,
            "grid_auto_columns": null,
            "grid_auto_flow": null,
            "grid_auto_rows": null,
            "grid_column": null,
            "grid_gap": null,
            "grid_row": null,
            "grid_template_areas": null,
            "grid_template_columns": null,
            "grid_template_rows": null,
            "height": null,
            "justify_content": null,
            "justify_items": null,
            "left": null,
            "margin": null,
            "max_height": null,
            "max_width": null,
            "min_height": null,
            "min_width": null,
            "object_fit": null,
            "object_position": null,
            "order": null,
            "overflow": null,
            "overflow_x": null,
            "overflow_y": null,
            "padding": null,
            "right": null,
            "top": null,
            "visibility": null,
            "width": null
          }
        },
        "24cada15e0e94126828c5abc3043f51e": {
          "model_module": "@jupyter-widgets/base",
          "model_name": "LayoutModel",
          "model_module_version": "1.2.0",
          "state": {
            "_model_module": "@jupyter-widgets/base",
            "_model_module_version": "1.2.0",
            "_model_name": "LayoutModel",
            "_view_count": null,
            "_view_module": "@jupyter-widgets/base",
            "_view_module_version": "1.2.0",
            "_view_name": "LayoutView",
            "align_content": null,
            "align_items": null,
            "align_self": null,
            "border": null,
            "bottom": null,
            "display": null,
            "flex": null,
            "flex_flow": null,
            "grid_area": null,
            "grid_auto_columns": null,
            "grid_auto_flow": null,
            "grid_auto_rows": null,
            "grid_column": null,
            "grid_gap": null,
            "grid_row": null,
            "grid_template_areas": null,
            "grid_template_columns": null,
            "grid_template_rows": null,
            "height": null,
            "justify_content": null,
            "justify_items": null,
            "left": null,
            "margin": null,
            "max_height": null,
            "max_width": null,
            "min_height": null,
            "min_width": null,
            "object_fit": null,
            "object_position": null,
            "order": null,
            "overflow": null,
            "overflow_x": null,
            "overflow_y": null,
            "padding": null,
            "right": null,
            "top": null,
            "visibility": null,
            "width": null
          }
        },
        "2646d04eb245481789c02649e1fa2139": {
          "model_module": "@jupyter-widgets/controls",
          "model_name": "DescriptionStyleModel",
          "model_module_version": "1.5.0",
          "state": {
            "_model_module": "@jupyter-widgets/controls",
            "_model_module_version": "1.5.0",
            "_model_name": "DescriptionStyleModel",
            "_view_count": null,
            "_view_module": "@jupyter-widgets/base",
            "_view_module_version": "1.2.0",
            "_view_name": "StyleView",
            "description_width": ""
          }
        },
        "21d25c527bdd421eba560de4be60e8d6": {
          "model_module": "@jupyter-widgets/base",
          "model_name": "LayoutModel",
          "model_module_version": "1.2.0",
          "state": {
            "_model_module": "@jupyter-widgets/base",
            "_model_module_version": "1.2.0",
            "_model_name": "LayoutModel",
            "_view_count": null,
            "_view_module": "@jupyter-widgets/base",
            "_view_module_version": "1.2.0",
            "_view_name": "LayoutView",
            "align_content": null,
            "align_items": null,
            "align_self": null,
            "border": null,
            "bottom": null,
            "display": null,
            "flex": null,
            "flex_flow": null,
            "grid_area": null,
            "grid_auto_columns": null,
            "grid_auto_flow": null,
            "grid_auto_rows": null,
            "grid_column": null,
            "grid_gap": null,
            "grid_row": null,
            "grid_template_areas": null,
            "grid_template_columns": null,
            "grid_template_rows": null,
            "height": null,
            "justify_content": null,
            "justify_items": null,
            "left": null,
            "margin": null,
            "max_height": null,
            "max_width": null,
            "min_height": null,
            "min_width": null,
            "object_fit": null,
            "object_position": null,
            "order": null,
            "overflow": null,
            "overflow_x": null,
            "overflow_y": null,
            "padding": null,
            "right": null,
            "top": null,
            "visibility": null,
            "width": null
          }
        },
        "149168829fe74fe3a070dd8210d27e90": {
          "model_module": "@jupyter-widgets/controls",
          "model_name": "ProgressStyleModel",
          "model_module_version": "1.5.0",
          "state": {
            "_model_module": "@jupyter-widgets/controls",
            "_model_module_version": "1.5.0",
            "_model_name": "ProgressStyleModel",
            "_view_count": null,
            "_view_module": "@jupyter-widgets/base",
            "_view_module_version": "1.2.0",
            "_view_name": "StyleView",
            "bar_color": null,
            "description_width": ""
          }
        },
        "aa1ef3d0b57d4782869ae4ac5b94379c": {
          "model_module": "@jupyter-widgets/base",
          "model_name": "LayoutModel",
          "model_module_version": "1.2.0",
          "state": {
            "_model_module": "@jupyter-widgets/base",
            "_model_module_version": "1.2.0",
            "_model_name": "LayoutModel",
            "_view_count": null,
            "_view_module": "@jupyter-widgets/base",
            "_view_module_version": "1.2.0",
            "_view_name": "LayoutView",
            "align_content": null,
            "align_items": null,
            "align_self": null,
            "border": null,
            "bottom": null,
            "display": null,
            "flex": null,
            "flex_flow": null,
            "grid_area": null,
            "grid_auto_columns": null,
            "grid_auto_flow": null,
            "grid_auto_rows": null,
            "grid_column": null,
            "grid_gap": null,
            "grid_row": null,
            "grid_template_areas": null,
            "grid_template_columns": null,
            "grid_template_rows": null,
            "height": null,
            "justify_content": null,
            "justify_items": null,
            "left": null,
            "margin": null,
            "max_height": null,
            "max_width": null,
            "min_height": null,
            "min_width": null,
            "object_fit": null,
            "object_position": null,
            "order": null,
            "overflow": null,
            "overflow_x": null,
            "overflow_y": null,
            "padding": null,
            "right": null,
            "top": null,
            "visibility": null,
            "width": null
          }
        },
        "ff4d938098d44993afcabea62d36f526": {
          "model_module": "@jupyter-widgets/controls",
          "model_name": "DescriptionStyleModel",
          "model_module_version": "1.5.0",
          "state": {
            "_model_module": "@jupyter-widgets/controls",
            "_model_module_version": "1.5.0",
            "_model_name": "DescriptionStyleModel",
            "_view_count": null,
            "_view_module": "@jupyter-widgets/base",
            "_view_module_version": "1.2.0",
            "_view_name": "StyleView",
            "description_width": ""
          }
        }
      }
    }
  },
  "cells": [
    {
      "cell_type": "code",
      "source": [
        "! pip install transformers\n",
        "! pip install datasets"
      ],
      "metadata": {
        "id": "YkZfBV0ZUO56",
        "colab": {
          "base_uri": "https://localhost:8080/"
        },
        "outputId": "e105e991-eb1a-4247-ae91-0512c13fcaff"
      },
      "execution_count": null,
      "outputs": [
        {
          "output_type": "stream",
          "name": "stdout",
          "text": [
            "Looking in indexes: https://pypi.org/simple, https://us-python.pkg.dev/colab-wheels/public/simple/\n",
            "Collecting transformers\n",
            "  Downloading transformers-4.20.1-py3-none-any.whl (4.4 MB)\n",
            "\u001b[K     |████████████████████████████████| 4.4 MB 28.2 MB/s \n",
            "\u001b[?25hRequirement already satisfied: importlib-metadata in /usr/local/lib/python3.7/dist-packages (from transformers) (4.11.4)\n",
            "Requirement already satisfied: tqdm>=4.27 in /usr/local/lib/python3.7/dist-packages (from transformers) (4.64.0)\n",
            "Collecting tokenizers!=0.11.3,<0.13,>=0.11.1\n",
            "  Downloading tokenizers-0.12.1-cp37-cp37m-manylinux_2_12_x86_64.manylinux2010_x86_64.whl (6.6 MB)\n",
            "\u001b[K     |████████████████████████████████| 6.6 MB 56.3 MB/s \n",
            "\u001b[?25hRequirement already satisfied: numpy>=1.17 in /usr/local/lib/python3.7/dist-packages (from transformers) (1.21.6)\n",
            "Collecting pyyaml>=5.1\n",
            "  Downloading PyYAML-6.0-cp37-cp37m-manylinux_2_5_x86_64.manylinux1_x86_64.manylinux_2_12_x86_64.manylinux2010_x86_64.whl (596 kB)\n",
            "\u001b[K     |████████████████████████████████| 596 kB 3.6 MB/s \n",
            "\u001b[?25hRequirement already satisfied: requests in /usr/local/lib/python3.7/dist-packages (from transformers) (2.23.0)\n",
            "Requirement already satisfied: packaging>=20.0 in /usr/local/lib/python3.7/dist-packages (from transformers) (21.3)\n",
            "Collecting huggingface-hub<1.0,>=0.1.0\n",
            "  Downloading huggingface_hub-0.8.1-py3-none-any.whl (101 kB)\n",
            "\u001b[K     |████████████████████████████████| 101 kB 12.9 MB/s \n",
            "\u001b[?25hRequirement already satisfied: regex!=2019.12.17 in /usr/local/lib/python3.7/dist-packages (from transformers) (2022.6.2)\n",
            "Requirement already satisfied: filelock in /usr/local/lib/python3.7/dist-packages (from transformers) (3.7.1)\n",
            "Requirement already satisfied: typing-extensions>=3.7.4.3 in /usr/local/lib/python3.7/dist-packages (from huggingface-hub<1.0,>=0.1.0->transformers) (4.1.1)\n",
            "Requirement already satisfied: pyparsing!=3.0.5,>=2.0.2 in /usr/local/lib/python3.7/dist-packages (from packaging>=20.0->transformers) (3.0.9)\n",
            "Requirement already satisfied: zipp>=0.5 in /usr/local/lib/python3.7/dist-packages (from importlib-metadata->transformers) (3.8.0)\n",
            "Requirement already satisfied: urllib3!=1.25.0,!=1.25.1,<1.26,>=1.21.1 in /usr/local/lib/python3.7/dist-packages (from requests->transformers) (1.24.3)\n",
            "Requirement already satisfied: chardet<4,>=3.0.2 in /usr/local/lib/python3.7/dist-packages (from requests->transformers) (3.0.4)\n",
            "Requirement already satisfied: certifi>=2017.4.17 in /usr/local/lib/python3.7/dist-packages (from requests->transformers) (2022.6.15)\n",
            "Requirement already satisfied: idna<3,>=2.5 in /usr/local/lib/python3.7/dist-packages (from requests->transformers) (2.10)\n",
            "Installing collected packages: pyyaml, tokenizers, huggingface-hub, transformers\n",
            "  Attempting uninstall: pyyaml\n",
            "    Found existing installation: PyYAML 3.13\n",
            "    Uninstalling PyYAML-3.13:\n",
            "      Successfully uninstalled PyYAML-3.13\n",
            "Successfully installed huggingface-hub-0.8.1 pyyaml-6.0 tokenizers-0.12.1 transformers-4.20.1\n",
            "Looking in indexes: https://pypi.org/simple, https://us-python.pkg.dev/colab-wheels/public/simple/\n",
            "Collecting datasets\n",
            "  Downloading datasets-2.3.2-py3-none-any.whl (362 kB)\n",
            "\u001b[K     |████████████████████████████████| 362 kB 30.7 MB/s \n",
            "\u001b[?25hRequirement already satisfied: pandas in /usr/local/lib/python3.7/dist-packages (from datasets) (1.3.5)\n",
            "Collecting fsspec[http]>=2021.05.0\n",
            "  Downloading fsspec-2022.5.0-py3-none-any.whl (140 kB)\n",
            "\u001b[K     |████████████████████████████████| 140 kB 72.9 MB/s \n",
            "\u001b[?25hRequirement already satisfied: numpy>=1.17 in /usr/local/lib/python3.7/dist-packages (from datasets) (1.21.6)\n",
            "Collecting responses<0.19\n",
            "  Downloading responses-0.18.0-py3-none-any.whl (38 kB)\n",
            "Requirement already satisfied: pyarrow>=6.0.0 in /usr/local/lib/python3.7/dist-packages (from datasets) (6.0.1)\n",
            "Requirement already satisfied: packaging in /usr/local/lib/python3.7/dist-packages (from datasets) (21.3)\n",
            "Collecting aiohttp\n",
            "  Downloading aiohttp-3.8.1-cp37-cp37m-manylinux_2_5_x86_64.manylinux1_x86_64.manylinux_2_12_x86_64.manylinux2010_x86_64.whl (1.1 MB)\n",
            "\u001b[K     |████████████████████████████████| 1.1 MB 52.6 MB/s \n",
            "\u001b[?25hRequirement already satisfied: importlib-metadata in /usr/local/lib/python3.7/dist-packages (from datasets) (4.11.4)\n",
            "Requirement already satisfied: huggingface-hub<1.0.0,>=0.1.0 in /usr/local/lib/python3.7/dist-packages (from datasets) (0.8.1)\n",
            "Requirement already satisfied: multiprocess in /usr/local/lib/python3.7/dist-packages (from datasets) (0.70.13)\n",
            "Requirement already satisfied: tqdm>=4.62.1 in /usr/local/lib/python3.7/dist-packages (from datasets) (4.64.0)\n",
            "Collecting xxhash\n",
            "  Downloading xxhash-3.0.0-cp37-cp37m-manylinux_2_17_x86_64.manylinux2014_x86_64.whl (212 kB)\n",
            "\u001b[K     |████████████████████████████████| 212 kB 70.3 MB/s \n",
            "\u001b[?25hRequirement already satisfied: dill<0.3.6 in /usr/local/lib/python3.7/dist-packages (from datasets) (0.3.5.1)\n",
            "Requirement already satisfied: requests>=2.19.0 in /usr/local/lib/python3.7/dist-packages (from datasets) (2.23.0)\n",
            "Requirement already satisfied: filelock in /usr/local/lib/python3.7/dist-packages (from huggingface-hub<1.0.0,>=0.1.0->datasets) (3.7.1)\n",
            "Requirement already satisfied: pyyaml>=5.1 in /usr/local/lib/python3.7/dist-packages (from huggingface-hub<1.0.0,>=0.1.0->datasets) (6.0)\n",
            "Requirement already satisfied: typing-extensions>=3.7.4.3 in /usr/local/lib/python3.7/dist-packages (from huggingface-hub<1.0.0,>=0.1.0->datasets) (4.1.1)\n",
            "Requirement already satisfied: pyparsing!=3.0.5,>=2.0.2 in /usr/local/lib/python3.7/dist-packages (from packaging->datasets) (3.0.9)\n",
            "Requirement already satisfied: chardet<4,>=3.0.2 in /usr/local/lib/python3.7/dist-packages (from requests>=2.19.0->datasets) (3.0.4)\n",
            "Requirement already satisfied: certifi>=2017.4.17 in /usr/local/lib/python3.7/dist-packages (from requests>=2.19.0->datasets) (2022.6.15)\n",
            "Requirement already satisfied: urllib3!=1.25.0,!=1.25.1,<1.26,>=1.21.1 in /usr/local/lib/python3.7/dist-packages (from requests>=2.19.0->datasets) (1.24.3)\n",
            "Requirement already satisfied: idna<3,>=2.5 in /usr/local/lib/python3.7/dist-packages (from requests>=2.19.0->datasets) (2.10)\n",
            "Collecting urllib3!=1.25.0,!=1.25.1,<1.26,>=1.21.1\n",
            "  Downloading urllib3-1.25.11-py2.py3-none-any.whl (127 kB)\n",
            "\u001b[K     |████████████████████████████████| 127 kB 72.0 MB/s \n",
            "\u001b[?25hCollecting frozenlist>=1.1.1\n",
            "  Downloading frozenlist-1.3.0-cp37-cp37m-manylinux_2_5_x86_64.manylinux1_x86_64.manylinux_2_17_x86_64.manylinux2014_x86_64.whl (144 kB)\n",
            "\u001b[K     |████████████████████████████████| 144 kB 72.9 MB/s \n",
            "\u001b[?25hCollecting async-timeout<5.0,>=4.0.0a3\n",
            "  Downloading async_timeout-4.0.2-py3-none-any.whl (5.8 kB)\n",
            "Collecting multidict<7.0,>=4.5\n",
            "  Downloading multidict-6.0.2-cp37-cp37m-manylinux_2_17_x86_64.manylinux2014_x86_64.whl (94 kB)\n",
            "\u001b[K     |████████████████████████████████| 94 kB 3.0 MB/s \n",
            "\u001b[?25hRequirement already satisfied: charset-normalizer<3.0,>=2.0 in /usr/local/lib/python3.7/dist-packages (from aiohttp->datasets) (2.0.12)\n",
            "Collecting asynctest==0.13.0\n",
            "  Downloading asynctest-0.13.0-py3-none-any.whl (26 kB)\n",
            "Requirement already satisfied: attrs>=17.3.0 in /usr/local/lib/python3.7/dist-packages (from aiohttp->datasets) (21.4.0)\n",
            "Collecting aiosignal>=1.1.2\n",
            "  Downloading aiosignal-1.2.0-py3-none-any.whl (8.2 kB)\n",
            "Collecting yarl<2.0,>=1.0\n",
            "  Downloading yarl-1.7.2-cp37-cp37m-manylinux_2_5_x86_64.manylinux1_x86_64.manylinux_2_12_x86_64.manylinux2010_x86_64.whl (271 kB)\n",
            "\u001b[K     |████████████████████████████████| 271 kB 73.2 MB/s \n",
            "\u001b[?25hRequirement already satisfied: zipp>=0.5 in /usr/local/lib/python3.7/dist-packages (from importlib-metadata->datasets) (3.8.0)\n",
            "Requirement already satisfied: python-dateutil>=2.7.3 in /usr/local/lib/python3.7/dist-packages (from pandas->datasets) (2.8.2)\n",
            "Requirement already satisfied: pytz>=2017.3 in /usr/local/lib/python3.7/dist-packages (from pandas->datasets) (2022.1)\n",
            "Requirement already satisfied: six>=1.5 in /usr/local/lib/python3.7/dist-packages (from python-dateutil>=2.7.3->pandas->datasets) (1.15.0)\n",
            "Installing collected packages: multidict, frozenlist, yarl, urllib3, asynctest, async-timeout, aiosignal, fsspec, aiohttp, xxhash, responses, datasets\n",
            "  Attempting uninstall: urllib3\n",
            "    Found existing installation: urllib3 1.24.3\n",
            "    Uninstalling urllib3-1.24.3:\n",
            "      Successfully uninstalled urllib3-1.24.3\n",
            "\u001b[31mERROR: pip's dependency resolver does not currently take into account all the packages that are installed. This behaviour is the source of the following dependency conflicts.\n",
            "datascience 0.10.6 requires folium==0.2.1, but you have folium 0.8.3 which is incompatible.\u001b[0m\n",
            "Successfully installed aiohttp-3.8.1 aiosignal-1.2.0 async-timeout-4.0.2 asynctest-0.13.0 datasets-2.3.2 frozenlist-1.3.0 fsspec-2022.5.0 multidict-6.0.2 responses-0.18.0 urllib3-1.25.11 xxhash-3.0.0 yarl-1.7.2\n"
          ]
        }
      ]
    },
    {
      "cell_type": "code",
      "source": [
        "import tensorflow as tf\n",
        "import transformers\n",
        "from transformers import DistilBertTokenizer, TFBertModel, TFDistilBertForMultipleChoice\n",
        "from transformers import TFDistilBertForSequenceClassification\n",
        "from transformers import AutoTokenizer, AutoModelForSequenceClassification, TFGPT2ForSequenceClassification, TFRobertaForSequenceClassification\n",
        "\n",
        "import json\n",
        "\n",
        "MODEL_NAME = 'distilbert-base-uncased'\n",
        "MODEL_NAME = 'huggingface/CodeBERTa-small-v1'\n",
        "BATCH_SIZE = 16\n",
        "N_EPOCHS = 3\n"
      ],
      "metadata": {
        "id": "29aGfcF0UO3x"
      },
      "execution_count": null,
      "outputs": []
    },
    {
      "cell_type": "code",
      "source": [
        "task2_x = []\n",
        "task2_y = []\n",
        "task2_test_x = []\n",
        "task2_test_y = []\n",
        "\n",
        "with open(\"btrain_x.txt\", 'r') as f:\n",
        "  for line in f:\n",
        "    task2_x.append(line)\n",
        "\n",
        "\n",
        "with open(\"btrain_y.txt\", 'r') as f:\n",
        "  for line in f:\n",
        "    task2_y.append(line)\n",
        "\n",
        "\n",
        "with open(\"btest_x.txt\", 'r') as f:\n",
        "  for line in f:\n",
        "    task2_test_x.append(line)\n",
        "\n",
        "\n",
        "with open(\"btest_y.txt\", 'r') as f:\n",
        "  for line in f:\n",
        "    task2_test_y.append(line)\n",
        "\n",
        "\n",
        "print(len(task2_x), len(task2_y),len(task2_test_x),len(task2_test_y))"
      ],
      "metadata": {
        "colab": {
          "base_uri": "https://localhost:8080/"
        },
        "id": "HE2NE3UAUO1V",
        "outputId": "147d88a0-76be-4342-add5-83dc797b76de"
      },
      "execution_count": null,
      "outputs": [
        {
          "output_type": "stream",
          "name": "stdout",
          "text": [
            "8100 8100 900 900\n"
          ]
        }
      ]
    },
    {
      "cell_type": "code",
      "source": [
        "#tokenizer2 = DistilBertTokenizer.from_pretrained(MODEL_NAME)\n",
        "tokenizer2 = AutoTokenizer.from_pretrained(MODEL_NAME)\n",
        "# if tokenizer2.pad_token is None:\n",
        "#     tokenizer2.add_special_tokens({'pad_token': '[PAD]'})\n",
        "\n",
        "\n",
        "#tokenize the text\n",
        "train_encodings2 = tokenizer2(list(task2_x),\n",
        "                            truncation=True, \n",
        "                            padding=True)\n",
        "test_encodings2 = tokenizer2(list(task2_test_x),\n",
        "                           truncation=True, \n",
        "                           padding=True)\n",
        "\n",
        "\n",
        "\n",
        "task2_y_str = []\n",
        "task2_test_y_str = []\n",
        "\n",
        "for a in task2_y:\n",
        "  task2_y_str.append(int(a))\n",
        "\n",
        "for a in task2_test_y:\n",
        "  task2_test_y_str.append(int(a))\n",
        "\n",
        "\n",
        "train_dataset2 = tf.data.Dataset.from_tensor_slices((dict(train_encodings2),\n",
        "                                    list(task2_y_str)))\n",
        "test_dataset2 = tf.data.Dataset.from_tensor_slices((dict(test_encodings2),\n",
        "                                    list(task2_test_y_str)))\n",
        "\n",
        "\n",
        "#model2 = TFDistilBertForSequenceClassification.from_pretrained(MODEL_NAME, num_labels=3)\n",
        "model2 = TFRobertaForSequenceClassification.from_pretrained(MODEL_NAME, num_labels=3,from_pt=True)\n",
        "\n",
        "\n",
        "\n",
        "# model2 = TFGPT2ForSequenceClassification.from_pretrained(\"gpt2\", num_labels=3)\n",
        "\n",
        "#chose the optimizer\n",
        "optimizerr2 = tf.keras.optimizers.Adam(learning_rate=5e-5)\n",
        "#define the loss function \n",
        "losss2 = tf.keras.losses.SparseCategoricalCrossentropy(from_logits=True)\n",
        "#build the model\n",
        "\n",
        "\n",
        "\n",
        "model2.compile(optimizer=optimizerr2,\n",
        "              loss=losss2,\n",
        "              metrics=['accuracy'])\n",
        "\n",
        "\n",
        "# train the model \n",
        "history = model2.fit(train_dataset2.shuffle(len(task2_x)).batch(BATCH_SIZE),epochs=15, batch_size=BATCH_SIZE)\n",
        "\n"
      ],
      "metadata": {
        "colab": {
          "base_uri": "https://localhost:8080/"
        },
        "id": "Am4piJxnUOzD",
        "outputId": "99ba7068-f4aa-4fe0-ed48-f1ac236e4c1c"
      },
      "execution_count": null,
      "outputs": [
        {
          "output_type": "stream",
          "name": "stderr",
          "text": [
            "All PyTorch model weights were used when initializing TFRobertaForSequenceClassification.\n",
            "\n",
            "Some weights or buffers of the TF 2.0 model TFRobertaForSequenceClassification were not initialized from the PyTorch model and are newly initialized: ['classifier.dense.weight', 'classifier.dense.bias', 'classifier.out_proj.weight', 'classifier.out_proj.bias']\n",
            "You should probably TRAIN this model on a down-stream task to be able to use it for predictions and inference.\n"
          ]
        },
        {
          "output_type": "stream",
          "name": "stdout",
          "text": [
            "Epoch 1/15\n",
            "507/507 [==============================] - 493s 957ms/step - loss: 0.7797 - accuracy: 0.6465\n",
            "Epoch 2/15\n",
            "507/507 [==============================] - 486s 958ms/step - loss: 0.7190 - accuracy: 0.6860\n",
            "Epoch 3/15\n",
            "507/507 [==============================] - 486s 958ms/step - loss: 0.6856 - accuracy: 0.6999\n",
            "Epoch 4/15\n",
            "507/507 [==============================] - 485s 957ms/step - loss: 0.6519 - accuracy: 0.7144\n",
            "Epoch 5/15\n",
            "353/507 [===================>..........] - ETA: 2:27 - loss: 0.6157 - accuracy: 0.7362"
          ]
        }
      ]
    },
    {
      "cell_type": "code",
      "source": [
        "import numpy as np\n",
        "from sklearn.metrics import classification_report\n",
        "\n",
        "predictions1_tran = []\n",
        "predictions2_tran = []\n",
        "\n",
        "test = model2.predict(test_dataset2.batch(1)).logits\n",
        "for a in test:\n",
        "  # print(a)\n",
        "  # print(tf.nn.softmax(a, axis=0))\n",
        "  # print(tf.nn.softmax(a, axis=0).numpy())\n",
        "  # print(np.argmax(tf.nn.softmax(a, axis=0).numpy()))\n",
        "  # print(a)\n",
        "\n",
        "  predictions2_tran.append(int(np.argmax(tf.nn.softmax(a, axis=0).numpy())))"
      ],
      "metadata": {
        "id": "sVn1xLvkUOwk"
      },
      "execution_count": null,
      "outputs": []
    },
    {
      "cell_type": "code",
      "source": [
        "print(classification_report(task2_test_y_str, predictions2_tran))"
      ],
      "metadata": {
        "id": "sOnwg487UOuI"
      },
      "execution_count": null,
      "outputs": []
    },
    {
      "cell_type": "code",
      "source": [
        "from sklearn.metrics import accuracy_score\n",
        "\n",
        "print(accuracy_score(task2_test_y_str, predictions2_tran))"
      ],
      "metadata": {
        "id": "mIPDqDpw8Zc6"
      },
      "execution_count": null,
      "outputs": []
    },
    {
      "cell_type": "code",
      "source": [
        "import matplotlib.pyplot as plt\n",
        "\n",
        "plt.plot(history.history['accuracy'])\n",
        "plt.plot(history.history['loss'])\n",
        "plt.title('Model accuracy/loss')\n",
        "plt.ylabel('Accuracy/Loss')\n",
        "plt.xlabel('Epoch')\n",
        "#plt.legend(['Train', 'Test'], loc='upper left')\n",
        "plt.show()\n",
        "\n",
        "# # Plot training & validation loss values\n",
        "# plt.plot(history.history['loss'])\n",
        "# plt.plot(history.history['val_loss'])\n",
        "# plt.title('Model loss')\n",
        "# plt.ylabel('Loss')\n",
        "# plt.xlabel('Epoch')\n",
        "# plt.legend(['Train', 'Test'], loc='upper left')\n",
        "# plt.show()"
      ],
      "metadata": {
        "id": "SsE-3wLVUOm1"
      },
      "execution_count": null,
      "outputs": []
    },
    {
      "cell_type": "code",
      "source": [
        "print(test_dataset2)"
      ],
      "metadata": {
        "id": "2Sk3uh8LUOkQ"
      },
      "execution_count": null,
      "outputs": []
    },
    {
      "cell_type": "code",
      "source": [
        ""
      ],
      "metadata": {
        "id": "SrOtLW2uUOh4"
      },
      "execution_count": null,
      "outputs": []
    },
    {
      "cell_type": "code",
      "source": [
        "# 5 epochs"
      ],
      "metadata": {
        "id": "UcgTfiYZUOfY"
      },
      "execution_count": null,
      "outputs": []
    },
    {
      "cell_type": "code",
      "source": [
        "#tokenizer2 = DistilBertTokenizer.from_pretrained(MODEL_NAME)\n",
        "tokenizer2 = AutoTokenizer.from_pretrained(MODEL_NAME)\n",
        "# if tokenizer2.pad_token is None:\n",
        "#     tokenizer2.add_special_tokens({'pad_token': '[PAD]'})\n",
        "\n",
        "\n",
        "#tokenize the text\n",
        "train_encodings2 = tokenizer2(list(task2_x),\n",
        "                            truncation=True, \n",
        "                            padding=True)\n",
        "test_encodings2 = tokenizer2(list(task2_test_x),\n",
        "                           truncation=True, \n",
        "                           padding=True)\n",
        "\n",
        "\n",
        "\n",
        "task2_y_str = []\n",
        "task2_test_y_str = []\n",
        "\n",
        "for a in task2_y:\n",
        "  task2_y_str.append(int(a))\n",
        "\n",
        "for a in task2_test_y:\n",
        "  task2_test_y_str.append(int(a))\n",
        "\n",
        "\n",
        "train_dataset2 = tf.data.Dataset.from_tensor_slices((dict(train_encodings2),\n",
        "                                    list(task2_y_str)))\n",
        "test_dataset2 = tf.data.Dataset.from_tensor_slices((dict(test_encodings2),\n",
        "                                    list(task2_test_y_str)))\n",
        "\n",
        "\n",
        "#model2 = TFDistilBertForSequenceClassification.from_pretrained(MODEL_NAME, num_labels=3)\n",
        "model2 = TFRobertaForSequenceClassification.from_pretrained(MODEL_NAME, num_labels=3,from_pt=True)\n",
        "\n",
        "\n",
        "\n",
        "# model2 = TFGPT2ForSequenceClassification.from_pretrained(\"gpt2\", num_labels=3)\n",
        "\n",
        "#chose the optimizer\n",
        "optimizerr2 = tf.keras.optimizers.Adam(learning_rate=5e-5)\n",
        "#define the loss function \n",
        "losss2 = tf.keras.losses.SparseCategoricalCrossentropy(from_logits=True)\n",
        "#build the model\n",
        "\n",
        "\n",
        "\n",
        "model2.compile(optimizer=optimizerr2,\n",
        "              loss=losss2,\n",
        "              metrics=['accuracy'])\n",
        "\n",
        "\n",
        "# train the model \n",
        "history = model2.fit(train_dataset2.shuffle(len(task2_x)).batch(BATCH_SIZE),epochs=5, batch_size=BATCH_SIZE)\n"
      ],
      "metadata": {
        "id": "3MtUZwiyUOc1",
        "colab": {
          "base_uri": "https://localhost:8080/",
          "height": 440,
          "referenced_widgets": [
            "6178b954f413483d9aee1403ca9d2397",
            "0f5cccbc29094d1d8728d63805996aa4",
            "25c8192981bc4c12a7556b41273ef9bf",
            "f451c26465ce454d9f4d9bfcb90f8c56",
            "e3699f3b64884241a5ed931da9043b95",
            "fd6fa35fb5364dbf86aebfe93131faa4",
            "354652751bec4c9daac79468d5ff19a9",
            "ddfa35bde0094a369a45455f8ad75a93",
            "dd9bb21dc7b749ba8b0ef06a770a88fd",
            "ae711ed917d24bbda4efbd5d346d9876",
            "857ea348025f44a0b28bff2ad61e61e4",
            "7e6f9ce3193e44f9aa465c3400103230",
            "7cabea3927cc4ce5abb88d763c4742bf",
            "615b0b480c324c2dadfa3cb49aceacc8",
            "5b8181eeb14744a0971d7023c2912fcd",
            "27397b18bd2646899649f258596a73ac",
            "4a8e30cfd6be4d12a0d2f942f2703908",
            "835902c9dff544c997f4998b656c32cc",
            "2fadfdd71f6c4ce180308a2d9cb941ee",
            "fca1097883514299899b593d6dbb69a2",
            "34feb01ce39c476db6cad6f63e0e57fb",
            "81d9c42117184db4b9615e06fbf322a7",
            "795c4fa7744a4553a7c6a8f5f4923ceb",
            "e02754898fed4bea8a27f37ce2dba836",
            "56cbebc5224c44ebaa0123b3ac1544b7",
            "aead75d525c9437c9bf290e61f436b4f",
            "437f5e2b4f9e4252b176ca4d933955a6",
            "fa81d1bdf09a494ab9fb90355234fd76",
            "26786edd10ef4f0394e04a87d1f1822b",
            "02284acf55d34b50bbda61830e13e028",
            "fa516b54cbb34fbaac14dcee59995200",
            "21ae5a2dde4a44babe03676acd903f5a",
            "df1f798d76224dd3b656b6fee9474420",
            "950f0dd8df47401c83d16a1d2d1bc64e",
            "b6e9842b05754bee964d49594c0b4f22",
            "c95130162158427d8097d6cbc3407dd0",
            "2042843e7d3f454f86ec053915f70f1f",
            "e034b82438f74b0e9ccc5bb2b03886be",
            "cbd222498ea44059ae525fb15abb113e",
            "4c9805ebe9294f0c94654d5d12e4b343",
            "f93efaff48d5404d95280925da0f64cd",
            "0f4605e5dab149bf987ea08c6588e59c",
            "a4222cf6e88f43cc8f3dcffaa1a36873",
            "25c82d68d3194d11b0e8565b1cb63a57",
            "3534675b2b3e4d3787817b438017782e",
            "1bc577d9213540788ba09a98709d5950",
            "3aa43c519cd2420db67b273a15c3fdbb",
            "c79f0418e8f54a8ebe43e4fb5850d83c",
            "49a17400aacf4a1b96130ca62d530800",
            "24cada15e0e94126828c5abc3043f51e",
            "2646d04eb245481789c02649e1fa2139",
            "21d25c527bdd421eba560de4be60e8d6",
            "149168829fe74fe3a070dd8210d27e90",
            "aa1ef3d0b57d4782869ae4ac5b94379c",
            "ff4d938098d44993afcabea62d36f526"
          ]
        },
        "outputId": "0f98d972-c4b3-45ab-ba29-d433b6991a91"
      },
      "execution_count": null,
      "outputs": [
        {
          "output_type": "display_data",
          "data": {
            "text/plain": [
              "Downloading:   0%|          | 0.00/19.0 [00:00<?, ?B/s]"
            ],
            "application/vnd.jupyter.widget-view+json": {
              "version_major": 2,
              "version_minor": 0,
              "model_id": "6178b954f413483d9aee1403ca9d2397"
            }
          },
          "metadata": {}
        },
        {
          "output_type": "display_data",
          "data": {
            "text/plain": [
              "Downloading:   0%|          | 0.00/480 [00:00<?, ?B/s]"
            ],
            "application/vnd.jupyter.widget-view+json": {
              "version_major": 2,
              "version_minor": 0,
              "model_id": "7e6f9ce3193e44f9aa465c3400103230"
            }
          },
          "metadata": {}
        },
        {
          "output_type": "display_data",
          "data": {
            "text/plain": [
              "Downloading:   0%|          | 0.00/971k [00:00<?, ?B/s]"
            ],
            "application/vnd.jupyter.widget-view+json": {
              "version_major": 2,
              "version_minor": 0,
              "model_id": "795c4fa7744a4553a7c6a8f5f4923ceb"
            }
          },
          "metadata": {}
        },
        {
          "output_type": "display_data",
          "data": {
            "text/plain": [
              "Downloading:   0%|          | 0.00/471k [00:00<?, ?B/s]"
            ],
            "application/vnd.jupyter.widget-view+json": {
              "version_major": 2,
              "version_minor": 0,
              "model_id": "950f0dd8df47401c83d16a1d2d1bc64e"
            }
          },
          "metadata": {}
        },
        {
          "output_type": "display_data",
          "data": {
            "text/plain": [
              "Downloading:   0%|          | 0.00/321M [00:00<?, ?B/s]"
            ],
            "application/vnd.jupyter.widget-view+json": {
              "version_major": 2,
              "version_minor": 0,
              "model_id": "3534675b2b3e4d3787817b438017782e"
            }
          },
          "metadata": {}
        },
        {
          "output_type": "stream",
          "name": "stderr",
          "text": [
            "All PyTorch model weights were used when initializing TFRobertaForSequenceClassification.\n",
            "\n",
            "Some weights or buffers of the TF 2.0 model TFRobertaForSequenceClassification were not initialized from the PyTorch model and are newly initialized: ['classifier.dense.weight', 'classifier.dense.bias', 'classifier.out_proj.weight', 'classifier.out_proj.bias']\n",
            "You should probably TRAIN this model on a down-stream task to be able to use it for predictions and inference.\n"
          ]
        },
        {
          "output_type": "stream",
          "name": "stdout",
          "text": [
            "Epoch 1/5\n",
            "507/507 [==============================] - 495s 954ms/step - loss: 0.8046 - accuracy: 0.6372\n",
            "Epoch 2/5\n",
            "507/507 [==============================] - 485s 957ms/step - loss: 0.7208 - accuracy: 0.6804\n",
            "Epoch 3/5\n",
            "507/507 [==============================] - 485s 957ms/step - loss: 0.6963 - accuracy: 0.6979\n",
            "Epoch 4/5\n",
            "507/507 [==============================] - 485s 957ms/step - loss: 0.6555 - accuracy: 0.7162\n",
            "Epoch 5/5\n",
            "507/507 [==============================] - 485s 957ms/step - loss: 0.6245 - accuracy: 0.7351\n"
          ]
        }
      ]
    },
    {
      "cell_type": "code",
      "source": [
        "import numpy as np\n",
        "from sklearn.metrics import classification_report\n",
        "\n",
        "predictions1_tran = []\n",
        "predictions2_tran = []\n",
        "\n",
        "test = model2.predict(test_dataset2.batch(1)).logits\n",
        "for a in test:\n",
        "  # print(a)\n",
        "  # print(tf.nn.softmax(a, axis=0))\n",
        "  # print(tf.nn.softmax(a, axis=0).numpy())\n",
        "  # print(np.argmax(tf.nn.softmax(a, axis=0).numpy()))\n",
        "  # print(a)\n",
        "\n",
        "  predictions2_tran.append(int(np.argmax(tf.nn.softmax(a, axis=0).numpy())))"
      ],
      "metadata": {
        "id": "p4CAUTJmXWnX"
      },
      "execution_count": null,
      "outputs": []
    },
    {
      "cell_type": "code",
      "source": [
        "print(classification_report(task2_test_y_str, predictions2_tran))"
      ],
      "metadata": {
        "id": "GSBRFNI7XWkr",
        "colab": {
          "base_uri": "https://localhost:8080/"
        },
        "outputId": "5b3019f5-2d64-4c3b-9268-1334ed040f87"
      },
      "execution_count": null,
      "outputs": [
        {
          "output_type": "stream",
          "name": "stdout",
          "text": [
            "              precision    recall  f1-score   support\n",
            "\n",
            "           0       0.93      0.60      0.73       306\n",
            "           1       0.72      0.66      0.69       291\n",
            "           2       0.55      0.80      0.65       303\n",
            "\n",
            "    accuracy                           0.69       900\n",
            "   macro avg       0.74      0.69      0.69       900\n",
            "weighted avg       0.74      0.69      0.69       900\n",
            "\n"
          ]
        }
      ]
    },
    {
      "cell_type": "code",
      "source": [
        "from sklearn.metrics import accuracy_score\n",
        "\n",
        "print(accuracy_score(task2_test_y_str, predictions2_tran))"
      ],
      "metadata": {
        "id": "gtQBfaJsymyN",
        "colab": {
          "base_uri": "https://localhost:8080/"
        },
        "outputId": "615acb7d-f424-4c7c-8c96-3316415919e1"
      },
      "execution_count": null,
      "outputs": [
        {
          "output_type": "stream",
          "name": "stdout",
          "text": [
            "0.6855555555555556\n"
          ]
        }
      ]
    },
    {
      "cell_type": "code",
      "source": [
        "import matplotlib.pyplot as plt\n",
        "\n",
        "plt.plot(history.history['accuracy'])\n",
        "plt.plot(history.history['loss'])\n",
        "plt.title('Model accuracy/loss')\n",
        "plt.ylabel('Accuracy/Loss')\n",
        "plt.xlabel('Epoch')\n",
        "#plt.legend(['Train', 'Test'], loc='upper left')\n",
        "plt.show()\n",
        "\n",
        "# # Plot training & validation loss values\n",
        "# plt.plot(history.history['loss'])\n",
        "# plt.plot(history.history['val_loss'])\n",
        "# plt.title('Model loss')\n",
        "# plt.ylabel('Loss')\n",
        "# plt.xlabel('Epoch')\n",
        "# plt.legend(['Train', 'Test'], loc='upper left')\n",
        "# plt.show()"
      ],
      "metadata": {
        "id": "12W_XXpmXWh5",
        "colab": {
          "base_uri": "https://localhost:8080/",
          "height": 295
        },
        "outputId": "ab9bfa30-1483-4e66-ba8a-7ddf9568b462"
      },
      "execution_count": null,
      "outputs": [
        {
          "output_type": "display_data",
          "data": {
            "text/plain": [
              "<Figure size 432x288 with 1 Axes>"
            ],
            "image/png": "[encoded data removed]"
          },
          "metadata": {
            "needs_background": "light"
          }
        }
      ]
    },
    {
      "cell_type": "code",
      "source": [
        ""
      ],
      "metadata": {
        "id": "Sfk7U-tBXWe9"
      },
      "execution_count": null,
      "outputs": []
    },
    {
      "cell_type": "code",
      "source": [
        "# 10 epochs"
      ],
      "metadata": {
        "id": "HqtyPkH8XWcU"
      },
      "execution_count": null,
      "outputs": []
    },
    {
      "cell_type": "code",
      "source": [
        "#tokenizer2 = DistilBertTokenizer.from_pretrained(MODEL_NAME)\n",
        "tokenizer2 = AutoTokenizer.from_pretrained(MODEL_NAME)\n",
        "# if tokenizer2.pad_token is None:\n",
        "#     tokenizer2.add_special_tokens({'pad_token': '[PAD]'})\n",
        "\n",
        "\n",
        "#tokenize the text\n",
        "train_encodings2 = tokenizer2(list(task2_x),\n",
        "                            truncation=True, \n",
        "                            padding=True)\n",
        "test_encodings2 = tokenizer2(list(task2_test_x),\n",
        "                           truncation=True, \n",
        "                           padding=True)\n",
        "\n",
        "\n",
        "\n",
        "task2_y_str = []\n",
        "task2_test_y_str = []\n",
        "\n",
        "for a in task2_y:\n",
        "  task2_y_str.append(int(a))\n",
        "\n",
        "for a in task2_test_y:\n",
        "  task2_test_y_str.append(int(a))\n",
        "\n",
        "\n",
        "train_dataset2 = tf.data.Dataset.from_tensor_slices((dict(train_encodings2),\n",
        "                                    list(task2_y_str)))\n",
        "test_dataset2 = tf.data.Dataset.from_tensor_slices((dict(test_encodings2),\n",
        "                                    list(task2_test_y_str)))\n",
        "\n",
        "\n",
        "#model2 = TFDistilBertForSequenceClassification.from_pretrained(MODEL_NAME, num_labels=3)\n",
        "model2 = TFRobertaForSequenceClassification.from_pretrained(MODEL_NAME, num_labels=3,from_pt=True)\n",
        "\n",
        "\n",
        "\n",
        "# model2 = TFGPT2ForSequenceClassification.from_pretrained(\"gpt2\", num_labels=3)\n",
        "\n",
        "#chose the optimizer\n",
        "optimizerr2 = tf.keras.optimizers.Adam(learning_rate=5e-5)\n",
        "#define the loss function \n",
        "losss2 = tf.keras.losses.SparseCategoricalCrossentropy(from_logits=True)\n",
        "#build the model\n",
        "\n",
        "\n",
        "\n",
        "model2.compile(optimizer=optimizerr2,\n",
        "              loss=losss2,\n",
        "              metrics=['accuracy'])\n",
        "\n",
        "\n",
        "# train the model \n",
        "history = model2.fit(train_dataset2.shuffle(len(task2_x)).batch(BATCH_SIZE),epochs=10, batch_size=BATCH_SIZE)\n"
      ],
      "metadata": {
        "id": "qH_24s7aXWZU",
        "colab": {
          "base_uri": "https://localhost:8080/"
        },
        "outputId": "c39ad4fe-aebe-40f7-d5db-576c7a0f3e93"
      },
      "execution_count": null,
      "outputs": [
        {
          "output_type": "stream",
          "name": "stderr",
          "text": [
            "All PyTorch model weights were used when initializing TFRobertaForSequenceClassification.\n",
            "\n",
            "Some weights or buffers of the TF 2.0 model TFRobertaForSequenceClassification were not initialized from the PyTorch model and are newly initialized: ['classifier.dense.weight', 'classifier.dense.bias', 'classifier.out_proj.weight', 'classifier.out_proj.bias']\n",
            "You should probably TRAIN this model on a down-stream task to be able to use it for predictions and inference.\n"
          ]
        },
        {
          "output_type": "stream",
          "name": "stdout",
          "text": [
            "Epoch 1/10\n",
            "507/507 [==============================] - 493s 958ms/step - loss: 0.7941 - accuracy: 0.6425\n",
            "Epoch 2/10\n",
            "507/507 [==============================] - 486s 958ms/step - loss: 0.7271 - accuracy: 0.6772\n",
            "Epoch 3/10\n",
            "507/507 [==============================] - 486s 958ms/step - loss: 0.6912 - accuracy: 0.6986\n",
            "Epoch 4/10\n",
            "507/507 [==============================] - 486s 958ms/step - loss: 0.6512 - accuracy: 0.7144\n",
            "Epoch 5/10\n",
            "507/507 [==============================] - 486s 958ms/step - loss: 0.6207 - accuracy: 0.7332\n",
            "Epoch 6/10\n",
            "507/507 [==============================] - 486s 958ms/step - loss: 0.5756 - accuracy: 0.7569\n",
            "Epoch 7/10\n",
            "507/507 [==============================] - 485s 957ms/step - loss: 0.5275 - accuracy: 0.7763\n",
            "Epoch 8/10\n",
            "507/507 [==============================] - 486s 958ms/step - loss: 0.4681 - accuracy: 0.8060\n",
            "Epoch 9/10\n",
            "507/507 [==============================] - 485s 957ms/step - loss: 0.4244 - accuracy: 0.8217\n",
            "Epoch 10/10\n",
            "507/507 [==============================] - 485s 957ms/step - loss: 0.3774 - accuracy: 0.8398\n"
          ]
        }
      ]
    },
    {
      "cell_type": "code",
      "source": [
        "import numpy as np\n",
        "from sklearn.metrics import classification_report\n",
        "\n",
        "predictions1_tran = []\n",
        "predictions2_tran = []\n",
        "\n",
        "test = model2.predict(test_dataset2.batch(1)).logits\n",
        "for a in test:\n",
        "  # print(a)\n",
        "  # print(tf.nn.softmax(a, axis=0))\n",
        "  # print(tf.nn.softmax(a, axis=0).numpy())\n",
        "  # print(np.argmax(tf.nn.softmax(a, axis=0).numpy()))\n",
        "  # print(a)\n",
        "\n",
        "  predictions2_tran.append(int(np.argmax(tf.nn.softmax(a, axis=0).numpy())))"
      ],
      "metadata": {
        "id": "BrlHZIT8XWW3"
      },
      "execution_count": null,
      "outputs": []
    },
    {
      "cell_type": "code",
      "source": [
        "print(classification_report(task2_test_y_str, predictions2_tran))"
      ],
      "metadata": {
        "id": "mIa3m2S1XWT_",
        "colab": {
          "base_uri": "https://localhost:8080/"
        },
        "outputId": "cd28f5c0-f772-47aa-c9b0-2349870ec9a9"
      },
      "execution_count": null,
      "outputs": [
        {
          "output_type": "stream",
          "name": "stdout",
          "text": [
            "              precision    recall  f1-score   support\n",
            "\n",
            "           0       0.80      0.61      0.70       306\n",
            "           1       0.58      0.75      0.65       291\n",
            "           2       0.58      0.56      0.57       303\n",
            "\n",
            "    accuracy                           0.64       900\n",
            "   macro avg       0.66      0.64      0.64       900\n",
            "weighted avg       0.66      0.64      0.64       900\n",
            "\n"
          ]
        }
      ]
    },
    {
      "cell_type": "code",
      "source": [
        "from sklearn.metrics import accuracy_score\n",
        "\n",
        "print(accuracy_score(task2_test_y_str, predictions2_tran))"
      ],
      "metadata": {
        "id": "mNu2EDJrNlLJ",
        "colab": {
          "base_uri": "https://localhost:8080/"
        },
        "outputId": "e4138845-7440-4c01-8567-4a6d189c8470"
      },
      "execution_count": null,
      "outputs": [
        {
          "output_type": "stream",
          "name": "stdout",
          "text": [
            "0.6388888888888888\n"
          ]
        }
      ]
    },
    {
      "cell_type": "code",
      "source": [
        "import matplotlib.pyplot as plt\n",
        "\n",
        "plt.plot(history.history['accuracy'])\n",
        "plt.plot(history.history['loss'])\n",
        "plt.title('Model accuracy/loss')\n",
        "plt.ylabel('Accuracy/Loss')\n",
        "plt.xlabel('Epoch')\n",
        "#plt.legend(['Train', 'Test'], loc='upper left')\n",
        "plt.show()\n",
        "\n",
        "# # Plot training & validation loss values\n",
        "# plt.plot(history.history['loss'])\n",
        "# plt.plot(history.history['val_loss'])\n",
        "# plt.title('Model loss')\n",
        "# plt.ylabel('Loss')\n",
        "# plt.xlabel('Epoch')\n",
        "# plt.legend(['Train', 'Test'], loc='upper left')\n",
        "# plt.show()"
      ],
      "metadata": {
        "id": "IBmOJtzyXWRU",
        "colab": {
          "base_uri": "https://localhost:8080/",
          "height": 295
        },
        "outputId": "85d73541-dcd2-4190-efae-350960020a6b"
      },
      "execution_count": null,
      "outputs": [
        {
          "output_type": "display_data",
          "data": {
            "text/plain": [
              "<Figure size 432x288 with 1 Axes>"
            ],
            "image/png": "[encoded data removed]"
          },
          "metadata": {
            "needs_background": "light"
          }
        }
      ]
    },
    {
      "cell_type": "code",
      "source": [
        ""
      ],
      "metadata": {
        "id": "MyEnMHKzXWOn"
      },
      "execution_count": null,
      "outputs": []
    },
    {
      "cell_type": "code",
      "source": [
        "# 20 epochs"
      ],
      "metadata": {
        "id": "96-7hrBvXWMD"
      },
      "execution_count": null,
      "outputs": []
    },
    {
      "cell_type": "code",
      "source": [
        "#tokenizer2 = DistilBertTokenizer.from_pretrained(MODEL_NAME)\n",
        "tokenizer2 = AutoTokenizer.from_pretrained(MODEL_NAME)\n",
        "# if tokenizer2.pad_token is None:\n",
        "#     tokenizer2.add_special_tokens({'pad_token': '[PAD]'})\n",
        "\n",
        "\n",
        "#tokenize the text\n",
        "train_encodings2 = tokenizer2(list(task2_x),\n",
        "                            truncation=True, \n",
        "                            padding=True)\n",
        "test_encodings2 = tokenizer2(list(task2_test_x),\n",
        "                           truncation=True, \n",
        "                           padding=True)\n",
        "\n",
        "\n",
        "\n",
        "task2_y_str = []\n",
        "task2_test_y_str = []\n",
        "\n",
        "for a in task2_y:\n",
        "  task2_y_str.append(int(a))\n",
        "\n",
        "for a in task2_test_y:\n",
        "  task2_test_y_str.append(int(a))\n",
        "\n",
        "\n",
        "train_dataset2 = tf.data.Dataset.from_tensor_slices((dict(train_encodings2),\n",
        "                                    list(task2_y_str)))\n",
        "test_dataset2 = tf.data.Dataset.from_tensor_slices((dict(test_encodings2),\n",
        "                                    list(task2_test_y_str)))\n",
        "\n",
        "\n",
        "#model2 = TFDistilBertForSequenceClassification.from_pretrained(MODEL_NAME, num_labels=3)\n",
        "model2 = TFRobertaForSequenceClassification.from_pretrained(MODEL_NAME, num_labels=3,from_pt=True)\n",
        "\n",
        "\n",
        "\n",
        "# model2 = TFGPT2ForSequenceClassification.from_pretrained(\"gpt2\", num_labels=3)\n",
        "\n",
        "#chose the optimizer\n",
        "optimizerr2 = tf.keras.optimizers.Adam(learning_rate=5e-5)\n",
        "#define the loss function \n",
        "losss2 = tf.keras.losses.SparseCategoricalCrossentropy(from_logits=True)\n",
        "#build the model\n",
        "\n",
        "\n",
        "\n",
        "model2.compile(optimizer=optimizerr2,\n",
        "              loss=losss2,\n",
        "              metrics=['accuracy'])\n",
        "\n",
        "\n",
        "# train the model \n",
        "history = model2.fit(train_dataset2.shuffle(len(task2_x)).batch(BATCH_SIZE),epochs=20, batch_size=BATCH_SIZE)\n"
      ],
      "metadata": {
        "id": "H6-zJvWSXWJg"
      },
      "execution_count": null,
      "outputs": []
    },
    {
      "cell_type": "code",
      "source": [
        "import numpy as np\n",
        "from sklearn.metrics import classification_report\n",
        "\n",
        "predictions1_tran = []\n",
        "predictions2_tran = []\n",
        "\n",
        "test = model2.predict(test_dataset2.batch(1)).logits\n",
        "for a in test:\n",
        "  # print(a)\n",
        "  # print(tf.nn.softmax(a, axis=0))\n",
        "  # print(tf.nn.softmax(a, axis=0).numpy())\n",
        "  # print(np.argmax(tf.nn.softmax(a, axis=0).numpy()))\n",
        "  # print(a)\n",
        "\n",
        "  predictions2_tran.append(int(np.argmax(tf.nn.softmax(a, axis=0).numpy())))"
      ],
      "metadata": {
        "id": "tUOgUlSSXWG9"
      },
      "execution_count": null,
      "outputs": []
    },
    {
      "cell_type": "code",
      "source": [
        "print(classification_report(task2_test_y_str, predictions2_tran))"
      ],
      "metadata": {
        "id": "3KCZXD10XWEP"
      },
      "execution_count": null,
      "outputs": []
    },
    {
      "cell_type": "code",
      "source": [
        "from sklearn.metrics import accuracy_score\n",
        "\n",
        "print(accuracy_score(task2_test_y_str, predictions2_tran))"
      ],
      "metadata": {
        "id": "HZhoFpyc8bZv"
      },
      "execution_count": null,
      "outputs": []
    },
    {
      "cell_type": "code",
      "source": [
        "import matplotlib.pyplot as plt\n",
        "\n",
        "plt.plot(history.history['accuracy'])\n",
        "plt.plot(history.history['loss'])\n",
        "plt.title('Model accuracy/loss')\n",
        "plt.ylabel('Accuracy/Loss')\n",
        "plt.xlabel('Epoch')\n",
        "#plt.legend(['Train', 'Test'], loc='upper left')\n",
        "plt.show()\n",
        "\n",
        "# # Plot training & validation loss values\n",
        "# plt.plot(history.history['loss'])\n",
        "# plt.plot(history.history['val_loss'])\n",
        "# plt.title('Model loss')\n",
        "# plt.ylabel('Loss')\n",
        "# plt.xlabel('Epoch')\n",
        "# plt.legend(['Train', 'Test'], loc='upper left')\n",
        "# plt.show()"
      ],
      "metadata": {
        "id": "KiaWcLDJXuw_"
      },
      "execution_count": null,
      "outputs": []
    },
    {
      "cell_type": "code",
      "source": [
        ""
      ],
      "metadata": {
        "id": "wbaK-1w8XuuW"
      },
      "execution_count": null,
      "outputs": []
    },
    {
      "cell_type": "code",
      "source": [
        "# 25 epochs"
      ],
      "metadata": {
        "id": "-mSG6bUkXurn"
      },
      "execution_count": null,
      "outputs": []
    },
    {
      "cell_type": "code",
      "source": [
        "#tokenizer2 = DistilBertTokenizer.from_pretrained(MODEL_NAME)\n",
        "tokenizer2 = AutoTokenizer.from_pretrained(MODEL_NAME)\n",
        "# if tokenizer2.pad_token is None:\n",
        "#     tokenizer2.add_special_tokens({'pad_token': '[PAD]'})\n",
        "\n",
        "\n",
        "#tokenize the text\n",
        "train_encodings2 = tokenizer2(list(task2_x),\n",
        "                            truncation=True, \n",
        "                            padding=True)\n",
        "test_encodings2 = tokenizer2(list(task2_test_x),\n",
        "                           truncation=True, \n",
        "                           padding=True)\n",
        "\n",
        "\n",
        "\n",
        "task2_y_str = []\n",
        "task2_test_y_str = []\n",
        "\n",
        "for a in task2_y:\n",
        "  task2_y_str.append(int(a))\n",
        "\n",
        "for a in task2_test_y:\n",
        "  task2_test_y_str.append(int(a))\n",
        "\n",
        "\n",
        "train_dataset2 = tf.data.Dataset.from_tensor_slices((dict(train_encodings2),\n",
        "                                    list(task2_y_str)))\n",
        "test_dataset2 = tf.data.Dataset.from_tensor_slices((dict(test_encodings2),\n",
        "                                    list(task2_test_y_str)))\n",
        "\n",
        "\n",
        "#model2 = TFDistilBertForSequenceClassification.from_pretrained(MODEL_NAME, num_labels=3)\n",
        "model2 = TFRobertaForSequenceClassification.from_pretrained(MODEL_NAME, num_labels=3,from_pt=True)\n",
        "\n",
        "\n",
        "\n",
        "# model2 = TFGPT2ForSequenceClassification.from_pretrained(\"gpt2\", num_labels=3)\n",
        "\n",
        "#chose the optimizer\n",
        "optimizerr2 = tf.keras.optimizers.Adam(learning_rate=5e-5)\n",
        "#define the loss function \n",
        "losss2 = tf.keras.losses.SparseCategoricalCrossentropy(from_logits=True)\n",
        "#build the model\n",
        "\n",
        "\n",
        "\n",
        "model2.compile(optimizer=optimizerr2,\n",
        "              loss=losss2,\n",
        "              metrics=['accuracy'])\n",
        "\n",
        "\n",
        "# train the model \n",
        "history = model2.fit(train_dataset2.shuffle(len(task2_x)).batch(BATCH_SIZE),epochs=25, batch_size=BATCH_SIZE)\n"
      ],
      "metadata": {
        "id": "Zf6gwOt7Xuo7"
      },
      "execution_count": null,
      "outputs": []
    },
    {
      "cell_type": "code",
      "source": [
        "import numpy as np\n",
        "from sklearn.metrics import classification_report\n",
        "\n",
        "predictions1_tran = []\n",
        "predictions2_tran = []\n",
        "\n",
        "test = model2.predict(test_dataset2.batch(1)).logits\n",
        "for a in test:\n",
        "  # print(a)\n",
        "  # print(tf.nn.softmax(a, axis=0))\n",
        "  # print(tf.nn.softmax(a, axis=0).numpy())\n",
        "  # print(np.argmax(tf.nn.softmax(a, axis=0).numpy()))\n",
        "  # print(a)\n",
        "\n",
        "  predictions2_tran.append(int(np.argmax(tf.nn.softmax(a, axis=0).numpy())))"
      ],
      "metadata": {
        "id": "iC73Q1ybXumW"
      },
      "execution_count": null,
      "outputs": []
    },
    {
      "cell_type": "code",
      "source": [
        "print(classification_report(task2_test_y_str, predictions2_tran))"
      ],
      "metadata": {
        "id": "uMWWRYP2Xujc"
      },
      "execution_count": null,
      "outputs": []
    },
    {
      "cell_type": "code",
      "source": [
        "from sklearn.metrics import accuracy_score\n",
        "\n",
        "print(accuracy_score(task2_test_y_str, predictions2_tran))"
      ],
      "metadata": {
        "id": "7be5_sqh8cwb"
      },
      "execution_count": null,
      "outputs": []
    },
    {
      "cell_type": "code",
      "source": [
        "import matplotlib.pyplot as plt\n",
        "\n",
        "plt.plot(history.history['accuracy'])\n",
        "plt.plot(history.history['loss'])\n",
        "plt.title('Model accuracy/loss')\n",
        "plt.ylabel('Accuracy/Loss')\n",
        "plt.xlabel('Epoch')\n",
        "#plt.legend(['Train', 'Test'], loc='upper left')\n",
        "plt.show()\n",
        "\n",
        "# # Plot training & validation loss values\n",
        "# plt.plot(history.history['loss'])\n",
        "# plt.plot(history.history['val_loss'])\n",
        "# plt.title('Model loss')\n",
        "# plt.ylabel('Loss')\n",
        "# plt.xlabel('Epoch')\n",
        "# plt.legend(['Train', 'Test'], loc='upper left')\n",
        "# plt.show()"
      ],
      "metadata": {
        "id": "duiKd4qvXugo"
      },
      "execution_count": null,
      "outputs": []
    },
    {
      "cell_type": "code",
      "source": [
        ""
      ],
      "metadata": {
        "id": "lAVWnIOcXueP"
      },
      "execution_count": null,
      "outputs": []
    },
    {
      "cell_type": "code",
      "source": [
        ""
      ],
      "metadata": {
        "id": "FmHqvNgzXubY"
      },
      "execution_count": null,
      "outputs": []
    },
    {
      "cell_type": "code",
      "source": [
        ""
      ],
      "metadata": {
        "id": "w4N-hOadXuZB"
      },
      "execution_count": null,
      "outputs": []
    },
    {
      "cell_type": "code",
      "source": [
        ""
      ],
      "metadata": {
        "id": "SKLpIjoRXuWb"
      },
      "execution_count": null,
      "outputs": []
    },
    {
      "cell_type": "code",
      "source": [
        ""
      ],
      "metadata": {
        "id": "STwGi7A-XuT1"
      },
      "execution_count": null,
      "outputs": []
    },
    {
      "cell_type": "code",
      "source": [
        ""
      ],
      "metadata": {
        "id": "AyYtG4eaXuRQ"
      },
      "execution_count": null,
      "outputs": []
    }
  ]
}