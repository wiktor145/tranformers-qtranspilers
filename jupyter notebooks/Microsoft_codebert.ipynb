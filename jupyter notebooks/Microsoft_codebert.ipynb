{
  "nbformat": 4,
  "nbformat_minor": 0,
  "metadata": {
    "colab": {
      "name": "Microsoft codebert.ipynb",
      "provenance": [],
      "collapsed_sections": []
    },
    "kernelspec": {
      "name": "python3",
      "display_name": "Python 3"
    },
    "language_info": {
      "name": "python"
    },
    "accelerator": "GPU",
    "gpuClass": "standard"
  },
  "cells": [
    {
      "cell_type": "code",
      "source": [
        "! pip install transformers\n",
        "! pip install datasets"
      ],
      "metadata": {
        "id": "YkZfBV0ZUO56",
        "colab": {
          "base_uri": "https://localhost:8080/"
        },
        "outputId": "1a38fbb7-c246-474c-e4b5-4a2426506e1e"
      },
      "execution_count": null,
      "outputs": [
        {
          "output_type": "stream",
          "name": "stdout",
          "text": [
            "Looking in indexes: https://pypi.org/simple, https://us-python.pkg.dev/colab-wheels/public/simple/\n",
            "Collecting transformers\n",
            "  Downloading transformers-4.20.1-py3-none-any.whl (4.4 MB)\n",
            "\u001b[K     |████████████████████████████████| 4.4 MB 5.2 MB/s \n",
            "\u001b[?25hCollecting tokenizers!=0.11.3,<0.13,>=0.11.1\n",
            "  Downloading tokenizers-0.12.1-cp37-cp37m-manylinux_2_12_x86_64.manylinux2010_x86_64.whl (6.6 MB)\n",
            "\u001b[K     |████████████████████████████████| 6.6 MB 44.9 MB/s \n",
            "\u001b[?25hCollecting huggingface-hub<1.0,>=0.1.0\n",
            "  Downloading huggingface_hub-0.8.1-py3-none-any.whl (101 kB)\n",
            "\u001b[K     |████████████████████████████████| 101 kB 13.2 MB/s \n",
            "\u001b[?25hRequirement already satisfied: requests in /usr/local/lib/python3.7/dist-packages (from transformers) (2.23.0)\n",
            "Requirement already satisfied: filelock in /usr/local/lib/python3.7/dist-packages (from transformers) (3.7.1)\n",
            "Requirement already satisfied: regex!=2019.12.17 in /usr/local/lib/python3.7/dist-packages (from transformers) (2022.6.2)\n",
            "Requirement already satisfied: tqdm>=4.27 in /usr/local/lib/python3.7/dist-packages (from transformers) (4.64.0)\n",
            "Requirement already satisfied: numpy>=1.17 in /usr/local/lib/python3.7/dist-packages (from transformers) (1.21.6)\n",
            "Requirement already satisfied: importlib-metadata in /usr/local/lib/python3.7/dist-packages (from transformers) (4.11.4)\n",
            "Collecting pyyaml>=5.1\n",
            "  Downloading PyYAML-6.0-cp37-cp37m-manylinux_2_5_x86_64.manylinux1_x86_64.manylinux_2_12_x86_64.manylinux2010_x86_64.whl (596 kB)\n",
            "\u001b[K     |████████████████████████████████| 596 kB 65.1 MB/s \n",
            "\u001b[?25hRequirement already satisfied: packaging>=20.0 in /usr/local/lib/python3.7/dist-packages (from transformers) (21.3)\n",
            "Requirement already satisfied: typing-extensions>=3.7.4.3 in /usr/local/lib/python3.7/dist-packages (from huggingface-hub<1.0,>=0.1.0->transformers) (4.1.1)\n",
            "Requirement already satisfied: pyparsing!=3.0.5,>=2.0.2 in /usr/local/lib/python3.7/dist-packages (from packaging>=20.0->transformers) (3.0.9)\n",
            "Requirement already satisfied: zipp>=0.5 in /usr/local/lib/python3.7/dist-packages (from importlib-metadata->transformers) (3.8.0)\n",
            "Requirement already satisfied: certifi>=2017.4.17 in /usr/local/lib/python3.7/dist-packages (from requests->transformers) (2022.6.15)\n",
            "Requirement already satisfied: urllib3!=1.25.0,!=1.25.1,<1.26,>=1.21.1 in /usr/local/lib/python3.7/dist-packages (from requests->transformers) (1.24.3)\n",
            "Requirement already satisfied: idna<3,>=2.5 in /usr/local/lib/python3.7/dist-packages (from requests->transformers) (2.10)\n",
            "Requirement already satisfied: chardet<4,>=3.0.2 in /usr/local/lib/python3.7/dist-packages (from requests->transformers) (3.0.4)\n",
            "Installing collected packages: pyyaml, tokenizers, huggingface-hub, transformers\n",
            "  Attempting uninstall: pyyaml\n",
            "    Found existing installation: PyYAML 3.13\n",
            "    Uninstalling PyYAML-3.13:\n",
            "      Successfully uninstalled PyYAML-3.13\n",
            "Successfully installed huggingface-hub-0.8.1 pyyaml-6.0 tokenizers-0.12.1 transformers-4.20.1\n",
            "Looking in indexes: https://pypi.org/simple, https://us-python.pkg.dev/colab-wheels/public/simple/\n",
            "Collecting datasets\n",
            "  Downloading datasets-2.3.2-py3-none-any.whl (362 kB)\n",
            "\u001b[K     |████████████████████████████████| 362 kB 5.1 MB/s \n",
            "\u001b[?25hRequirement already satisfied: tqdm>=4.62.1 in /usr/local/lib/python3.7/dist-packages (from datasets) (4.64.0)\n",
            "Collecting fsspec[http]>=2021.05.0\n",
            "  Downloading fsspec-2022.5.0-py3-none-any.whl (140 kB)\n",
            "\u001b[K     |████████████████████████████████| 140 kB 68.6 MB/s \n",
            "\u001b[?25hRequirement already satisfied: huggingface-hub<1.0.0,>=0.1.0 in /usr/local/lib/python3.7/dist-packages (from datasets) (0.8.1)\n",
            "Requirement already satisfied: pyarrow>=6.0.0 in /usr/local/lib/python3.7/dist-packages (from datasets) (6.0.1)\n",
            "Collecting xxhash\n",
            "  Downloading xxhash-3.0.0-cp37-cp37m-manylinux_2_17_x86_64.manylinux2014_x86_64.whl (212 kB)\n",
            "\u001b[K     |████████████████████████████████| 212 kB 61.6 MB/s \n",
            "\u001b[?25hRequirement already satisfied: numpy>=1.17 in /usr/local/lib/python3.7/dist-packages (from datasets) (1.21.6)\n",
            "Collecting aiohttp\n",
            "  Downloading aiohttp-3.8.1-cp37-cp37m-manylinux_2_5_x86_64.manylinux1_x86_64.manylinux_2_12_x86_64.manylinux2010_x86_64.whl (1.1 MB)\n",
            "\u001b[K     |████████████████████████████████| 1.1 MB 62.4 MB/s \n",
            "\u001b[?25hCollecting responses<0.19\n",
            "  Downloading responses-0.18.0-py3-none-any.whl (38 kB)\n",
            "Requirement already satisfied: multiprocess in /usr/local/lib/python3.7/dist-packages (from datasets) (0.70.13)\n",
            "Requirement already satisfied: packaging in /usr/local/lib/python3.7/dist-packages (from datasets) (21.3)\n",
            "Requirement already satisfied: importlib-metadata in /usr/local/lib/python3.7/dist-packages (from datasets) (4.11.4)\n",
            "Requirement already satisfied: dill<0.3.6 in /usr/local/lib/python3.7/dist-packages (from datasets) (0.3.5.1)\n",
            "Requirement already satisfied: requests>=2.19.0 in /usr/local/lib/python3.7/dist-packages (from datasets) (2.23.0)\n",
            "Requirement already satisfied: pandas in /usr/local/lib/python3.7/dist-packages (from datasets) (1.3.5)\n",
            "Requirement already satisfied: filelock in /usr/local/lib/python3.7/dist-packages (from huggingface-hub<1.0.0,>=0.1.0->datasets) (3.7.1)\n",
            "Requirement already satisfied: typing-extensions>=3.7.4.3 in /usr/local/lib/python3.7/dist-packages (from huggingface-hub<1.0.0,>=0.1.0->datasets) (4.1.1)\n",
            "Requirement already satisfied: pyyaml>=5.1 in /usr/local/lib/python3.7/dist-packages (from huggingface-hub<1.0.0,>=0.1.0->datasets) (6.0)\n",
            "Requirement already satisfied: pyparsing!=3.0.5,>=2.0.2 in /usr/local/lib/python3.7/dist-packages (from packaging->datasets) (3.0.9)\n",
            "Requirement already satisfied: idna<3,>=2.5 in /usr/local/lib/python3.7/dist-packages (from requests>=2.19.0->datasets) (2.10)\n",
            "Requirement already satisfied: certifi>=2017.4.17 in /usr/local/lib/python3.7/dist-packages (from requests>=2.19.0->datasets) (2022.6.15)\n",
            "Requirement already satisfied: chardet<4,>=3.0.2 in /usr/local/lib/python3.7/dist-packages (from requests>=2.19.0->datasets) (3.0.4)\n",
            "Requirement already satisfied: urllib3!=1.25.0,!=1.25.1,<1.26,>=1.21.1 in /usr/local/lib/python3.7/dist-packages (from requests>=2.19.0->datasets) (1.24.3)\n",
            "Collecting urllib3!=1.25.0,!=1.25.1,<1.26,>=1.21.1\n",
            "  Downloading urllib3-1.25.11-py2.py3-none-any.whl (127 kB)\n",
            "\u001b[K     |████████████████████████████████| 127 kB 71.3 MB/s \n",
            "\u001b[?25hCollecting frozenlist>=1.1.1\n",
            "  Downloading frozenlist-1.3.0-cp37-cp37m-manylinux_2_5_x86_64.manylinux1_x86_64.manylinux_2_17_x86_64.manylinux2014_x86_64.whl (144 kB)\n",
            "\u001b[K     |████████████████████████████████| 144 kB 71.5 MB/s \n",
            "\u001b[?25hCollecting async-timeout<5.0,>=4.0.0a3\n",
            "  Downloading async_timeout-4.0.2-py3-none-any.whl (5.8 kB)\n",
            "Collecting yarl<2.0,>=1.0\n",
            "  Downloading yarl-1.7.2-cp37-cp37m-manylinux_2_5_x86_64.manylinux1_x86_64.manylinux_2_12_x86_64.manylinux2010_x86_64.whl (271 kB)\n",
            "\u001b[K     |████████████████████████████████| 271 kB 69.1 MB/s \n",
            "\u001b[?25hCollecting multidict<7.0,>=4.5\n",
            "  Downloading multidict-6.0.2-cp37-cp37m-manylinux_2_17_x86_64.manylinux2014_x86_64.whl (94 kB)\n",
            "\u001b[K     |████████████████████████████████| 94 kB 4.7 MB/s \n",
            "\u001b[?25hCollecting aiosignal>=1.1.2\n",
            "  Downloading aiosignal-1.2.0-py3-none-any.whl (8.2 kB)\n",
            "Collecting asynctest==0.13.0\n",
            "  Downloading asynctest-0.13.0-py3-none-any.whl (26 kB)\n",
            "Requirement already satisfied: charset-normalizer<3.0,>=2.0 in /usr/local/lib/python3.7/dist-packages (from aiohttp->datasets) (2.0.12)\n",
            "Requirement already satisfied: attrs>=17.3.0 in /usr/local/lib/python3.7/dist-packages (from aiohttp->datasets) (21.4.0)\n",
            "Requirement already satisfied: zipp>=0.5 in /usr/local/lib/python3.7/dist-packages (from importlib-metadata->datasets) (3.8.0)\n",
            "Requirement already satisfied: python-dateutil>=2.7.3 in /usr/local/lib/python3.7/dist-packages (from pandas->datasets) (2.8.2)\n",
            "Requirement already satisfied: pytz>=2017.3 in /usr/local/lib/python3.7/dist-packages (from pandas->datasets) (2022.1)\n",
            "Requirement already satisfied: six>=1.5 in /usr/local/lib/python3.7/dist-packages (from python-dateutil>=2.7.3->pandas->datasets) (1.15.0)\n",
            "Installing collected packages: multidict, frozenlist, yarl, urllib3, asynctest, async-timeout, aiosignal, fsspec, aiohttp, xxhash, responses, datasets\n",
            "  Attempting uninstall: urllib3\n",
            "    Found existing installation: urllib3 1.24.3\n",
            "    Uninstalling urllib3-1.24.3:\n",
            "      Successfully uninstalled urllib3-1.24.3\n",
            "\u001b[31mERROR: pip's dependency resolver does not currently take into account all the packages that are installed. This behaviour is the source of the following dependency conflicts.\n",
            "datascience 0.10.6 requires folium==0.2.1, but you have folium 0.8.3 which is incompatible.\u001b[0m\n",
            "Successfully installed aiohttp-3.8.1 aiosignal-1.2.0 async-timeout-4.0.2 asynctest-0.13.0 datasets-2.3.2 frozenlist-1.3.0 fsspec-2022.5.0 multidict-6.0.2 responses-0.18.0 urllib3-1.25.11 xxhash-3.0.0 yarl-1.7.2\n"
          ]
        }
      ]
    },
    {
      "cell_type": "code",
      "source": [
        "import tensorflow as tf\n",
        "import transformers\n",
        "from transformers import DistilBertTokenizer, TFBertModel, TFDistilBertForMultipleChoice\n",
        "from transformers import TFDistilBertForSequenceClassification\n",
        "from transformers import AutoTokenizer, AutoModelForSequenceClassification, TFGPT2ForSequenceClassification, TFRobertaForSequenceClassification\n",
        "\n",
        "import json\n",
        "\n",
        "MODEL_NAME = 'microsoft/codebert-base'\n",
        "#MODEL_NAME = 'huggingface/CodeBERTa-small-v1'\n",
        "BATCH_SIZE = 10\n",
        "N_EPOCHS = 3\n"
      ],
      "metadata": {
        "id": "29aGfcF0UO3x"
      },
      "execution_count": null,
      "outputs": []
    },
    {
      "cell_type": "code",
      "source": [
        "task2_x = []\n",
        "task2_y = []\n",
        "task2_test_x = []\n",
        "task2_test_y = []\n",
        "\n",
        "with open(\"train_x.txt\", 'r') as f:\n",
        "  for line in f:\n",
        "    task2_x.append(line)\n",
        "\n",
        "\n",
        "with open(\"train_y.txt\", 'r') as f:\n",
        "  for line in f:\n",
        "    task2_y.append(line)\n",
        "\n",
        "\n",
        "with open(\"test_x.txt\", 'r') as f:\n",
        "  for line in f:\n",
        "    task2_test_x.append(line)\n",
        "\n",
        "\n",
        "with open(\"test_y.txt\", 'r') as f:\n",
        "  for line in f:\n",
        "    task2_test_y.append(line)\n",
        "\n",
        "\n",
        "print(len(task2_x), len(task2_y),len(task2_test_x),len(task2_test_y))"
      ],
      "metadata": {
        "colab": {
          "base_uri": "https://localhost:8080/"
        },
        "id": "HE2NE3UAUO1V",
        "outputId": "5e2dfaa8-997f-4a76-e8bc-e5003c276f89"
      },
      "execution_count": null,
      "outputs": [
        {
          "output_type": "stream",
          "name": "stdout",
          "text": [
            "1816 1816 202 202\n"
          ]
        }
      ]
    },
    {
      "cell_type": "code",
      "source": [
        "#tokenizer2 = DistilBertTokenizer.from_pretrained(MODEL_NAME)\n",
        "tokenizer2 = AutoTokenizer.from_pretrained(MODEL_NAME)\n",
        "# if tokenizer2.pad_token is None:\n",
        "#     tokenizer2.add_special_tokens({'pad_token': '[PAD]'})\n",
        "\n",
        "\n",
        "#tokenize the text\n",
        "train_encodings2 = tokenizer2(list(task2_x),\n",
        "                            truncation=True, \n",
        "                            padding=True)\n",
        "test_encodings2 = tokenizer2(list(task2_test_x),\n",
        "                           truncation=True, \n",
        "                           padding=True)\n",
        "\n",
        "\n",
        "\n",
        "task2_y_str = []\n",
        "task2_test_y_str = []\n",
        "\n",
        "for a in task2_y:\n",
        "  task2_y_str.append(int(a))\n",
        "\n",
        "for a in task2_test_y:\n",
        "  task2_test_y_str.append(int(a))\n",
        "\n",
        "\n",
        "train_dataset2 = tf.data.Dataset.from_tensor_slices((dict(train_encodings2),\n",
        "                                    list(task2_y_str)))\n",
        "test_dataset2 = tf.data.Dataset.from_tensor_slices((dict(test_encodings2),\n",
        "                                    list(task2_test_y_str)))\n",
        "\n",
        "\n",
        "#model2 = TFDistilBertForSequenceClassification.from_pretrained(MODEL_NAME, num_labels=3)\n",
        "model2 = TFRobertaForSequenceClassification.from_pretrained(MODEL_NAME, num_labels=3,from_pt=True)\n",
        "\n",
        "\n",
        "\n",
        "# model2 = TFGPT2ForSequenceClassification.from_pretrained(\"gpt2\", num_labels=3)\n",
        "\n",
        "#chose the optimizer\n",
        "optimizerr2 = tf.keras.optimizers.Adam(learning_rate=5e-5)\n",
        "#define the loss function \n",
        "losss2 = tf.keras.losses.SparseCategoricalCrossentropy(from_logits=True)\n",
        "#build the model\n",
        "\n",
        "\n",
        "\n",
        "model2.compile(optimizer=optimizerr2,\n",
        "              loss=losss2,\n",
        "              metrics=['accuracy'])\n",
        "\n",
        "\n",
        "# train the model \n",
        "history = model2.fit(train_dataset2.shuffle(len(task2_x)).batch(BATCH_SIZE),epochs=15, batch_size=BATCH_SIZE)\n",
        "\n"
      ],
      "metadata": {
        "colab": {
          "base_uri": "https://localhost:8080/"
        },
        "id": "Am4piJxnUOzD",
        "outputId": "b392e984-e67c-47b1-8d46-aaad3d62f2eb"
      },
      "execution_count": null,
      "outputs": [
        {
          "output_type": "stream",
          "name": "stderr",
          "text": [
            "All PyTorch model weights were used when initializing TFRobertaForSequenceClassification.\n",
            "\n",
            "Some weights or buffers of the TF 2.0 model TFRobertaForSequenceClassification were not initialized from the PyTorch model and are newly initialized: ['classifier.dense.weight', 'classifier.dense.bias', 'classifier.out_proj.weight', 'classifier.out_proj.bias']\n",
            "You should probably TRAIN this model on a down-stream task to be able to use it for predictions and inference.\n"
          ]
        },
        {
          "output_type": "stream",
          "name": "stdout",
          "text": [
            "Epoch 1/15\n",
            "227/227 [==============================] - 241s 999ms/step - loss: 0.7514 - accuracy: 0.7093\n",
            "Epoch 2/15\n",
            "227/227 [==============================] - 227s 999ms/step - loss: 0.6889 - accuracy: 0.7340\n",
            "Epoch 3/15\n",
            "227/227 [==============================] - 227s 998ms/step - loss: 0.6785 - accuracy: 0.7307\n",
            "Epoch 4/15\n",
            "227/227 [==============================] - 227s 999ms/step - loss: 0.6627 - accuracy: 0.7296\n",
            "Epoch 5/15\n",
            "227/227 [==============================] - 227s 999ms/step - loss: 0.6424 - accuracy: 0.7406\n",
            "Epoch 6/15\n",
            "227/227 [==============================] - 227s 999ms/step - loss: 0.6196 - accuracy: 0.7373\n",
            "Epoch 7/15\n",
            "227/227 [==============================] - 227s 999ms/step - loss: 0.6132 - accuracy: 0.7445\n",
            "Epoch 8/15\n",
            "227/227 [==============================] - 227s 999ms/step - loss: 0.5874 - accuracy: 0.7572\n",
            "Epoch 9/15\n",
            "227/227 [==============================] - 227s 999ms/step - loss: 0.5725 - accuracy: 0.7561\n",
            "Epoch 10/15\n",
            "227/227 [==============================] - 227s 998ms/step - loss: 0.5549 - accuracy: 0.7676\n",
            "Epoch 11/15\n",
            "227/227 [==============================] - 227s 998ms/step - loss: 0.5284 - accuracy: 0.7836\n",
            "Epoch 12/15\n",
            "227/227 [==============================] - 227s 999ms/step - loss: 0.5078 - accuracy: 0.7941\n",
            "Epoch 13/15\n",
            "227/227 [==============================] - 227s 999ms/step - loss: 0.4701 - accuracy: 0.8034\n",
            "Epoch 14/15\n",
            "227/227 [==============================] - 227s 999ms/step - loss: 0.4535 - accuracy: 0.8155\n",
            "Epoch 15/15\n",
            "227/227 [==============================] - 227s 998ms/step - loss: 0.4297 - accuracy: 0.8249\n"
          ]
        }
      ]
    },
    {
      "cell_type": "code",
      "source": [
        "import numpy as np\n",
        "from sklearn.metrics import classification_report\n",
        "\n",
        "predictions1_tran = []\n",
        "predictions2_tran = []\n",
        "\n",
        "test = model2.predict(test_dataset2.batch(1)).logits\n",
        "for a in test:\n",
        "  # print(a)\n",
        "  # print(tf.nn.softmax(a, axis=0))\n",
        "  # print(tf.nn.softmax(a, axis=0).numpy())\n",
        "  # print(np.argmax(tf.nn.softmax(a, axis=0).numpy()))\n",
        "  # print(a)\n",
        "\n",
        "  predictions2_tran.append(int(np.argmax(tf.nn.softmax(a, axis=0).numpy())))"
      ],
      "metadata": {
        "id": "sVn1xLvkUOwk"
      },
      "execution_count": null,
      "outputs": []
    },
    {
      "cell_type": "code",
      "source": [
        "print(classification_report(task2_test_y_str, predictions2_tran))"
      ],
      "metadata": {
        "colab": {
          "base_uri": "https://localhost:8080/"
        },
        "id": "sOnwg487UOuI",
        "outputId": "89daa69a-2279-46d2-80d3-40548f51af2e"
      },
      "execution_count": null,
      "outputs": [
        {
          "output_type": "stream",
          "name": "stdout",
          "text": [
            "              precision    recall  f1-score   support\n",
            "\n",
            "           0       0.65      0.47      0.55        51\n",
            "           1       0.81      0.85      0.83       133\n",
            "           2       0.23      0.33      0.27        18\n",
            "\n",
            "    accuracy                           0.71       202\n",
            "   macro avg       0.56      0.55      0.55       202\n",
            "weighted avg       0.72      0.71      0.71       202\n",
            "\n"
          ]
        }
      ]
    },
    {
      "cell_type": "code",
      "source": [
        "from sklearn.metrics import accuracy_score\n",
        "\n",
        "print(accuracy_score(task2_test_y_str, predictions2_tran))"
      ],
      "metadata": {
        "id": "qKA3rAI98irA"
      },
      "execution_count": null,
      "outputs": []
    },
    {
      "cell_type": "code",
      "source": [
        "import matplotlib.pyplot as plt\n",
        "\n",
        "plt.plot(history.history['accuracy'])\n",
        "plt.plot(history.history['loss'])\n",
        "plt.title('Model accuracy/loss')\n",
        "plt.ylabel('Accuracy/Loss')\n",
        "plt.xlabel('Epoch')\n",
        "#plt.legend(['Train', 'Test'], loc='upper left')\n",
        "plt.show()\n",
        "\n",
        "# # Plot training & validation loss values\n",
        "# plt.plot(history.history['loss'])\n",
        "# plt.plot(history.history['val_loss'])\n",
        "# plt.title('Model loss')\n",
        "# plt.ylabel('Loss')\n",
        "# plt.xlabel('Epoch')\n",
        "# plt.legend(['Train', 'Test'], loc='upper left')\n",
        "# plt.show()"
      ],
      "metadata": {
        "colab": {
          "base_uri": "https://localhost:8080/"
        },
        "id": "SsE-3wLVUOm1",
        "outputId": "62760992-511c-4870-b9c8-c530cc95b4dc"
      },
      "execution_count": null,
      "outputs": [
        {
          "output_type": "display_data",
          "data": {
            "text/plain": [
              "<Figure size 432x288 with 1 Axes>"
            ],
            "image/png": "[encoded data removed]"
          },
          "metadata": {
            "needs_background": "light"
          }
        }
      ]
    },
    {
      "cell_type": "code",
      "source": [
        "print(test_dataset2)"
      ],
      "metadata": {
        "id": "2Sk3uh8LUOkQ"
      },
      "execution_count": null,
      "outputs": []
    },
    {
      "cell_type": "code",
      "source": [
        ""
      ],
      "metadata": {
        "id": "SrOtLW2uUOh4"
      },
      "execution_count": null,
      "outputs": []
    },
    {
      "cell_type": "code",
      "source": [
        "# 5 epochs"
      ],
      "metadata": {
        "id": "UcgTfiYZUOfY"
      },
      "execution_count": null,
      "outputs": []
    },
    {
      "cell_type": "code",
      "source": [
        "#tokenizer2 = DistilBertTokenizer.from_pretrained(MODEL_NAME)\n",
        "tokenizer2 = AutoTokenizer.from_pretrained(MODEL_NAME)\n",
        "# if tokenizer2.pad_token is None:\n",
        "#     tokenizer2.add_special_tokens({'pad_token': '[PAD]'})\n",
        "\n",
        "\n",
        "#tokenize the text\n",
        "train_encodings2 = tokenizer2(list(task2_x),\n",
        "                            truncation=True, \n",
        "                            padding=True)\n",
        "test_encodings2 = tokenizer2(list(task2_test_x),\n",
        "                           truncation=True, \n",
        "                           padding=True)\n",
        "\n",
        "\n",
        "\n",
        "task2_y_str = []\n",
        "task2_test_y_str = []\n",
        "\n",
        "for a in task2_y:\n",
        "  task2_y_str.append(int(a))\n",
        "\n",
        "for a in task2_test_y:\n",
        "  task2_test_y_str.append(int(a))\n",
        "\n",
        "\n",
        "train_dataset2 = tf.data.Dataset.from_tensor_slices((dict(train_encodings2),\n",
        "                                    list(task2_y_str)))\n",
        "test_dataset2 = tf.data.Dataset.from_tensor_slices((dict(test_encodings2),\n",
        "                                    list(task2_test_y_str)))\n",
        "\n",
        "\n",
        "#model2 = TFDistilBertForSequenceClassification.from_pretrained(MODEL_NAME, num_labels=3)\n",
        "model2 = TFRobertaForSequenceClassification.from_pretrained(MODEL_NAME, num_labels=3,from_pt=True)\n",
        "\n",
        "\n",
        "\n",
        "# model2 = TFGPT2ForSequenceClassification.from_pretrained(\"gpt2\", num_labels=3)\n",
        "\n",
        "#chose the optimizer\n",
        "optimizerr2 = tf.keras.optimizers.Adam(learning_rate=5e-5)\n",
        "#define the loss function \n",
        "losss2 = tf.keras.losses.SparseCategoricalCrossentropy(from_logits=True)\n",
        "#build the model\n",
        "\n",
        "\n",
        "\n",
        "model2.compile(optimizer=optimizerr2,\n",
        "              loss=losss2,\n",
        "              metrics=['accuracy'])\n",
        "\n",
        "\n",
        "# train the model \n",
        "history = model2.fit(train_dataset2.shuffle(len(task2_x)).batch(BATCH_SIZE),epochs=5, batch_size=BATCH_SIZE)\n"
      ],
      "metadata": {
        "id": "3MtUZwiyUOc1",
        "colab": {
          "base_uri": "https://localhost:8080/"
        },
        "outputId": "e6b198b5-ded8-47cb-9a05-9892d31724c0"
      },
      "execution_count": null,
      "outputs": [
        {
          "output_type": "stream",
          "name": "stderr",
          "text": [
            "All PyTorch model weights were used when initializing TFRobertaForSequenceClassification.\n",
            "\n",
            "Some weights or buffers of the TF 2.0 model TFRobertaForSequenceClassification were not initialized from the PyTorch model and are newly initialized: ['classifier.dense.weight', 'classifier.dense.bias', 'classifier.out_proj.weight', 'classifier.out_proj.bias']\n",
            "You should probably TRAIN this model on a down-stream task to be able to use it for predictions and inference.\n"
          ]
        },
        {
          "output_type": "stream",
          "name": "stdout",
          "text": [
            "Epoch 1/5\n",
            "182/182 [==============================] - 266s 1s/step - loss: 0.7468 - accuracy: 0.7115\n",
            "Epoch 2/5\n",
            "182/182 [==============================] - 219s 1s/step - loss: 0.6752 - accuracy: 0.7351\n",
            "Epoch 3/5\n",
            "182/182 [==============================] - 219s 1s/step - loss: 0.6306 - accuracy: 0.7434\n",
            "Epoch 4/5\n",
            "182/182 [==============================] - 219s 1s/step - loss: 0.6148 - accuracy: 0.7522\n",
            "Epoch 5/5\n",
            "182/182 [==============================] - 219s 1s/step - loss: 0.6010 - accuracy: 0.7528\n"
          ]
        }
      ]
    },
    {
      "cell_type": "code",
      "source": [
        "import numpy as np\n",
        "from sklearn.metrics import classification_report\n",
        "\n",
        "predictions1_tran = []\n",
        "predictions2_tran = []\n",
        "\n",
        "test = model2.predict(test_dataset2.batch(1)).logits\n",
        "for a in test:\n",
        "  # print(a)\n",
        "  # print(tf.nn.softmax(a, axis=0))\n",
        "  # print(tf.nn.softmax(a, axis=0).numpy())\n",
        "  # print(np.argmax(tf.nn.softmax(a, axis=0).numpy()))\n",
        "  # print(a)\n",
        "\n",
        "  predictions2_tran.append(int(np.argmax(tf.nn.softmax(a, axis=0).numpy())))"
      ],
      "metadata": {
        "id": "p4CAUTJmXWnX"
      },
      "execution_count": null,
      "outputs": []
    },
    {
      "cell_type": "code",
      "source": [
        "print(classification_report(task2_test_y_str, predictions2_tran))"
      ],
      "metadata": {
        "colab": {
          "base_uri": "https://localhost:8080/"
        },
        "id": "GSBRFNI7XWkr",
        "outputId": "2262b2f1-d9d1-45f8-b989-98d57a5a01d9"
      },
      "execution_count": null,
      "outputs": [
        {
          "output_type": "stream",
          "name": "stdout",
          "text": [
            "              precision    recall  f1-score   support\n",
            "\n",
            "           0       0.92      0.30      0.45        37\n",
            "           1       0.76      0.98      0.85       139\n",
            "           2       0.50      0.19      0.28        26\n",
            "\n",
            "    accuracy                           0.75       202\n",
            "   macro avg       0.72      0.49      0.53       202\n",
            "weighted avg       0.75      0.75      0.70       202\n",
            "\n"
          ]
        }
      ]
    },
    {
      "cell_type": "code",
      "source": [
        "from sklearn.metrics import accuracy_score\n",
        "\n",
        "print(accuracy_score(task2_test_y_str, predictions2_tran))"
      ],
      "metadata": {
        "colab": {
          "base_uri": "https://localhost:8080/"
        },
        "id": "dc3TJRil8luB",
        "outputId": "5b0d6a0a-df78-4bc9-987c-7c14cb90fc46"
      },
      "execution_count": null,
      "outputs": [
        {
          "output_type": "stream",
          "name": "stdout",
          "text": [
            "0.7524752475247525\n"
          ]
        }
      ]
    },
    {
      "cell_type": "code",
      "source": [
        "import matplotlib.pyplot as plt\n",
        "\n",
        "plt.plot(history.history['accuracy'])\n",
        "plt.plot(history.history['loss'])\n",
        "plt.title('Model accuracy/loss')\n",
        "plt.ylabel('Accuracy/Loss')\n",
        "plt.xlabel('Epoch')\n",
        "#plt.legend(['Train', 'Test'], loc='upper left')\n",
        "plt.show()\n",
        "\n",
        "# # Plot training & validation loss values\n",
        "# plt.plot(history.history['loss'])\n",
        "# plt.plot(history.history['val_loss'])\n",
        "# plt.title('Model loss')\n",
        "# plt.ylabel('Loss')\n",
        "# plt.xlabel('Epoch')\n",
        "# plt.legend(['Train', 'Test'], loc='upper left')\n",
        "# plt.show()"
      ],
      "metadata": {
        "colab": {
          "base_uri": "https://localhost:8080/",
          "height": 295
        },
        "id": "12W_XXpmXWh5",
        "outputId": "95c2b45b-074d-448f-b74a-0c3d15dcac4f"
      },
      "execution_count": null,
      "outputs": [
        {
          "output_type": "display_data",
          "data": {
            "text/plain": [
              "<Figure size 432x288 with 1 Axes>"
            ],
            "image/png": "[encoded data removed]"
          },
          "metadata": {
            "needs_background": "light"
          }
        }
      ]
    },
    {
      "cell_type": "code",
      "source": [
        ""
      ],
      "metadata": {
        "id": "Sfk7U-tBXWe9"
      },
      "execution_count": null,
      "outputs": []
    },
    {
      "cell_type": "code",
      "source": [
        "# 10 epochs"
      ],
      "metadata": {
        "id": "HqtyPkH8XWcU"
      },
      "execution_count": null,
      "outputs": []
    },
    {
      "cell_type": "code",
      "source": [
        "#tokenizer2 = DistilBertTokenizer.from_pretrained(MODEL_NAME)\n",
        "tokenizer2 = AutoTokenizer.from_pretrained(MODEL_NAME)\n",
        "# if tokenizer2.pad_token is None:\n",
        "#     tokenizer2.add_special_tokens({'pad_token': '[PAD]'})\n",
        "\n",
        "\n",
        "#tokenize the text\n",
        "train_encodings2 = tokenizer2(list(task2_x),\n",
        "                            truncation=True, \n",
        "                            padding=True)\n",
        "test_encodings2 = tokenizer2(list(task2_test_x),\n",
        "                           truncation=True, \n",
        "                           padding=True)\n",
        "\n",
        "\n",
        "\n",
        "task2_y_str = []\n",
        "task2_test_y_str = []\n",
        "\n",
        "for a in task2_y:\n",
        "  task2_y_str.append(int(a))\n",
        "\n",
        "for a in task2_test_y:\n",
        "  task2_test_y_str.append(int(a))\n",
        "\n",
        "\n",
        "train_dataset2 = tf.data.Dataset.from_tensor_slices((dict(train_encodings2),\n",
        "                                    list(task2_y_str)))\n",
        "test_dataset2 = tf.data.Dataset.from_tensor_slices((dict(test_encodings2),\n",
        "                                    list(task2_test_y_str)))\n",
        "\n",
        "\n",
        "#model2 = TFDistilBertForSequenceClassification.from_pretrained(MODEL_NAME, num_labels=3)\n",
        "model2 = TFRobertaForSequenceClassification.from_pretrained(MODEL_NAME, num_labels=3,from_pt=True)\n",
        "\n",
        "\n",
        "\n",
        "# model2 = TFGPT2ForSequenceClassification.from_pretrained(\"gpt2\", num_labels=3)\n",
        "\n",
        "#chose the optimizer\n",
        "optimizerr2 = tf.keras.optimizers.Adam(learning_rate=5e-5)\n",
        "#define the loss function \n",
        "losss2 = tf.keras.losses.SparseCategoricalCrossentropy(from_logits=True)\n",
        "#build the model\n",
        "\n",
        "\n",
        "\n",
        "model2.compile(optimizer=optimizerr2,\n",
        "              loss=losss2,\n",
        "              metrics=['accuracy'])\n",
        "\n",
        "\n",
        "# train the model \n",
        "history = model2.fit(train_dataset2.shuffle(len(task2_x)).batch(BATCH_SIZE),epochs=10, batch_size=10)\n"
      ],
      "metadata": {
        "colab": {
          "base_uri": "https://localhost:8080/",
          "height": 1000
        },
        "id": "qH_24s7aXWZU",
        "outputId": "4f7e671a-66f5-4bc8-e994-4352f109a158"
      },
      "execution_count": null,
      "outputs": [
        {
          "output_type": "stream",
          "name": "stderr",
          "text": [
            "All PyTorch model weights were used when initializing TFRobertaForSequenceClassification.\n",
            "\n",
            "Some weights or buffers of the TF 2.0 model TFRobertaForSequenceClassification were not initialized from the PyTorch model and are newly initialized: ['classifier.dense.weight', 'classifier.dense.bias', 'classifier.out_proj.weight', 'classifier.out_proj.bias']\n",
            "You should probably TRAIN this model on a down-stream task to be able to use it for predictions and inference.\n"
          ]
        },
        {
          "output_type": "stream",
          "name": "stdout",
          "text": [
            "Epoch 1/10\n"
          ]
        },
        {
          "output_type": "error",
          "ename": "ResourceExhaustedError",
          "evalue": "ignored",
          "traceback": [
            "\u001b[0;31m---------------------------------------------------------------------------\u001b[0m",
            "\u001b[0;31mResourceExhaustedError\u001b[0m                    Traceback (most recent call last)",
            "\u001b[0;32m<ipython-input-16-0e5eed4dfafc>\u001b[0m in \u001b[0;36m<module>\u001b[0;34m()\u001b[0m\n\u001b[1;32m     52\u001b[0m \u001b[0;34m\u001b[0m\u001b[0m\n\u001b[1;32m     53\u001b[0m \u001b[0;31m# train the model\u001b[0m\u001b[0;34m\u001b[0m\u001b[0;34m\u001b[0m\u001b[0;34m\u001b[0m\u001b[0m\n\u001b[0;32m---> 54\u001b[0;31m \u001b[0mhistory\u001b[0m \u001b[0;34m=\u001b[0m \u001b[0mmodel2\u001b[0m\u001b[0;34m.\u001b[0m\u001b[0mfit\u001b[0m\u001b[0;34m(\u001b[0m\u001b[0mtrain_dataset2\u001b[0m\u001b[0;34m.\u001b[0m\u001b[0mshuffle\u001b[0m\u001b[0;34m(\u001b[0m\u001b[0mlen\u001b[0m\u001b[0;34m(\u001b[0m\u001b[0mtask2_x\u001b[0m\u001b[0;34m)\u001b[0m\u001b[0;34m)\u001b[0m\u001b[0;34m.\u001b[0m\u001b[0mbatch\u001b[0m\u001b[0;34m(\u001b[0m\u001b[0mBATCH_SIZE\u001b[0m\u001b[0;34m)\u001b[0m\u001b[0;34m,\u001b[0m\u001b[0mepochs\u001b[0m\u001b[0;34m=\u001b[0m\u001b[0;36m10\u001b[0m\u001b[0;34m,\u001b[0m \u001b[0mbatch_size\u001b[0m\u001b[0;34m=\u001b[0m\u001b[0;36m8\u001b[0m\u001b[0;34m)\u001b[0m\u001b[0;34m\u001b[0m\u001b[0;34m\u001b[0m\u001b[0m\n\u001b[0m",
            "\u001b[0;32m/usr/local/lib/python3.7/dist-packages/keras/utils/traceback_utils.py\u001b[0m in \u001b[0;36merror_handler\u001b[0;34m(*args, **kwargs)\u001b[0m\n\u001b[1;32m     65\u001b[0m     \u001b[0;32mexcept\u001b[0m \u001b[0mException\u001b[0m \u001b[0;32mas\u001b[0m \u001b[0me\u001b[0m\u001b[0;34m:\u001b[0m  \u001b[0;31m# pylint: disable=broad-except\u001b[0m\u001b[0;34m\u001b[0m\u001b[0;34m\u001b[0m\u001b[0m\n\u001b[1;32m     66\u001b[0m       \u001b[0mfiltered_tb\u001b[0m \u001b[0;34m=\u001b[0m \u001b[0m_process_traceback_frames\u001b[0m\u001b[0;34m(\u001b[0m\u001b[0me\u001b[0m\u001b[0;34m.\u001b[0m\u001b[0m__traceback__\u001b[0m\u001b[0;34m)\u001b[0m\u001b[0;34m\u001b[0m\u001b[0;34m\u001b[0m\u001b[0m\n\u001b[0;32m---> 67\u001b[0;31m       \u001b[0;32mraise\u001b[0m \u001b[0me\u001b[0m\u001b[0;34m.\u001b[0m\u001b[0mwith_traceback\u001b[0m\u001b[0;34m(\u001b[0m\u001b[0mfiltered_tb\u001b[0m\u001b[0;34m)\u001b[0m \u001b[0;32mfrom\u001b[0m \u001b[0;32mNone\u001b[0m\u001b[0;34m\u001b[0m\u001b[0;34m\u001b[0m\u001b[0m\n\u001b[0m\u001b[1;32m     68\u001b[0m     \u001b[0;32mfinally\u001b[0m\u001b[0;34m:\u001b[0m\u001b[0;34m\u001b[0m\u001b[0;34m\u001b[0m\u001b[0m\n\u001b[1;32m     69\u001b[0m       \u001b[0;32mdel\u001b[0m \u001b[0mfiltered_tb\u001b[0m\u001b[0;34m\u001b[0m\u001b[0;34m\u001b[0m\u001b[0m\n",
            "\u001b[0;32m/usr/local/lib/python3.7/dist-packages/tensorflow/python/eager/execute.py\u001b[0m in \u001b[0;36mquick_execute\u001b[0;34m(op_name, num_outputs, inputs, attrs, ctx, name)\u001b[0m\n\u001b[1;32m     53\u001b[0m     \u001b[0mctx\u001b[0m\u001b[0;34m.\u001b[0m\u001b[0mensure_initialized\u001b[0m\u001b[0;34m(\u001b[0m\u001b[0;34m)\u001b[0m\u001b[0;34m\u001b[0m\u001b[0;34m\u001b[0m\u001b[0m\n\u001b[1;32m     54\u001b[0m     tensors = pywrap_tfe.TFE_Py_Execute(ctx._handle, device_name, op_name,\n\u001b[0;32m---> 55\u001b[0;31m                                         inputs, attrs, num_outputs)\n\u001b[0m\u001b[1;32m     56\u001b[0m   \u001b[0;32mexcept\u001b[0m \u001b[0mcore\u001b[0m\u001b[0;34m.\u001b[0m\u001b[0m_NotOkStatusException\u001b[0m \u001b[0;32mas\u001b[0m \u001b[0me\u001b[0m\u001b[0;34m:\u001b[0m\u001b[0;34m\u001b[0m\u001b[0;34m\u001b[0m\u001b[0m\n\u001b[1;32m     57\u001b[0m     \u001b[0;32mif\u001b[0m \u001b[0mname\u001b[0m \u001b[0;32mis\u001b[0m \u001b[0;32mnot\u001b[0m \u001b[0;32mNone\u001b[0m\u001b[0;34m:\u001b[0m\u001b[0;34m\u001b[0m\u001b[0;34m\u001b[0m\u001b[0m\n",
            "\u001b[0;31mResourceExhaustedError\u001b[0m: Graph execution error:\n\nDetected at node 'tf_roberta_for_sequence_classification_5/roberta/encoder/layer_._11/attention/self/transpose_3' defined at (most recent call last):\n    File \"/usr/lib/python3.7/runpy.py\", line 193, in _run_module_as_main\n      \"__main__\", mod_spec)\n    File \"/usr/lib/python3.7/runpy.py\", line 85, in _run_code\n      exec(code, run_globals)\n    File \"/usr/local/lib/python3.7/dist-packages/ipykernel_launcher.py\", line 16, in <module>\n      app.launch_new_instance()\n    File \"/usr/local/lib/python3.7/dist-packages/traitlets/config/application.py\", line 846, in launch_instance\n      app.start()\n    File \"/usr/local/lib/python3.7/dist-packages/ipykernel/kernelapp.py\", line 499, in start\n      self.io_loop.start()\n    File \"/usr/local/lib/python3.7/dist-packages/tornado/platform/asyncio.py\", line 132, in start\n      self.asyncio_loop.run_forever()\n    File \"/usr/lib/python3.7/asyncio/base_events.py\", line 541, in run_forever\n      self._run_once()\n    File \"/usr/lib/python3.7/asyncio/base_events.py\", line 1786, in _run_once\n      handle._run()\n    File \"/usr/lib/python3.7/asyncio/events.py\", line 88, in _run\n      self._context.run(self._callback, *self._args)\n    File \"/usr/local/lib/python3.7/dist-packages/tornado/platform/asyncio.py\", line 122, in _handle_events\n      handler_func(fileobj, events)\n    File \"/usr/local/lib/python3.7/dist-packages/tornado/stack_context.py\", line 300, in null_wrapper\n      return fn(*args, **kwargs)\n    File \"/usr/local/lib/python3.7/dist-packages/zmq/eventloop/zmqstream.py\", line 577, in _handle_events\n      self._handle_recv()\n    File \"/usr/local/lib/python3.7/dist-packages/zmq/eventloop/zmqstream.py\", line 606, in _handle_recv\n      self._run_callback(callback, msg)\n    File \"/usr/local/lib/python3.7/dist-packages/zmq/eventloop/zmqstream.py\", line 556, in _run_callback\n      callback(*args, **kwargs)\n    File \"/usr/local/lib/python3.7/dist-packages/tornado/stack_context.py\", line 300, in null_wrapper\n      return fn(*args, **kwargs)\n    File \"/usr/local/lib/python3.7/dist-packages/ipykernel/kernelbase.py\", line 283, in dispatcher\n      return self.dispatch_shell(stream, msg)\n    File \"/usr/local/lib/python3.7/dist-packages/ipykernel/kernelbase.py\", line 233, in dispatch_shell\n      handler(stream, idents, msg)\n    File \"/usr/local/lib/python3.7/dist-packages/ipykernel/kernelbase.py\", line 399, in execute_request\n      user_expressions, allow_stdin)\n    File \"/usr/local/lib/python3.7/dist-packages/ipykernel/ipkernel.py\", line 208, in do_execute\n      res = shell.run_cell(code, store_history=store_history, silent=silent)\n    File \"/usr/local/lib/python3.7/dist-packages/ipykernel/zmqshell.py\", line 537, in run_cell\n      return super(ZMQInteractiveShell, self).run_cell(*args, **kwargs)\n    File \"/usr/local/lib/python3.7/dist-packages/IPython/core/interactiveshell.py\", line 2718, in run_cell\n      interactivity=interactivity, compiler=compiler, result=result)\n    File \"/usr/local/lib/python3.7/dist-packages/IPython/core/interactiveshell.py\", line 2822, in run_ast_nodes\n      if self.run_code(code, result):\n    File \"/usr/local/lib/python3.7/dist-packages/IPython/core/interactiveshell.py\", line 2882, in run_code\n      exec(code_obj, self.user_global_ns, self.user_ns)\n    File \"<ipython-input-16-0e5eed4dfafc>\", line 54, in <module>\n      history = model2.fit(train_dataset2.shuffle(len(task2_x)).batch(BATCH_SIZE),epochs=10, batch_size=8)\n    File \"/usr/local/lib/python3.7/dist-packages/keras/utils/traceback_utils.py\", line 64, in error_handler\n      return fn(*args, **kwargs)\n    File \"/usr/local/lib/python3.7/dist-packages/keras/engine/training.py\", line 1384, in fit\n      tmp_logs = self.train_function(iterator)\n    File \"/usr/local/lib/python3.7/dist-packages/keras/engine/training.py\", line 1021, in train_function\n      return step_function(self, iterator)\n    File \"/usr/local/lib/python3.7/dist-packages/keras/engine/training.py\", line 1010, in step_function\n      outputs = model.distribute_strategy.run(run_step, args=(data,))\n    File \"/usr/local/lib/python3.7/dist-packages/keras/engine/training.py\", line 1000, in run_step\n      outputs = model.train_step(data)\n    File \"/usr/local/lib/python3.7/dist-packages/transformers/modeling_tf_utils.py\", line 1117, in train_step\n      y_pred = self(x, training=True)\n    File \"/usr/local/lib/python3.7/dist-packages/keras/utils/traceback_utils.py\", line 64, in error_handler\n      return fn(*args, **kwargs)\n    File \"/usr/local/lib/python3.7/dist-packages/keras/engine/base_layer.py\", line 1096, in __call__\n      outputs = call_fn(inputs, *args, **kwargs)\n    File \"/usr/local/lib/python3.7/dist-packages/keras/utils/traceback_utils.py\", line 92, in error_handler\n      return fn(*args, **kwargs)\n    File \"/usr/local/lib/python3.7/dist-packages/transformers/modeling_tf_utils.py\", line 1343, in run_call_with_unpacked_inputs\n      try:\n    File \"/usr/local/lib/python3.7/dist-packages/transformers/models/roberta/modeling_tf_roberta.py\", line 1359, in call\n      outputs = self.roberta(\n    File \"/usr/local/lib/python3.7/dist-packages/keras/utils/traceback_utils.py\", line 64, in error_handler\n      return fn(*args, **kwargs)\n    File \"/usr/local/lib/python3.7/dist-packages/keras/engine/base_layer.py\", line 1096, in __call__\n      outputs = call_fn(inputs, *args, **kwargs)\n    File \"/usr/local/lib/python3.7/dist-packages/keras/utils/traceback_utils.py\", line 92, in error_handler\n      return fn(*args, **kwargs)\n    File \"/usr/local/lib/python3.7/dist-packages/transformers/modeling_tf_utils.py\", line 1343, in run_call_with_unpacked_inputs\n      try:\n    File \"/usr/local/lib/python3.7/dist-packages/transformers/models/roberta/modeling_tf_roberta.py\", line 737, in call\n      encoder_outputs = self.encoder(\n    File \"/usr/local/lib/python3.7/dist-packages/keras/utils/traceback_utils.py\", line 64, in error_handler\n      return fn(*args, **kwargs)\n    File \"/usr/local/lib/python3.7/dist-packages/keras/engine/base_layer.py\", line 1096, in __call__\n      outputs = call_fn(inputs, *args, **kwargs)\n    File \"/usr/local/lib/python3.7/dist-packages/keras/utils/traceback_utils.py\", line 92, in error_handler\n      return fn(*args, **kwargs)\n    File \"/usr/local/lib/python3.7/dist-packages/transformers/models/roberta/modeling_tf_roberta.py\", line 528, in call\n      for i, layer_module in enumerate(self.layer):\n    File \"/usr/local/lib/python3.7/dist-packages/transformers/models/roberta/modeling_tf_roberta.py\", line 534, in call\n      layer_outputs = layer_module(\n    File \"/usr/local/lib/python3.7/dist-packages/keras/utils/traceback_utils.py\", line 64, in error_handler\n      return fn(*args, **kwargs)\n    File \"/usr/local/lib/python3.7/dist-packages/keras/engine/base_layer.py\", line 1096, in __call__\n      outputs = call_fn(inputs, *args, **kwargs)\n    File \"/usr/local/lib/python3.7/dist-packages/keras/utils/traceback_utils.py\", line 92, in error_handler\n      return fn(*args, **kwargs)\n    File \"/usr/local/lib/python3.7/dist-packages/transformers/models/roberta/modeling_tf_roberta.py\", line 443, in call\n      self_attention_outputs = self.attention(\n    File \"/usr/local/lib/python3.7/dist-packages/keras/utils/traceback_utils.py\", line 64, in error_handler\n      return fn(*args, **kwargs)\n    File \"/usr/local/lib/python3.7/dist-packages/keras/engine/base_layer.py\", line 1096, in __call__\n      outputs = call_fn(inputs, *args, **kwargs)\n    File \"/usr/local/lib/python3.7/dist-packages/keras/utils/traceback_utils.py\", line 92, in error_handler\n      return fn(*args, **kwargs)\n    File \"/usr/local/lib/python3.7/dist-packages/transformers/models/roberta/modeling_tf_roberta.py\", line 356, in call\n      self_outputs = self.self_attention(\n    File \"/usr/local/lib/python3.7/dist-packages/keras/utils/traceback_utils.py\", line 64, in error_handler\n      return fn(*args, **kwargs)\n    File \"/usr/local/lib/python3.7/dist-packages/keras/engine/base_layer.py\", line 1096, in __call__\n      outputs = call_fn(inputs, *args, **kwargs)\n    File \"/usr/local/lib/python3.7/dist-packages/keras/utils/traceback_utils.py\", line 92, in error_handler\n      return fn(*args, **kwargs)\n    File \"/usr/local/lib/python3.7/dist-packages/transformers/models/roberta/modeling_tf_roberta.py\", line 304, in call\n      attention_output = tf.transpose(attention_output, perm=[0, 2, 1, 3])\nNode: 'tf_roberta_for_sequence_classification_5/roberta/encoder/layer_._11/attention/self/transpose_3'\nOOM when allocating tensor with shape[10,512,12,64] and type float on /job:localhost/replica:0/task:0/device:GPU:0 by allocator GPU_0_bfc\n\t [[{{node tf_roberta_for_sequence_classification_5/roberta/encoder/layer_._11/attention/self/transpose_3}}]]\nHint: If you want to see a list of allocated tensors when OOM happens, add report_tensor_allocations_upon_oom to RunOptions for current allocation info. This isn't available when running in Eager mode.\n [Op:__inference_train_function_153787]"
          ]
        }
      ]
    },
    {
      "cell_type": "code",
      "source": [
        "import numpy as np\n",
        "from sklearn.metrics import classification_report\n",
        "\n",
        "predictions1_tran = []\n",
        "predictions2_tran = []\n",
        "\n",
        "test = model2.predict(test_dataset2.batch(1)).logits\n",
        "for a in test:\n",
        "  # print(a)\n",
        "  # print(tf.nn.softmax(a, axis=0))\n",
        "  # print(tf.nn.softmax(a, axis=0).numpy())\n",
        "  # print(np.argmax(tf.nn.softmax(a, axis=0).numpy()))\n",
        "  # print(a)\n",
        "\n",
        "  predictions2_tran.append(int(np.argmax(tf.nn.softmax(a, axis=0).numpy())))"
      ],
      "metadata": {
        "id": "BrlHZIT8XWW3"
      },
      "execution_count": null,
      "outputs": []
    },
    {
      "cell_type": "code",
      "source": [
        "print(classification_report(task2_test_y_str, predictions2_tran))"
      ],
      "metadata": {
        "colab": {
          "base_uri": "https://localhost:8080/"
        },
        "id": "mIa3m2S1XWT_",
        "outputId": "757e7493-f388-4917-fa37-e57d2debfe2d"
      },
      "execution_count": null,
      "outputs": [
        {
          "output_type": "stream",
          "name": "stdout",
          "text": [
            "              precision    recall  f1-score   support\n",
            "\n",
            "           0       0.00      0.00      0.00         0\n",
            "           1       1.00      0.69      0.82       202\n",
            "           2       0.00      0.00      0.00         0\n",
            "\n",
            "    accuracy                           0.69       202\n",
            "   macro avg       0.33      0.23      0.27       202\n",
            "weighted avg       1.00      0.69      0.82       202\n",
            "\n"
          ]
        },
        {
          "output_type": "stream",
          "name": "stderr",
          "text": [
            "/usr/local/lib/python3.7/dist-packages/sklearn/metrics/_classification.py:1318: UndefinedMetricWarning: Recall and F-score are ill-defined and being set to 0.0 in labels with no true samples. Use `zero_division` parameter to control this behavior.\n",
            "  _warn_prf(average, modifier, msg_start, len(result))\n",
            "/usr/local/lib/python3.7/dist-packages/sklearn/metrics/_classification.py:1318: UndefinedMetricWarning: Recall and F-score are ill-defined and being set to 0.0 in labels with no true samples. Use `zero_division` parameter to control this behavior.\n",
            "  _warn_prf(average, modifier, msg_start, len(result))\n",
            "/usr/local/lib/python3.7/dist-packages/sklearn/metrics/_classification.py:1318: UndefinedMetricWarning: Recall and F-score are ill-defined and being set to 0.0 in labels with no true samples. Use `zero_division` parameter to control this behavior.\n",
            "  _warn_prf(average, modifier, msg_start, len(result))\n"
          ]
        }
      ]
    },
    {
      "cell_type": "code",
      "source": [
        "from sklearn.metrics import accuracy_score\n",
        "\n",
        "print(accuracy_score(task2_test_y_str, predictions2_tran))"
      ],
      "metadata": {
        "id": "w-7--WWx8nR6"
      },
      "execution_count": null,
      "outputs": []
    },
    {
      "cell_type": "code",
      "source": [
        "import matplotlib.pyplot as plt\n",
        "\n",
        "plt.plot(history.history['accuracy'])\n",
        "plt.plot(history.history['loss'])\n",
        "plt.title('Model accuracy/loss')\n",
        "plt.ylabel('Accuracy/Loss')\n",
        "plt.xlabel('Epoch')\n",
        "#plt.legend(['Train', 'Test'], loc='upper left')\n",
        "plt.show()\n",
        "\n",
        "# # Plot training & validation loss values\n",
        "# plt.plot(history.history['loss'])\n",
        "# plt.plot(history.history['val_loss'])\n",
        "# plt.title('Model loss')\n",
        "# plt.ylabel('Loss')\n",
        "# plt.xlabel('Epoch')\n",
        "# plt.legend(['Train', 'Test'], loc='upper left')\n",
        "# plt.show()"
      ],
      "metadata": {
        "colab": {
          "base_uri": "https://localhost:8080/",
          "height": 295
        },
        "id": "IBmOJtzyXWRU",
        "outputId": "99672935-c592-40b5-a45f-c52a790a0ff7"
      },
      "execution_count": null,
      "outputs": [
        {
          "output_type": "display_data",
          "data": {
            "text/plain": [
              "<Figure size 432x288 with 1 Axes>"
            ],
            "image/png": "[encoded data removed]"
          },
          "metadata": {
            "needs_background": "light"
          }
        }
      ]
    },
    {
      "cell_type": "code",
      "source": [
        ""
      ],
      "metadata": {
        "id": "MyEnMHKzXWOn"
      },
      "execution_count": null,
      "outputs": []
    },
    {
      "cell_type": "code",
      "source": [
        "# 20 epochs"
      ],
      "metadata": {
        "id": "96-7hrBvXWMD"
      },
      "execution_count": null,
      "outputs": []
    },
    {
      "cell_type": "code",
      "source": [
        "#tokenizer2 = DistilBertTokenizer.from_pretrained(MODEL_NAME)\n",
        "tokenizer2 = AutoTokenizer.from_pretrained(MODEL_NAME)\n",
        "# if tokenizer2.pad_token is None:\n",
        "#     tokenizer2.add_special_tokens({'pad_token': '[PAD]'})\n",
        "\n",
        "\n",
        "#tokenize the text\n",
        "train_encodings2 = tokenizer2(list(task2_x),\n",
        "                            truncation=True, \n",
        "                            padding=True)\n",
        "test_encodings2 = tokenizer2(list(task2_test_x),\n",
        "                           truncation=True, \n",
        "                           padding=True)\n",
        "\n",
        "\n",
        "\n",
        "task2_y_str = []\n",
        "task2_test_y_str = []\n",
        "\n",
        "for a in task2_y:\n",
        "  task2_y_str.append(int(a))\n",
        "\n",
        "for a in task2_test_y:\n",
        "  task2_test_y_str.append(int(a))\n",
        "\n",
        "\n",
        "train_dataset2 = tf.data.Dataset.from_tensor_slices((dict(train_encodings2),\n",
        "                                    list(task2_y_str)))\n",
        "test_dataset2 = tf.data.Dataset.from_tensor_slices((dict(test_encodings2),\n",
        "                                    list(task2_test_y_str)))\n",
        "\n",
        "\n",
        "model2 = TFDistilBertForSequenceClassification.from_pretrained(MODEL_NAME, num_labels=3)\n",
        "#model2 = TFRobertaForSequenceClassification.from_pretrained(MODEL_NAME, num_labels=3,from_pt=True)\n",
        "\n",
        "\n",
        "\n",
        "# model2 = TFGPT2ForSequenceClassification.from_pretrained(\"gpt2\", num_labels=3)\n",
        "\n",
        "#chose the optimizer\n",
        "optimizerr2 = tf.keras.optimizers.Adam(learning_rate=5e-5)\n",
        "#define the loss function \n",
        "losss2 = tf.keras.losses.SparseCategoricalCrossentropy(from_logits=True)\n",
        "#build the model\n",
        "\n",
        "\n",
        "\n",
        "model2.compile(optimizer=optimizerr2,\n",
        "              loss=losss2,\n",
        "              metrics=['accuracy'])\n",
        "\n",
        "\n",
        "# train the model \n",
        "history = model2.fit(train_dataset2.shuffle(len(task2_x)).batch(BATCH_SIZE),epochs=20, batch_size=BATCH_SIZE)\n"
      ],
      "metadata": {
        "colab": {
          "base_uri": "https://localhost:8080/"
        },
        "id": "H6-zJvWSXWJg",
        "outputId": "347b58d6-171a-48de-b8bd-5ccf966ff1b7"
      },
      "execution_count": null,
      "outputs": [
        {
          "output_type": "stream",
          "name": "stderr",
          "text": [
            "All PyTorch model weights were used when initializing TFRobertaForSequenceClassification.\n",
            "\n",
            "Some weights or buffers of the TF 2.0 model TFRobertaForSequenceClassification were not initialized from the PyTorch model and are newly initialized: ['classifier.dense.weight', 'classifier.dense.bias', 'classifier.out_proj.weight', 'classifier.out_proj.bias']\n",
            "You should probably TRAIN this model on a down-stream task to be able to use it for predictions and inference.\n"
          ]
        },
        {
          "output_type": "stream",
          "name": "stdout",
          "text": [
            "Epoch 1/20\n",
            "114/114 [==============================] - 120s 987ms/step - loss: 0.7520 - accuracy: 0.7109\n",
            "Epoch 2/20\n",
            "114/114 [==============================] - 112s 984ms/step - loss: 0.6834 - accuracy: 0.7291\n",
            "Epoch 3/20\n",
            "114/114 [==============================] - 113s 988ms/step - loss: 0.6347 - accuracy: 0.7412\n",
            "Epoch 4/20\n",
            "114/114 [==============================] - 112s 985ms/step - loss: 0.6066 - accuracy: 0.7445\n",
            "Epoch 5/20\n",
            "114/114 [==============================] - 112s 985ms/step - loss: 0.5185 - accuracy: 0.7924\n",
            "Epoch 6/20\n",
            "114/114 [==============================] - 113s 988ms/step - loss: 0.4518 - accuracy: 0.8106\n",
            "Epoch 7/20\n",
            "114/114 [==============================] - 112s 985ms/step - loss: 0.3937 - accuracy: 0.8199\n",
            "Epoch 8/20\n",
            "114/114 [==============================] - 112s 984ms/step - loss: 0.2890 - accuracy: 0.8827\n",
            "Epoch 9/20\n",
            "114/114 [==============================] - 112s 984ms/step - loss: 0.2277 - accuracy: 0.9108\n",
            "Epoch 10/20\n",
            "114/114 [==============================] - 113s 988ms/step - loss: 0.1656 - accuracy: 0.9367\n",
            "Epoch 11/20\n",
            "114/114 [==============================] - 112s 985ms/step - loss: 0.1655 - accuracy: 0.9334\n",
            "Epoch 12/20\n",
            "114/114 [==============================] - 113s 989ms/step - loss: 0.1134 - accuracy: 0.9570\n",
            "Epoch 13/20\n",
            "114/114 [==============================] - 113s 989ms/step - loss: 0.0710 - accuracy: 0.9708\n",
            "Epoch 14/20\n",
            "114/114 [==============================] - 113s 988ms/step - loss: 0.0543 - accuracy: 0.9780\n",
            "Epoch 15/20\n",
            "114/114 [==============================] - 112s 984ms/step - loss: 0.0625 - accuracy: 0.9780\n",
            "Epoch 16/20\n",
            "114/114 [==============================] - 113s 988ms/step - loss: 0.0555 - accuracy: 0.9835\n",
            "Epoch 17/20\n",
            "114/114 [==============================] - 113s 990ms/step - loss: 0.0507 - accuracy: 0.9824\n",
            "Epoch 18/20\n",
            "114/114 [==============================] - 113s 989ms/step - loss: 0.0493 - accuracy: 0.9818\n",
            "Epoch 19/20\n",
            "114/114 [==============================] - 113s 990ms/step - loss: 0.0478 - accuracy: 0.9824\n",
            "Epoch 20/20\n",
            "114/114 [==============================] - 113s 989ms/step - loss: 0.0603 - accuracy: 0.9774\n"
          ]
        }
      ]
    },
    {
      "cell_type": "code",
      "source": [
        "import numpy as np\n",
        "from sklearn.metrics import classification_report\n",
        "\n",
        "predictions1_tran = []\n",
        "predictions2_tran = []\n",
        "\n",
        "test = model2.predict(test_dataset2.batch(1)).logits\n",
        "for a in test:\n",
        "  # print(a)\n",
        "  # print(tf.nn.softmax(a, axis=0))\n",
        "  # print(tf.nn.softmax(a, axis=0).numpy())\n",
        "  # print(np.argmax(tf.nn.softmax(a, axis=0).numpy()))\n",
        "  # print(a)\n",
        "\n",
        "  predictions2_tran.append(int(np.argmax(tf.nn.softmax(a, axis=0).numpy())))"
      ],
      "metadata": {
        "id": "tUOgUlSSXWG9"
      },
      "execution_count": null,
      "outputs": []
    },
    {
      "cell_type": "code",
      "source": [
        "print(classification_report(task2_test_y_str, predictions2_tran))"
      ],
      "metadata": {
        "colab": {
          "base_uri": "https://localhost:8080/"
        },
        "id": "3KCZXD10XWEP",
        "outputId": "2a4577b4-f1d5-44cc-f59d-531246f9a6ba"
      },
      "execution_count": null,
      "outputs": [
        {
          "output_type": "stream",
          "name": "stdout",
          "text": [
            "              precision    recall  f1-score   support\n",
            "\n",
            "           0       0.54      0.57      0.56        35\n",
            "           1       0.80      0.83      0.81       134\n",
            "           2       0.42      0.33      0.37        33\n",
            "\n",
            "    accuracy                           0.70       202\n",
            "   macro avg       0.59      0.58      0.58       202\n",
            "weighted avg       0.69      0.70      0.70       202\n",
            "\n"
          ]
        }
      ]
    },
    {
      "cell_type": "code",
      "source": [
        "from sklearn.metrics import accuracy_score\n",
        "\n",
        "print(accuracy_score(task2_test_y_str, predictions2_tran))"
      ],
      "metadata": {
        "id": "Rl8HU6Y68o7-"
      },
      "execution_count": null,
      "outputs": []
    },
    {
      "cell_type": "code",
      "source": [
        "import matplotlib.pyplot as plt\n",
        "\n",
        "plt.plot(history.history['accuracy'])\n",
        "plt.plot(history.history['loss'])\n",
        "plt.title('Model accuracy/loss')\n",
        "plt.ylabel('Accuracy/Loss')\n",
        "plt.xlabel('Epoch')\n",
        "#plt.legend(['Train', 'Test'], loc='upper left')\n",
        "plt.show()\n",
        "\n",
        "# # Plot training & validation loss values\n",
        "# plt.plot(history.history['loss'])\n",
        "# plt.plot(history.history['val_loss'])\n",
        "# plt.title('Model loss')\n",
        "# plt.ylabel('Loss')\n",
        "# plt.xlabel('Epoch')\n",
        "# plt.legend(['Train', 'Test'], loc='upper left')\n",
        "# plt.show()"
      ],
      "metadata": {
        "colab": {
          "base_uri": "https://localhost:8080/",
          "height": 295
        },
        "id": "KiaWcLDJXuw_",
        "outputId": "d4da26b8-7f76-4562-a112-cb31e298f9d1"
      },
      "execution_count": null,
      "outputs": [
        {
          "output_type": "display_data",
          "data": {
            "text/plain": [
              "<Figure size 432x288 with 1 Axes>"
            ],
            "image/png": "[encoded data removed]"
          },
          "metadata": {
            "needs_background": "light"
          }
        }
      ]
    },
    {
      "cell_type": "code",
      "source": [
        ""
      ],
      "metadata": {
        "id": "wbaK-1w8XuuW"
      },
      "execution_count": null,
      "outputs": []
    },
    {
      "cell_type": "code",
      "source": [
        "# 25 epochs"
      ],
      "metadata": {
        "id": "-mSG6bUkXurn"
      },
      "execution_count": null,
      "outputs": []
    },
    {
      "cell_type": "code",
      "source": [
        "#tokenizer2 = DistilBertTokenizer.from_pretrained(MODEL_NAME)\n",
        "tokenizer2 = AutoTokenizer.from_pretrained(MODEL_NAME)\n",
        "# if tokenizer2.pad_token is None:\n",
        "#     tokenizer2.add_special_tokens({'pad_token': '[PAD]'})\n",
        "\n",
        "\n",
        "#tokenize the text\n",
        "train_encodings2 = tokenizer2(list(task2_x),\n",
        "                            truncation=True, \n",
        "                            padding=True)\n",
        "test_encodings2 = tokenizer2(list(task2_test_x),\n",
        "                           truncation=True, \n",
        "                           padding=True)\n",
        "\n",
        "\n",
        "\n",
        "task2_y_str = []\n",
        "task2_test_y_str = []\n",
        "\n",
        "for a in task2_y:\n",
        "  task2_y_str.append(int(a))\n",
        "\n",
        "for a in task2_test_y:\n",
        "  task2_test_y_str.append(int(a))\n",
        "\n",
        "\n",
        "train_dataset2 = tf.data.Dataset.from_tensor_slices((dict(train_encodings2),\n",
        "                                    list(task2_y_str)))\n",
        "test_dataset2 = tf.data.Dataset.from_tensor_slices((dict(test_encodings2),\n",
        "                                    list(task2_test_y_str)))\n",
        "\n",
        "\n",
        "model2 = TFDistilBertForSequenceClassification.from_pretrained(MODEL_NAME, num_labels=3)\n",
        "#model2 = TFRobertaForSequenceClassification.from_pretrained(MODEL_NAME, num_labels=3,from_pt=True)\n",
        "\n",
        "\n",
        "\n",
        "# model2 = TFGPT2ForSequenceClassification.from_pretrained(\"gpt2\", num_labels=3)\n",
        "\n",
        "#chose the optimizer\n",
        "optimizerr2 = tf.keras.optimizers.Adam(learning_rate=5e-5)\n",
        "#define the loss function \n",
        "losss2 = tf.keras.losses.SparseCategoricalCrossentropy(from_logits=True)\n",
        "#build the model\n",
        "\n",
        "\n",
        "\n",
        "model2.compile(optimizer=optimizerr2,\n",
        "              loss=losss2,\n",
        "              metrics=['accuracy'])\n",
        "\n",
        "\n",
        "# train the model \n",
        "history = model2.fit(train_dataset2.shuffle(len(task2_x)).batch(BATCH_SIZE),epochs=25, batch_size=BATCH_SIZE)\n"
      ],
      "metadata": {
        "id": "Zf6gwOt7Xuo7"
      },
      "execution_count": null,
      "outputs": []
    },
    {
      "cell_type": "code",
      "source": [
        "import numpy as np\n",
        "from sklearn.metrics import classification_report\n",
        "\n",
        "predictions1_tran = []\n",
        "predictions2_tran = []\n",
        "\n",
        "test = model2.predict(test_dataset2.batch(1)).logits\n",
        "for a in test:\n",
        "  # print(a)\n",
        "  # print(tf.nn.softmax(a, axis=0))\n",
        "  # print(tf.nn.softmax(a, axis=0).numpy())\n",
        "  # print(np.argmax(tf.nn.softmax(a, axis=0).numpy()))\n",
        "  # print(a)\n",
        "\n",
        "  predictions2_tran.append(int(np.argmax(tf.nn.softmax(a, axis=0).numpy())))"
      ],
      "metadata": {
        "id": "iC73Q1ybXumW"
      },
      "execution_count": null,
      "outputs": []
    },
    {
      "cell_type": "code",
      "source": [
        "print(classification_report(task2_test_y_str, predictions2_tran))"
      ],
      "metadata": {
        "id": "uMWWRYP2Xujc"
      },
      "execution_count": null,
      "outputs": []
    },
    {
      "cell_type": "code",
      "source": [
        "from sklearn.metrics import accuracy_score\n",
        "\n",
        "print(accuracy_score(task2_test_y_str, predictions2_tran))"
      ],
      "metadata": {
        "id": "dCEM8JwD8qWM"
      },
      "execution_count": null,
      "outputs": []
    },
    {
      "cell_type": "code",
      "source": [
        "import matplotlib.pyplot as plt\n",
        "\n",
        "plt.plot(history.history['accuracy'])\n",
        "plt.plot(history.history['loss'])\n",
        "plt.title('Model accuracy/loss')\n",
        "plt.ylabel('Accuracy/Loss')\n",
        "plt.xlabel('Epoch')\n",
        "#plt.legend(['Train', 'Test'], loc='upper left')\n",
        "plt.show()\n",
        "\n",
        "# # Plot training & validation loss values\n",
        "# plt.plot(history.history['loss'])\n",
        "# plt.plot(history.history['val_loss'])\n",
        "# plt.title('Model loss')\n",
        "# plt.ylabel('Loss')\n",
        "# plt.xlabel('Epoch')\n",
        "# plt.legend(['Train', 'Test'], loc='upper left')\n",
        "# plt.show()"
      ],
      "metadata": {
        "id": "duiKd4qvXugo"
      },
      "execution_count": null,
      "outputs": []
    },
    {
      "cell_type": "code",
      "source": [
        ""
      ],
      "metadata": {
        "id": "lAVWnIOcXueP"
      },
      "execution_count": null,
      "outputs": []
    },
    {
      "cell_type": "code",
      "source": [
        ""
      ],
      "metadata": {
        "id": "FmHqvNgzXubY"
      },
      "execution_count": null,
      "outputs": []
    },
    {
      "cell_type": "code",
      "source": [
        ""
      ],
      "metadata": {
        "id": "w4N-hOadXuZB"
      },
      "execution_count": null,
      "outputs": []
    },
    {
      "cell_type": "code",
      "source": [
        ""
      ],
      "metadata": {
        "id": "SKLpIjoRXuWb"
      },
      "execution_count": null,
      "outputs": []
    },
    {
      "cell_type": "code",
      "source": [
        ""
      ],
      "metadata": {
        "id": "STwGi7A-XuT1"
      },
      "execution_count": null,
      "outputs": []
    },
    {
      "cell_type": "code",
      "source": [
        ""
      ],
      "metadata": {
        "id": "AyYtG4eaXuRQ"
      },
      "execution_count": null,
      "outputs": []
    }
  ]
}